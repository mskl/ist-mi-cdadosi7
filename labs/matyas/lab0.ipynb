{
 "cells": [
  {
   "cell_type": "code",
   "execution_count": 1,
   "metadata": {
    "ExecuteTime": {
     "end_time": "2019-09-29T21:27:53.598447Z",
     "start_time": "2019-09-29T21:27:52.543096Z"
    }
   },
   "outputs": [],
   "source": [
    "import pandas as pd\n",
    "from pandas.plotting import register_matplotlib_converters\n",
    "%matplotlib inline"
   ]
  },
  {
   "cell_type": "code",
   "execution_count": 2,
   "metadata": {
    "ExecuteTime": {
     "end_time": "2019-09-29T21:27:53.632428Z",
     "start_time": "2019-09-29T21:27:53.601036Z"
    }
   },
   "outputs": [],
   "source": [
    "register_matplotlib_converters()\n",
    "data = pd.read_csv('../../data/algae.csv', index_col='date', sep=',', decimal='.', parse_dates=True, infer_datetime_format=True)"
   ]
  },
  {
   "cell_type": "code",
   "execution_count": 3,
   "metadata": {
    "ExecuteTime": {
     "end_time": "2019-09-29T21:27:54.148013Z",
     "start_time": "2019-09-29T21:27:54.101889Z"
    }
   },
   "outputs": [
    {
     "data": {
      "text/html": [
       "<div>\n",
       "<style scoped>\n",
       "    .dataframe tbody tr th:only-of-type {\n",
       "        vertical-align: middle;\n",
       "    }\n",
       "\n",
       "    .dataframe tbody tr th {\n",
       "        vertical-align: top;\n",
       "    }\n",
       "\n",
       "    .dataframe thead th {\n",
       "        text-align: right;\n",
       "    }\n",
       "</style>\n",
       "<table border=\"1\" class=\"dataframe\">\n",
       "  <thead>\n",
       "    <tr style=\"text-align: right;\">\n",
       "      <th></th>\n",
       "      <th>pH</th>\n",
       "      <th>Oxygen</th>\n",
       "      <th>Chloride</th>\n",
       "      <th>Nitrates</th>\n",
       "      <th>Ammonium</th>\n",
       "      <th>Orthophosphate</th>\n",
       "      <th>Phosphate</th>\n",
       "      <th>Chlorophyll</th>\n",
       "    </tr>\n",
       "  </thead>\n",
       "  <tbody>\n",
       "    <tr>\n",
       "      <th>count</th>\n",
       "      <td>199.000000</td>\n",
       "      <td>198.000000</td>\n",
       "      <td>190.000000</td>\n",
       "      <td>198.000000</td>\n",
       "      <td>198.000000</td>\n",
       "      <td>198.000000</td>\n",
       "      <td>198.000000</td>\n",
       "      <td>188.000000</td>\n",
       "    </tr>\n",
       "    <tr>\n",
       "      <th>mean</th>\n",
       "      <td>8.011759</td>\n",
       "      <td>9.117778</td>\n",
       "      <td>43.636842</td>\n",
       "      <td>3.282828</td>\n",
       "      <td>154.447475</td>\n",
       "      <td>83.325909</td>\n",
       "      <td>111.550808</td>\n",
       "      <td>13.541011</td>\n",
       "    </tr>\n",
       "    <tr>\n",
       "      <th>std</th>\n",
       "      <td>0.598302</td>\n",
       "      <td>2.391253</td>\n",
       "      <td>46.830993</td>\n",
       "      <td>3.776458</td>\n",
       "      <td>180.011207</td>\n",
       "      <td>116.783165</td>\n",
       "      <td>102.214088</td>\n",
       "      <td>20.448323</td>\n",
       "    </tr>\n",
       "    <tr>\n",
       "      <th>min</th>\n",
       "      <td>5.600000</td>\n",
       "      <td>1.500000</td>\n",
       "      <td>0.220000</td>\n",
       "      <td>0.050000</td>\n",
       "      <td>5.000000</td>\n",
       "      <td>1.000000</td>\n",
       "      <td>0.900000</td>\n",
       "      <td>0.000000</td>\n",
       "    </tr>\n",
       "    <tr>\n",
       "      <th>25%</th>\n",
       "      <td>7.700000</td>\n",
       "      <td>7.725000</td>\n",
       "      <td>10.985000</td>\n",
       "      <td>1.297500</td>\n",
       "      <td>35.625000</td>\n",
       "      <td>16.000000</td>\n",
       "      <td>19.395000</td>\n",
       "      <td>2.000000</td>\n",
       "    </tr>\n",
       "    <tr>\n",
       "      <th>50%</th>\n",
       "      <td>8.060000</td>\n",
       "      <td>9.800000</td>\n",
       "      <td>32.730000</td>\n",
       "      <td>2.675000</td>\n",
       "      <td>99.665000</td>\n",
       "      <td>41.400000</td>\n",
       "      <td>84.500000</td>\n",
       "      <td>5.200000</td>\n",
       "    </tr>\n",
       "    <tr>\n",
       "      <th>75%</th>\n",
       "      <td>8.400000</td>\n",
       "      <td>10.800000</td>\n",
       "      <td>57.825000</td>\n",
       "      <td>4.447500</td>\n",
       "      <td>203.730000</td>\n",
       "      <td>102.247500</td>\n",
       "      <td>182.160000</td>\n",
       "      <td>18.300000</td>\n",
       "    </tr>\n",
       "    <tr>\n",
       "      <th>max</th>\n",
       "      <td>9.700000</td>\n",
       "      <td>13.400000</td>\n",
       "      <td>391.500000</td>\n",
       "      <td>45.650000</td>\n",
       "      <td>931.830000</td>\n",
       "      <td>771.600000</td>\n",
       "      <td>558.750000</td>\n",
       "      <td>110.460000</td>\n",
       "    </tr>\n",
       "  </tbody>\n",
       "</table>\n",
       "</div>"
      ],
      "text/plain": [
       "               pH      Oxygen    Chloride    Nitrates    Ammonium  \\\n",
       "count  199.000000  198.000000  190.000000  198.000000  198.000000   \n",
       "mean     8.011759    9.117778   43.636842    3.282828  154.447475   \n",
       "std      0.598302    2.391253   46.830993    3.776458  180.011207   \n",
       "min      5.600000    1.500000    0.220000    0.050000    5.000000   \n",
       "25%      7.700000    7.725000   10.985000    1.297500   35.625000   \n",
       "50%      8.060000    9.800000   32.730000    2.675000   99.665000   \n",
       "75%      8.400000   10.800000   57.825000    4.447500  203.730000   \n",
       "max      9.700000   13.400000  391.500000   45.650000  931.830000   \n",
       "\n",
       "       Orthophosphate   Phosphate  Chlorophyll  \n",
       "count      198.000000  198.000000   188.000000  \n",
       "mean        83.325909  111.550808    13.541011  \n",
       "std        116.783165  102.214088    20.448323  \n",
       "min          1.000000    0.900000     0.000000  \n",
       "25%         16.000000   19.395000     2.000000  \n",
       "50%         41.400000   84.500000     5.200000  \n",
       "75%        102.247500  182.160000    18.300000  \n",
       "max        771.600000  558.750000   110.460000  "
      ]
     },
     "execution_count": 3,
     "metadata": {},
     "output_type": "execute_result"
    }
   ],
   "source": [
    "data.describe()"
   ]
  },
  {
   "cell_type": "code",
   "execution_count": 4,
   "metadata": {
    "ExecuteTime": {
     "end_time": "2019-09-29T21:27:55.316213Z",
     "start_time": "2019-09-29T21:27:55.307812Z"
    }
   },
   "outputs": [
    {
     "data": {
      "text/plain": [
       "date\n",
       "2018-09-30    8.10\n",
       "2018-10-05    8.06\n",
       "2018-10-07    8.05\n",
       "2018-10-09    7.55\n",
       "2018-10-11    7.75\n",
       "2018-10-13    6.80\n",
       "2018-10-15    7.40\n",
       "2018-10-17    8.40\n",
       "2018-10-19    8.00\n",
       "2018-10-21    7.29\n",
       "2018-10-23    5.70\n",
       "2018-10-25    6.60\n",
       "2018-10-27    7.83\n",
       "2018-10-29    8.50\n",
       "2018-10-31    8.10\n",
       "2018-11-02    7.30\n",
       "2018-11-04    7.50\n",
       "2018-11-06    8.50\n",
       "2018-11-08    7.60\n",
       "2018-11-10    8.30\n",
       "2018-11-12    8.30\n",
       "2018-11-14    8.00\n",
       "2018-11-16    8.10\n",
       "2018-11-18    7.90\n",
       "2018-11-20    7.80\n",
       "2018-11-22    8.30\n",
       "2018-11-24    8.87\n",
       "2018-11-26    7.30\n",
       "2018-11-28    7.80\n",
       "2018-11-30    8.40\n",
       "              ... \n",
       "2019-07-21    7.40\n",
       "2019-07-23    7.40\n",
       "2019-07-25    7.60\n",
       "2019-07-27    8.10\n",
       "2019-07-29    7.90\n",
       "2019-07-31    7.80\n",
       "2019-08-02    7.50\n",
       "2019-08-04    7.70\n",
       "2019-08-06    8.16\n",
       "2019-08-08    8.50\n",
       "2019-08-10    8.00\n",
       "2019-08-12    8.60\n",
       "2019-08-14    8.20\n",
       "2019-08-16    8.10\n",
       "2019-08-18    8.60\n",
       "2019-08-20    8.30\n",
       "2019-08-22    7.30\n",
       "2019-08-24    8.10\n",
       "2019-08-26    8.10\n",
       "2019-08-28    7.70\n",
       "2019-08-30    7.60\n",
       "2019-09-01    8.80\n",
       "2019-09-03    7.91\n",
       "2019-09-05    8.40\n",
       "2019-09-07    8.20\n",
       "2019-09-09    8.30\n",
       "2019-09-11    8.10\n",
       "2019-09-13    8.40\n",
       "2019-09-15    8.50\n",
       "2019-09-17    8.50\n",
       "Name: pH, Length: 200, dtype: float64"
      ]
     },
     "execution_count": 4,
     "metadata": {},
     "output_type": "execute_result"
    }
   ],
   "source": [
    "col = data['pH'] \n",
    "col"
   ]
  }
 ],
 "metadata": {
  "kernelspec": {
   "display_name": "Python 3",
   "language": "python",
   "name": "python3"
  },
  "language_info": {
   "codemirror_mode": {
    "name": "ipython",
    "version": 3
   },
   "file_extension": ".py",
   "mimetype": "text/x-python",
   "name": "python",
   "nbconvert_exporter": "python",
   "pygments_lexer": "ipython3",
   "version": "3.6.1"
  }
 },
 "nbformat": 4,
 "nbformat_minor": 2
}
