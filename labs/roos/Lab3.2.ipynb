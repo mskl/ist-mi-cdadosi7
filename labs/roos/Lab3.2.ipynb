{
 "cells": [
  {
   "cell_type": "code",
   "execution_count": 190,
   "metadata": {},
   "outputs": [],
   "source": [
    "import numpy as np\n",
    "import pandas as pd\n",
    "import matplotlib.pyplot as plt\n",
    "from sklearn.model_selection import train_test_split\n",
    "import sklearn.metrics as metrics\n",
    "from sklearn.naive_bayes import GaussianNB, MultinomialNB, BernoulliNB\n",
    "\n",
    "\n",
    "data: pd.DataFrame = pd.read_csv('../../data/iris.csv')\n",
    "y: np.ndarray = data.pop('class').values\n",
    "X: np.ndarray = data.values\n",
    "labels = pd.unique(y)\n",
    "\n",
    "#split data\n",
    "trnX, tstX, trnY, tstY = train_test_split(X, y, train_size=0.7, stratify=y)"
   ]
  },
  {
   "cell_type": "code",
   "execution_count": 191,
   "metadata": {},
   "outputs": [
    {
     "name": "stdout",
     "output_type": "stream",
     "text": [
      "<function gca at 0x0000020039EF9F28> [[15  0  0]\n",
      " [ 0 15  0]\n",
      " [ 0  2 13]] ['Iris-setosa' 'Iris-versicolor' 'Iris-virginica']\n"
     ]
    }
   ],
   "source": [
    "clf = MultinomialNB()\n",
    "clf.fit(trnX, trnY)\n",
    "prdY = clf.predict(tstX)\n",
    "cnf_mtx = metrics.confusion_matrix(tstY, prdY, labels)\n",
    "print(plt.gca, cnf_mtx, labels)"
   ]
  },
  {
   "cell_type": "code",
   "execution_count": 192,
   "metadata": {},
   "outputs": [
    {
     "data": {
      "image/png": "[encoded data removed]",
      "text/plain": [
       "<Figure size 432x288 with 2 Axes>"
      ]
     },
     "metadata": {
      "needs_background": "light"
     },
     "output_type": "display_data"
    }
   ],
   "source": [
    "fig = plt.figure()\n",
    "ax = fig.add_subplot(111)\n",
    "cax = ax.matshow(cnf_mtx, interpolation='nearest')\n",
    "fig.colorbar(cax)\n",
    "\n",
    "ax.set_xticklabels(['','Iris-setosa', 'Iris-versicolor', 'Iris-virginica'])\n",
    "ax.set_yticklabels(['','Iris-setosa', 'Iris-versicolor', 'Iris-virginica'])\n",
    "\n",
    "plt.show()"
   ]
  },
  {
   "cell_type": "code",
   "execution_count": 193,
   "metadata": {},
   "outputs": [
    {
     "data": {
      "image/png": "[encoded data removed]",
      "text/plain": [
       "<Figure size 432x288 with 1 Axes>"
      ]
     },
     "metadata": {
      "needs_background": "light"
     },
     "output_type": "display_data"
    }
   ],
   "source": [
    "estimators = {'GaussianNB': GaussianNB(), \n",
    "              'MultinomialNB': MultinomialNB(), \n",
    "              'BernoulyNB': BernoulliNB()}\n",
    "\n",
    "xvalues = []\n",
    "yvalues = []\n",
    "for clf in estimators:\n",
    "    xvalues.append(clf)\n",
    "    estimators[clf].fit(trnX, trnY)\n",
    "    prdY = estimators[clf].predict(tstX)\n",
    "    yvalues.append(metrics.accuracy_score(tstY, prdY))\n",
    "\n",
    "plt.figure()\n",
    "plt.bar(xvalues, yvalues)\n",
    "plt.show()"
   ]
  },
  {
   "cell_type": "code",
   "execution_count": 147,
   "metadata": {},
   "outputs": [
    {
     "data": {
      "text/plain": [
       "array([[15,  0,  0],\n",
       "       [ 0, 15,  0],\n",
       "       [ 0,  0, 15]], dtype=int64)"
      ]
     },
     "execution_count": 147,
     "metadata": {},
     "output_type": "execute_result"
    }
   ],
   "source": [
    "cnf_mtx"
   ]
  },
  {
   "cell_type": "code",
   "execution_count": null,
   "metadata": {},
   "outputs": [],
   "source": []
  }
 ],
 "metadata": {
  "kernelspec": {
   "display_name": "Python 3",
   "language": "python",
   "name": "python3"
  },
  "language_info": {
   "codemirror_mode": {
    "name": "ipython",
    "version": 3
   },
   "file_extension": ".py",
   "mimetype": "text/x-python",
   "name": "python",
   "nbconvert_exporter": "python",
   "pygments_lexer": "ipython3",
   "version": "3.7.3"
  }
 },
 "nbformat": 4,
 "nbformat_minor": 2
}
