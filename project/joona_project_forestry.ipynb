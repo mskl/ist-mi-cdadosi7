{
 "cells": [
  {
   "cell_type": "markdown",
   "metadata": {},
   "source": [
    "# Forest Covertype\n",
    "\n",
    "### Data Set Information:\n",
    "\n",
    "Predicting forest cover type from cartographic variables only (no remotely sensed data). The actual forest cover type for a given observation (30 x 30 meter cell) was determined from US Forest Service (USFS) Region 2 Resource Information System (RIS) data. Independent variables were derived from data originally obtained from US Geological Survey (USGS) and USFS data. Data is in raw form (not scaled) and contains binary (0 or 1) columns of data for qualitative independent variables (wilderness areas and soil types).\n",
    "\n",
    "Some background information for these four wilderness areas: Neota (area 2) probably has the highest mean elevational value of the 4 wilderness areas. Rawah (area 1) and Comanche Peak (area 3) would have a lower mean elevational value, while Cache la Poudre (area 4) would have the lowest mean elevational value.\n",
    "\n",
    "As for primary major tree species in these areas, Neota would have spruce/fir (type 1), while Rawah and Comanche Peak would probably have lodgepole pine (type 2) as their primary species, followed by spruce/fir and aspen (type 5). Cache la Poudre would tend to have Ponderosa pine (type 3), Douglas-fir (type 6), and cottonwood/willow (type 4).\n",
    "\n",
    "The Rawah and Comanche Peak areas would tend to be more typical of the overall dataset than either the Neota or Cache la Poudre, due to their assortment of tree species and range of predictive variable values (elevation, etc.) Cache la Poudre would probably be more unique than the others, due to its relatively low elevation range and species composition.\n",
    "\n",
    "Source: https://archive.ics.uci.edu/ml/datasets/covertype"
   ]
  },
  {
   "cell_type": "code",
   "execution_count": 1,
   "metadata": {
    "ExecuteTime": {
     "end_time": "2019-11-19T11:40:06.179168Z",
     "start_time": "2019-11-19T11:40:00.073406Z"
    }
   },
   "outputs": [],
   "source": [
    "import pandas as pd\n",
    "import numpy as np\n",
    "import matplotlib.pyplot as plt\n",
    "import seaborn as sns\n",
    "from scipy import interp\n",
    "%matplotlib inline\n",
    "\n",
    "# Set random seed to ensure reproducability\n",
    "random_state = 42"
   ]
  },
  {
   "cell_type": "markdown",
   "metadata": {},
   "source": [
    "## Exploratory Data Analysis"
   ]
  },
  {
   "cell_type": "markdown",
   "metadata": {},
   "source": [
    "10 numerical,\n",
    "44 binary and\n",
    "1 class variable with 7 distinct classes"
   ]
  },
  {
   "cell_type": "code",
   "execution_count": 2,
   "metadata": {
    "ExecuteTime": {
     "end_time": "2019-11-19T11:40:06.213213Z",
     "start_time": "2019-11-19T11:40:06.185268Z"
    }
   },
   "outputs": [],
   "source": [
    "# Column names extracted from the dataset description file\n",
    "columns = [\"Elevation\", \"Aspect\", \"Slope\", \"Horizontal_Distance_To_Hydrology\", \n",
    "         \"Vertical_Distance_To_Hydrology\", \"Horizontal_Distance_To_Roadways\", \n",
    "         \"Hillshade_9am\", \"Hillshade_Noon\", \"Hillshade_3pm\", \n",
    "         \"Horizontal_Distance_To_Fire_Points\", \"Rawah\", \"Neota\", \"Comanche Peak\", \"Cache la Poudre\"] + \\\n",
    "       [\"Soil_Type {}\".format(i) for i in range(40)] + [\"Cover_Type\"]"
   ]
  },
  {
   "cell_type": "code",
   "execution_count": 3,
   "metadata": {
    "ExecuteTime": {
     "end_time": "2019-11-19T11:40:19.689111Z",
     "start_time": "2019-11-19T11:40:06.217206Z"
    }
   },
   "outputs": [
    {
     "data": {
      "text/html": [
       "<div>\n",
       "<style scoped>\n",
       "    .dataframe tbody tr th:only-of-type {\n",
       "        vertical-align: middle;\n",
       "    }\n",
       "\n",
       "    .dataframe tbody tr th {\n",
       "        vertical-align: top;\n",
       "    }\n",
       "\n",
       "    .dataframe thead th {\n",
       "        text-align: right;\n",
       "    }\n",
       "</style>\n",
       "<table border=\"1\" class=\"dataframe\">\n",
       "  <thead>\n",
       "    <tr style=\"text-align: right;\">\n",
       "      <th></th>\n",
       "      <th>Elevation</th>\n",
       "      <th>Aspect</th>\n",
       "      <th>Slope</th>\n",
       "      <th>Horizontal_Distance_To_Hydrology</th>\n",
       "      <th>Vertical_Distance_To_Hydrology</th>\n",
       "      <th>Horizontal_Distance_To_Roadways</th>\n",
       "      <th>Hillshade_9am</th>\n",
       "      <th>Hillshade_Noon</th>\n",
       "      <th>Hillshade_3pm</th>\n",
       "      <th>Horizontal_Distance_To_Fire_Points</th>\n",
       "      <th>...</th>\n",
       "      <th>Soil_Type 31</th>\n",
       "      <th>Soil_Type 32</th>\n",
       "      <th>Soil_Type 33</th>\n",
       "      <th>Soil_Type 34</th>\n",
       "      <th>Soil_Type 35</th>\n",
       "      <th>Soil_Type 36</th>\n",
       "      <th>Soil_Type 37</th>\n",
       "      <th>Soil_Type 38</th>\n",
       "      <th>Soil_Type 39</th>\n",
       "      <th>Cover_Type</th>\n",
       "    </tr>\n",
       "  </thead>\n",
       "  <tbody>\n",
       "    <tr>\n",
       "      <th>0</th>\n",
       "      <td>2596</td>\n",
       "      <td>51</td>\n",
       "      <td>3</td>\n",
       "      <td>258</td>\n",
       "      <td>0</td>\n",
       "      <td>510</td>\n",
       "      <td>221</td>\n",
       "      <td>232</td>\n",
       "      <td>148</td>\n",
       "      <td>6279</td>\n",
       "      <td>...</td>\n",
       "      <td>0</td>\n",
       "      <td>0</td>\n",
       "      <td>0</td>\n",
       "      <td>0</td>\n",
       "      <td>0</td>\n",
       "      <td>0</td>\n",
       "      <td>0</td>\n",
       "      <td>0</td>\n",
       "      <td>0</td>\n",
       "      <td>5</td>\n",
       "    </tr>\n",
       "    <tr>\n",
       "      <th>1</th>\n",
       "      <td>2590</td>\n",
       "      <td>56</td>\n",
       "      <td>2</td>\n",
       "      <td>212</td>\n",
       "      <td>-6</td>\n",
       "      <td>390</td>\n",
       "      <td>220</td>\n",
       "      <td>235</td>\n",
       "      <td>151</td>\n",
       "      <td>6225</td>\n",
       "      <td>...</td>\n",
       "      <td>0</td>\n",
       "      <td>0</td>\n",
       "      <td>0</td>\n",
       "      <td>0</td>\n",
       "      <td>0</td>\n",
       "      <td>0</td>\n",
       "      <td>0</td>\n",
       "      <td>0</td>\n",
       "      <td>0</td>\n",
       "      <td>5</td>\n",
       "    </tr>\n",
       "    <tr>\n",
       "      <th>2</th>\n",
       "      <td>2804</td>\n",
       "      <td>139</td>\n",
       "      <td>9</td>\n",
       "      <td>268</td>\n",
       "      <td>65</td>\n",
       "      <td>3180</td>\n",
       "      <td>234</td>\n",
       "      <td>238</td>\n",
       "      <td>135</td>\n",
       "      <td>6121</td>\n",
       "      <td>...</td>\n",
       "      <td>0</td>\n",
       "      <td>0</td>\n",
       "      <td>0</td>\n",
       "      <td>0</td>\n",
       "      <td>0</td>\n",
       "      <td>0</td>\n",
       "      <td>0</td>\n",
       "      <td>0</td>\n",
       "      <td>0</td>\n",
       "      <td>2</td>\n",
       "    </tr>\n",
       "    <tr>\n",
       "      <th>3</th>\n",
       "      <td>2785</td>\n",
       "      <td>155</td>\n",
       "      <td>18</td>\n",
       "      <td>242</td>\n",
       "      <td>118</td>\n",
       "      <td>3090</td>\n",
       "      <td>238</td>\n",
       "      <td>238</td>\n",
       "      <td>122</td>\n",
       "      <td>6211</td>\n",
       "      <td>...</td>\n",
       "      <td>0</td>\n",
       "      <td>0</td>\n",
       "      <td>0</td>\n",
       "      <td>0</td>\n",
       "      <td>0</td>\n",
       "      <td>0</td>\n",
       "      <td>0</td>\n",
       "      <td>0</td>\n",
       "      <td>0</td>\n",
       "      <td>2</td>\n",
       "    </tr>\n",
       "    <tr>\n",
       "      <th>4</th>\n",
       "      <td>2595</td>\n",
       "      <td>45</td>\n",
       "      <td>2</td>\n",
       "      <td>153</td>\n",
       "      <td>-1</td>\n",
       "      <td>391</td>\n",
       "      <td>220</td>\n",
       "      <td>234</td>\n",
       "      <td>150</td>\n",
       "      <td>6172</td>\n",
       "      <td>...</td>\n",
       "      <td>0</td>\n",
       "      <td>0</td>\n",
       "      <td>0</td>\n",
       "      <td>0</td>\n",
       "      <td>0</td>\n",
       "      <td>0</td>\n",
       "      <td>0</td>\n",
       "      <td>0</td>\n",
       "      <td>0</td>\n",
       "      <td>5</td>\n",
       "    </tr>\n",
       "  </tbody>\n",
       "</table>\n",
       "<p>5 rows × 55 columns</p>\n",
       "</div>"
      ],
      "text/plain": [
       "   Elevation  Aspect  Slope  Horizontal_Distance_To_Hydrology  \\\n",
       "0       2596      51      3                               258   \n",
       "1       2590      56      2                               212   \n",
       "2       2804     139      9                               268   \n",
       "3       2785     155     18                               242   \n",
       "4       2595      45      2                               153   \n",
       "\n",
       "   Vertical_Distance_To_Hydrology  Horizontal_Distance_To_Roadways  \\\n",
       "0                               0                              510   \n",
       "1                              -6                              390   \n",
       "2                              65                             3180   \n",
       "3                             118                             3090   \n",
       "4                              -1                              391   \n",
       "\n",
       "   Hillshade_9am  Hillshade_Noon  Hillshade_3pm  \\\n",
       "0            221             232            148   \n",
       "1            220             235            151   \n",
       "2            234             238            135   \n",
       "3            238             238            122   \n",
       "4            220             234            150   \n",
       "\n",
       "   Horizontal_Distance_To_Fire_Points     ...      Soil_Type 31  Soil_Type 32  \\\n",
       "0                                6279     ...                 0             0   \n",
       "1                                6225     ...                 0             0   \n",
       "2                                6121     ...                 0             0   \n",
       "3                                6211     ...                 0             0   \n",
       "4                                6172     ...                 0             0   \n",
       "\n",
       "   Soil_Type 33  Soil_Type 34  Soil_Type 35  Soil_Type 36  Soil_Type 37  \\\n",
       "0             0             0             0             0             0   \n",
       "1             0             0             0             0             0   \n",
       "2             0             0             0             0             0   \n",
       "3             0             0             0             0             0   \n",
       "4             0             0             0             0             0   \n",
       "\n",
       "   Soil_Type 38  Soil_Type 39  Cover_Type  \n",
       "0             0             0           5  \n",
       "1             0             0           5  \n",
       "2             0             0           2  \n",
       "3             0             0           2  \n",
       "4             0             0           5  \n",
       "\n",
       "[5 rows x 55 columns]"
      ]
     },
     "execution_count": 3,
     "metadata": {},
     "output_type": "execute_result"
    }
   ],
   "source": [
    "data = pd.read_csv('dataset/covtype.data', header=None, names=columns)\n",
    "data.head()"
   ]
  },
  {
   "cell_type": "code",
   "execution_count": null,
   "metadata": {
    "ExecuteTime": {
     "end_time": "2019-11-17T15:18:49.228151Z",
     "start_time": "2019-11-17T15:18:49.046721Z"
    }
   },
   "outputs": [],
   "source": [
    "data.info()"
   ]
  },
  {
   "cell_type": "markdown",
   "metadata": {},
   "source": [
    "There are no missing values and datatypes are also in desireable format. Let's investigate distributions of numerical variables."
   ]
  },
  {
   "cell_type": "code",
   "execution_count": null,
   "metadata": {
    "ExecuteTime": {
     "end_time": "2019-11-18T13:07:45.749694Z",
     "start_time": "2019-11-18T13:07:45.058627Z"
    }
   },
   "outputs": [],
   "source": [
    "# Setting display format\n",
    "pd.set_option('display.float_format', lambda x: '%.2f' % x)\n",
    "\n",
    "# Extracting columns containing numerical values\n",
    "numerical = ['Elevation', 'Aspect', 'Slope', 'Horizontal_Distance_To_Hydrology', \n",
    "             'Vertical_Distance_To_Hydrology', 'Horizontal_Distance_To_Roadways', \n",
    "             'Hillshade_9am', 'Hillshade_Noon', 'Hillshade_3pm', 'Horizontal_Distance_To_Fire_Points']\n",
    "\n",
    "# Describing numerical variables\n",
    "data[numerical].describe()"
   ]
  },
  {
   "cell_type": "code",
   "execution_count": null,
   "metadata": {
    "ExecuteTime": {
     "end_time": "2019-11-17T15:29:09.936701Z",
     "start_time": "2019-11-17T15:29:06.729070Z"
    }
   },
   "outputs": [],
   "source": [
    "data[numerical].hist(figsize=(16, 20), bins=50);"
   ]
  },
  {
   "cell_type": "markdown",
   "metadata": {},
   "source": [
    "There doesn't seem to be clear outliers. Next we can plot counts of binary features."
   ]
  },
  {
   "cell_type": "code",
   "execution_count": null,
   "metadata": {
    "ExecuteTime": {
     "end_time": "2019-11-17T15:30:08.587493Z",
     "start_time": "2019-11-17T15:30:00.732693Z"
    }
   },
   "outputs": [],
   "source": [
    "# Extracting binary feature column names\n",
    "binary = data.iloc[:,10:54].columns.values.tolist()\n",
    "\n",
    "# Counting binary variables\n",
    "counts = data[binary][data[binary] == 1].count()\n",
    "\n",
    "fig, ax = plt.subplots(figsize=(20, 15))\n",
    "plt.barh(counts.index, counts.iloc[0:])\n",
    "plt.xlabel('Count')\n",
    "plt.title('Binary variables')\n",
    "plt.show()"
   ]
  },
  {
   "cell_type": "markdown",
   "metadata": {},
   "source": [
    "Plotting class distribution"
   ]
  },
  {
   "cell_type": "code",
   "execution_count": null,
   "metadata": {
    "ExecuteTime": {
     "end_time": "2019-11-19T11:28:17.335346Z",
     "start_time": "2019-11-19T11:28:16.883691Z"
    }
   },
   "outputs": [],
   "source": [
    "sns.countplot(data.Cover_Type);\n",
    "print(data.Cover_Type.value_counts())"
   ]
  },
  {
   "cell_type": "markdown",
   "metadata": {},
   "source": [
    "As we can see, the dataset is highly unbalanced. We need to undersample majority classes in order not to skew performance of classifiers. Lets undersample all classes to include => 10k samples. We can also use SMOTE for the class number 4, in order to make the dataset fully balanced."
   ]
  },
  {
   "cell_type": "code",
   "execution_count": 4,
   "metadata": {
    "ExecuteTime": {
     "end_time": "2019-11-19T11:40:20.365316Z",
     "start_time": "2019-11-19T11:40:19.719169Z"
    }
   },
   "outputs": [],
   "source": [
    "# Splitting dataset into feature and target variables\n",
    "y = data.pop('Cover_Type')\n",
    "X = data\n",
    "labels = data.columns"
   ]
  },
  {
   "cell_type": "code",
   "execution_count": 6,
   "metadata": {
    "ExecuteTime": {
     "end_time": "2019-11-19T11:40:24.838918Z",
     "start_time": "2019-11-19T11:40:24.828827Z"
    }
   },
   "outputs": [],
   "source": [
    "# Run this sell twice, unclear why throws error on the first run\n",
    "from imblearn.over_sampling import SMOTE"
   ]
  },
  {
   "cell_type": "code",
   "execution_count": 7,
   "metadata": {
    "ExecuteTime": {
     "end_time": "2019-11-19T11:40:32.160487Z",
     "start_time": "2019-11-19T11:40:26.785395Z"
    }
   },
   "outputs": [
    {
     "data": {
      "image/png": "[encoded data removed]",
      "text/plain": [
       "<matplotlib.figure.Figure at 0x21480a872e8>"
      ]
     },
     "metadata": {
      "needs_background": "light"
     },
     "output_type": "display_data"
    }
   ],
   "source": [
    "# SMOTE for oversampling class number 4 to include as many observations as class 5 (new minority class)\n",
    "sm = SMOTE(sampling_strategy={4: 9493}, random_state=random_state)\n",
    "X_resampled, y_resampled = sm.fit_resample(X, y)\n",
    "\n",
    "sns.countplot(y_resampled);"
   ]
  },
  {
   "cell_type": "code",
   "execution_count": 8,
   "metadata": {
    "ExecuteTime": {
     "end_time": "2019-11-19T11:40:33.597637Z",
     "start_time": "2019-11-19T11:40:32.164481Z"
    }
   },
   "outputs": [
    {
     "data": {
      "image/png": "[encoded data removed]",
      "text/plain": [
       "<matplotlib.figure.Figure at 0x21480ad1080>"
      ]
     },
     "metadata": {
      "needs_background": "light"
     },
     "output_type": "display_data"
    }
   ],
   "source": [
    "from imblearn.under_sampling import RandomUnderSampler\n",
    "\n",
    "# Randomly undersampling rest of the classes\n",
    "rus = RandomUnderSampler(sampling_strategy='not minority', random_state=random_state)\n",
    "X_rus, y_rus = rus.fit_sample(X_resampled, y_resampled)\n",
    "\n",
    "sns.countplot(y_rus);"
   ]
  },
  {
   "cell_type": "markdown",
   "metadata": {},
   "source": [
    "All classes are now sampled, now we can explore feature distributions again."
   ]
  },
  {
   "cell_type": "code",
   "execution_count": 9,
   "metadata": {
    "ExecuteTime": {
     "end_time": "2019-11-19T11:40:33.853435Z",
     "start_time": "2019-11-19T11:40:33.837458Z"
    }
   },
   "outputs": [],
   "source": [
    "X = pd.DataFrame(X_rus, columns=labels)\n",
    "y = pd.DataFrame(y_rus, columns=['Cover_Type'])"
   ]
  },
  {
   "cell_type": "code",
   "execution_count": null,
   "metadata": {
    "ExecuteTime": {
     "end_time": "2019-11-17T15:30:33.214196Z",
     "start_time": "2019-11-17T15:30:33.047645Z"
    }
   },
   "outputs": [],
   "source": [
    "X[numerical].describe()"
   ]
  },
  {
   "cell_type": "code",
   "execution_count": null,
   "metadata": {
    "ExecuteTime": {
     "end_time": "2019-11-17T15:30:37.890464Z",
     "start_time": "2019-11-17T15:30:34.328372Z"
    }
   },
   "outputs": [],
   "source": [
    "X[numerical].hist(figsize=(16, 20), bins=50);"
   ]
  },
  {
   "cell_type": "code",
   "execution_count": null,
   "metadata": {
    "ExecuteTime": {
     "end_time": "2019-11-17T15:30:38.961187Z",
     "start_time": "2019-11-17T15:30:37.894453Z"
    }
   },
   "outputs": [],
   "source": [
    "# Extracting binary feature column names\n",
    "binary = X.iloc[:,10:54].columns.values.tolist()\n",
    "\n",
    "# Counting binary variables\n",
    "counts = X[binary][X[binary] == 1].count()\n",
    "\n",
    "fig, ax = plt.subplots(figsize=(20, 15))\n",
    "plt.barh(counts.index, counts.iloc[0:])\n",
    "plt.xlabel('Count')\n",
    "plt.title('Binary variables after sampling')\n",
    "plt.show()"
   ]
  },
  {
   "cell_type": "markdown",
   "metadata": {},
   "source": [
    " Next we can plot correlation matrix to study correlations"
   ]
  },
  {
   "cell_type": "code",
   "execution_count": null,
   "metadata": {
    "ExecuteTime": {
     "end_time": "2019-11-18T13:57:40.451052Z",
     "start_time": "2019-11-18T13:57:39.239930Z"
    }
   },
   "outputs": [],
   "source": [
    "fig, ax = plt.subplots(figsize=(20, 15))\n",
    "cmap = sns.diverging_palette(h_neg=210, h_pos=350, as_cmap=True)\n",
    "\n",
    "# Calculate correlations\n",
    "corr = data[numerical].corr()\n",
    "\n",
    "ax = sns.heatmap(data=corr, vmin=0, vmax=1, square=True, cmap=cmap)\n",
    "ax.set(title='Correlation Matrix')\n",
    "plt.show()"
   ]
  },
  {
   "cell_type": "markdown",
   "metadata": {
    "ExecuteTime": {
     "end_time": "2019-11-13T14:52:55.527487Z",
     "start_time": "2019-11-13T14:52:55.486786Z"
    }
   },
   "source": [
    "There seems not to be too high correlation between variables, which is good for classifier performance. All features have some value in constructing the model."
   ]
  },
  {
   "cell_type": "markdown",
   "metadata": {},
   "source": [
    "## Unsupervised Learning"
   ]
  },
  {
   "cell_type": "markdown",
   "metadata": {},
   "source": [
    "As we now true classes of the dataset (ground truth) we can use adjusted rand index (ARI) and Silhouette score as the clustering performance metric. We will use sum of squared errors (inertia) as metric for finding experimental number of clusters for our algorithm."
   ]
  },
  {
   "cell_type": "code",
   "execution_count": 10,
   "metadata": {
    "ExecuteTime": {
     "end_time": "2019-11-19T11:40:40.229484Z",
     "start_time": "2019-11-19T11:40:40.220422Z"
    }
   },
   "outputs": [],
   "source": [
    "X = X.values\n",
    "y = y.values"
   ]
  },
  {
   "cell_type": "markdown",
   "metadata": {},
   "source": [
    "### KMeans Clustering"
   ]
  },
  {
   "cell_type": "code",
   "execution_count": null,
   "metadata": {
    "ExecuteTime": {
     "end_time": "2019-11-13T14:55:44.862783Z",
     "start_time": "2019-11-13T14:55:44.439377Z"
    }
   },
   "outputs": [],
   "source": [
    "from sklearn.cluster import KMeans\n",
    "from sklearn.metrics import adjusted_rand_score, silhouette_score\n",
    "from sklearn.preprocessing import StandardScaler\n",
    "\n",
    "# Standardizing data for clustering\n",
    "X_std = StandardScaler().fit_transform(X.astype('float64'))"
   ]
  },
  {
   "cell_type": "code",
   "execution_count": null,
   "metadata": {
    "ExecuteTime": {
     "end_time": "2019-11-13T13:19:52.628063Z",
     "start_time": "2019-11-13T13:03:58.200414Z"
    }
   },
   "outputs": [],
   "source": [
    "# List for storing sum of squared errors for different kmeans models\n",
    "sse = []\n",
    "\n",
    "for i in np.arange(1,101,5):\n",
    "    kmeans = KMeans(n_clusters=i, random_state=random_state).fit(X_std)\n",
    "    sse.append(kmeans.inertia_)"
   ]
  },
  {
   "cell_type": "code",
   "execution_count": null,
   "metadata": {
    "ExecuteTime": {
     "end_time": "2019-11-13T13:21:01.279459Z",
     "start_time": "2019-11-13T13:21:00.784524Z"
    }
   },
   "outputs": [],
   "source": [
    "plt.plot(np.arange(1,101,5), sse, '-o')\n",
    "plt.xlabel(r'Number of clusters *k*')\n",
    "plt.ylabel('Sum of squared distance');"
   ]
  },
  {
   "cell_type": "markdown",
   "metadata": {},
   "source": [
    "It looks like that k=45 might be good choice for the number of clusters when looking at the elbow plot"
   ]
  },
  {
   "cell_type": "code",
   "execution_count": null,
   "metadata": {
    "ExecuteTime": {
     "end_time": "2019-11-13T13:27:18.779483Z",
     "start_time": "2019-11-13T13:23:52.955759Z"
    }
   },
   "outputs": [],
   "source": [
    "kmeans = KMeans(n_clusters=45, random_state=random_state).fit(X_std)\n",
    "labels_pred = kmeans.labels_\n",
    "\n",
    "print(\"Silhouette score: \", silhouette_score(X, labels_pred))\n",
    "print(\"Adjusted Rand index: \", adjusted_rand_score(y.ravel(), labels_pred))"
   ]
  },
  {
   "cell_type": "markdown",
   "metadata": {},
   "source": [
    "The Rand Index computes a similarity measure between two clusterings by considering all pairs of samples and counting pairs that are assigned in the same or different clusters in the predicted and true clusterings. It gives values from 0 to 1.\n",
    "\n",
    "The best value for silhouette score is 1 and the worst value is -1. Values near 0 indicate overlapping clusters. Negative values generally indicate that a sample has been assigned to the wrong cluster, as a different cluster is more similar.\n",
    "\n",
    "From these results we can infer that the clustering is not that succesfull. Our data is high-dimensional which probably affects clustering results through curse of dimensionality."
   ]
  },
  {
   "cell_type": "markdown",
   "metadata": {},
   "source": [
    "## Supervised Learning"
   ]
  },
  {
   "cell_type": "markdown",
   "metadata": {},
   "source": [
    "## Train/Test split"
   ]
  },
  {
   "cell_type": "code",
   "execution_count": 13,
   "metadata": {
    "ExecuteTime": {
     "end_time": "2019-11-19T11:41:12.685770Z",
     "start_time": "2019-11-19T11:41:12.617714Z"
    }
   },
   "outputs": [],
   "source": [
    "from sklearn.model_selection import train_test_split\n",
    "\n",
    "# Sizes of different sets\n",
    "test_size = 0.2\n",
    "train_size = 0.8\n",
    "\n",
    "trnX, tstX, trnY, tstY = train_test_split(X, y, test_size=test_size, random_state=random_state)"
   ]
  },
  {
   "cell_type": "markdown",
   "metadata": {},
   "source": [
    "## Classification"
   ]
  },
  {
   "cell_type": "markdown",
   "metadata": {},
   "source": [
    "We will be using RandomizedSearchCV for tuning hyperparameters and finding roughly best performing parameters for our models. Because target classes are balanced, we can use accuracy score (default scoring method of most classifiers) for finding these hyperparameters."
   ]
  },
  {
   "cell_type": "code",
   "execution_count": 11,
   "metadata": {
    "ExecuteTime": {
     "end_time": "2019-11-19T11:40:46.043917Z",
     "start_time": "2019-11-19T11:40:45.749500Z"
    }
   },
   "outputs": [],
   "source": [
    "# Importing necessary packages and algorithms\n",
    "from sklearn.model_selection import RandomizedSearchCV\n",
    "from sklearn.model_selection import GridSearchCV\n",
    "from sklearn.model_selection import cross_val_score\n",
    "\n",
    "from sklearn.preprocessing import LabelBinarizer, label_binarize\n",
    "\n",
    "from sklearn.metrics import roc_auc_score, roc_curve, auc, accuracy_score, confusion_matrix\n",
    "\n",
    "from sklearn.naive_bayes import GaussianNB\n",
    "from sklearn.neighbors import KNeighborsClassifier\n",
    "from sklearn.tree import DecisionTreeClassifier\n",
    "from sklearn.ensemble import RandomForestClassifier\n",
    "from xgboost import XGBClassifier"
   ]
  },
  {
   "cell_type": "markdown",
   "metadata": {},
   "source": [
    "### Naive Bayes\n",
    "\n",
    "Naive Bayes methods are a set of supervised learning algorithms based on applying Bayes’ theorem with the “naive” assumption of conditional independence between every pair of features given the value of the class variable."
   ]
  },
  {
   "cell_type": "code",
   "execution_count": null,
   "metadata": {
    "ExecuteTime": {
     "end_time": "2019-11-08T12:07:33.641816Z",
     "start_time": "2019-11-08T12:07:32.357843Z"
    }
   },
   "outputs": [],
   "source": [
    "gnb = cross_val_score(GaussianNB(), trnX, trnY.ravel(), cv=5)\n",
    "\n",
    "print(\"Classifier accuracy: %0.4f (+/- %0.4f)\" % (gnb.mean(), gnb.std() * 2))"
   ]
  },
  {
   "cell_type": "markdown",
   "metadata": {},
   "source": [
    "Classifier accuracy: 0.5988 (+/- 0.0057)"
   ]
  },
  {
   "cell_type": "markdown",
   "metadata": {},
   "source": [
    "### KNN"
   ]
  },
  {
   "cell_type": "code",
   "execution_count": null,
   "metadata": {
    "ExecuteTime": {
     "end_time": "2019-11-08T12:20:41.742281Z",
     "start_time": "2019-11-08T12:09:01.359197Z"
    }
   },
   "outputs": [],
   "source": [
    "grid = {'n_neighbors':[5, 10, 15, 20, 25, 30],\n",
    "        'metric':['minkowski', 'manhattan']}\n",
    "\n",
    "knn = RandomizedSearchCV(KNeighborsClassifier(), \n",
    "                         grid, cv=5, n_iter=10,\n",
    "                         random_state=random_state)\n",
    "\n",
    "knn.fit(trnX, trnY.ravel())\n",
    "\n",
    "print(\"Classifier best score: %.4f for parameters: %s\" % (knn.best_score_.mean(), knn.best_params_))"
   ]
  },
  {
   "cell_type": "markdown",
   "metadata": {},
   "source": [
    "Classifier best score: 0.8843 for parameters: {'n_neighbors': 5, 'metric': 'minkowski'}"
   ]
  },
  {
   "cell_type": "markdown",
   "metadata": {},
   "source": [
    "### Desicion Tree"
   ]
  },
  {
   "cell_type": "code",
   "execution_count": null,
   "metadata": {
    "ExecuteTime": {
     "end_time": "2019-11-08T12:21:14.494148Z",
     "start_time": "2019-11-08T12:20:41.751257Z"
    }
   },
   "outputs": [],
   "source": [
    "grid = {'criterion':['gini', 'entropy'],\n",
    "        'min_samples_split': [3, 5, 7, 9, 11, 13, 15],\n",
    "        'min_samples_leaf': [3, 5, 7, 9, 11, 13, 15],\n",
    "        'max_depth': np.arange(3, 15, 1)}\n",
    "\n",
    "dtc = RandomizedSearchCV(DecisionTreeClassifier(),\n",
    "                         grid, cv=5, n_iter=10,\n",
    "                         random_state=random_state)\n",
    "\n",
    "dtc.fit(trnX, trnY)\n",
    "\n",
    "print(\"Classifier best score: %.4f for parameters: %s\" % (dtc.best_score_.mean(), dtc.best_params_))"
   ]
  },
  {
   "cell_type": "markdown",
   "metadata": {},
   "source": [
    "Classifier best score: 0.8408 for parameters: {'min_samples_split': 9, 'min_samples_leaf': 3, 'max_depth': 14, 'criterion': 'entropy'}"
   ]
  },
  {
   "cell_type": "markdown",
   "metadata": {},
   "source": [
    "### RandomForest"
   ]
  },
  {
   "cell_type": "code",
   "execution_count": null,
   "metadata": {
    "ExecuteTime": {
     "end_time": "2019-11-08T12:29:31.874667Z",
     "start_time": "2019-11-08T12:21:14.499134Z"
    }
   },
   "outputs": [],
   "source": [
    "grid = {'n_estimators': np.arange(10, 300, 10),\n",
    "        'max_features': ['auto', 'sqrt'],\n",
    "       'max_depth': np.arange(1, 15, 1),\n",
    "        'min_samples_split': np.arange(2, 15, 1)}\n",
    "\n",
    "rfc = RandomizedSearchCV(RandomForestClassifier(),\n",
    "                         grid, cv=5, n_iter=10,\n",
    "                         random_state=random_state)\n",
    "\n",
    "rfc.fit(trnX, trnY.ravel())\n",
    "\n",
    "print(\"Classifier best score: %.4f for parameters: %s\" % (rfc.best_score_.mean(), rfc.best_params_))"
   ]
  },
  {
   "cell_type": "markdown",
   "metadata": {
    "ExecuteTime": {
     "end_time": "2019-11-07T11:16:57.337632Z",
     "start_time": "2019-11-07T11:16:57.317624Z"
    }
   },
   "source": [
    "Classifier best score: 0.8421 for parameters: {'n_estimators': 290, 'min_samples_split': 2, 'max_features': 'auto', 'max_depth': 12}"
   ]
  },
  {
   "cell_type": "markdown",
   "metadata": {},
   "source": [
    "### XGBoost"
   ]
  },
  {
   "cell_type": "code",
   "execution_count": 15,
   "metadata": {
    "ExecuteTime": {
     "end_time": "2019-11-19T12:04:58.178351Z",
     "start_time": "2019-11-19T11:51:14.942752Z"
    }
   },
   "outputs": [
    {
     "name": "stdout",
     "output_type": "stream",
     "text": [
      "Mean cross-validation score:  0.9164411936785946\n"
     ]
    }
   ],
   "source": [
    "xgb_clf = XGBClassifier(learning_rate=0.2, n_estimators=100, max_depth=10, seed=random_state, n_jobs=-1)\n",
    "\n",
    "print('Mean cross-validation score: ', np.mean(cross_val_score(xgb_clf, trnX, trnY.ravel(), cv=5)))"
   ]
  },
  {
   "cell_type": "markdown",
   "metadata": {},
   "source": [
    "Mean cross-validation score:  0.9164411936785946"
   ]
  },
  {
   "cell_type": "markdown",
   "metadata": {},
   "source": [
    "## Model Selection\n",
    "\n",
    "Based on the cross validation scores of training, we choose KNN as our classifier. Next we need to test how it performs on the test set. "
   ]
  },
  {
   "cell_type": "code",
   "execution_count": 16,
   "metadata": {
    "ExecuteTime": {
     "end_time": "2019-11-19T12:24:02.404829Z",
     "start_time": "2019-11-19T12:24:02.000341Z"
    }
   },
   "outputs": [
    {
     "data": {
      "image/png": "[encoded data removed]",
      "text/plain": [
       "<matplotlib.figure.Figure at 0x21480b737b8>"
      ]
     },
     "metadata": {
      "needs_background": "light"
     },
     "output_type": "display_data"
    }
   ],
   "source": [
    "# Plotting results\n",
    "results = {'GaussianNB':0.5988, 'KNN':0.8843, 'Decision Tree':0.8408, 'Random Forest':0.8421, 'XGBoost':0.9164}\n",
    "\n",
    "plt.bar(range(len(results)), list(results.values()), align='center')\n",
    "plt.xticks(range(len(results)), list(results.keys()), rotation='vertical')\n",
    "plt.show()"
   ]
  },
  {
   "cell_type": "markdown",
   "metadata": {},
   "source": [
    "## Model Evaluation"
   ]
  },
  {
   "cell_type": "code",
   "execution_count": null,
   "metadata": {
    "ExecuteTime": {
     "end_time": "2019-11-18T13:30:44.074879Z",
     "start_time": "2019-11-18T13:30:44.054909Z"
    }
   },
   "outputs": [],
   "source": [
    "# Labels for confusion matrix\n",
    "labels = ['Spruce', 'Lodgepole', 'Ponderosa', 'Cottonwood', 'Aspen', 'Douglas-fir', 'Krummholz']\n",
    "\n",
    "# Function for plotting the confusion matrix\n",
    "def plot_cnf_mtx(cnf_mtx):\n",
    "    fig, ax = plt.subplots(figsize=(12, 9))\n",
    "    ax = sns.heatmap(cnf_mtx, annot=True, fmt=\"d\", cbar=False, cmap='Blues', square=True)\n",
    "    ax = ax.set(title='Confusion Matrix', xlabel='Predicted Label',\n",
    "                ylabel='True Label', xticklabels=np.arange(1,8,1),\n",
    "                yticklabels=np.arange(1,8,1))\n",
    "\n",
    "# Function for multiclass ROC AUC\n",
    "def multiclass_roc_auc_score(tstY, prdY, average=\"macro\"):\n",
    "    lb = LabelBinarizer().fit(tstY)\n",
    "    tstY = lb.transform(tstY)\n",
    "    prdY = lb.transform(prdY)\n",
    "    return roc_auc_score(tstY, prdY, average=average)"
   ]
  },
  {
   "cell_type": "markdown",
   "metadata": {},
   "source": [
    "### KNearestNeighbors"
   ]
  },
  {
   "cell_type": "code",
   "execution_count": null,
   "metadata": {
    "ExecuteTime": {
     "end_time": "2019-11-18T13:30:47.262048Z",
     "start_time": "2019-11-18T13:30:45.063187Z"
    }
   },
   "outputs": [],
   "source": [
    "# KNN\n",
    "knn = KNeighborsClassifier(n_neighbors=5, metric='minkowski')\n",
    "knn.fit(trnX, trnY.ravel())\n",
    "prdY = knn.predict(tstX)\n",
    "\n",
    "print('Testing Accuracy score:  %.4f' % accuracy_score(tstY, prdY))\n",
    "print('Testing ROC AUC score:  %.4f' % multiclass_roc_auc_score(tstY, prdY))\n",
    "\n",
    "cnf_mtx = confusion_matrix(tstY, prdY)\n",
    "plot_cnf_mtx(cnf_mtx)"
   ]
  },
  {
   "cell_type": "markdown",
   "metadata": {},
   "source": [
    "We can see that KNN had the best performance out of every model we tried out! We can try to use GridSearchCV for further hyperparameter tuning to see if it has any effect on model performance."
   ]
  },
  {
   "cell_type": "markdown",
   "metadata": {},
   "source": [
    "### KNN Further tuning"
   ]
  },
  {
   "cell_type": "code",
   "execution_count": null,
   "metadata": {
    "ExecuteTime": {
     "end_time": "2019-11-08T19:20:40.898777Z",
     "start_time": "2019-11-08T19:10:54.416732Z"
    }
   },
   "outputs": [],
   "source": [
    "grid = {'n_neighbors':np.arange(3,16,1),\n",
    "        'metric':['minkowski']}\n",
    "\n",
    "knn = GridSearchCV(KNeighborsClassifier(), grid, cv=5)\n",
    "\n",
    "knn.fit(trnX, trnY.ravel())\n",
    "\n",
    "print(\"Classifier best score: %.4f for parameters: %s\" % (knn.best_score_.mean(), knn.best_params_))"
   ]
  },
  {
   "cell_type": "markdown",
   "metadata": {},
   "source": [
    "Classifier best score: 0.8988 for parameters: {'metric': 'minkowski', 'n_neighbors': 3}"
   ]
  },
  {
   "cell_type": "code",
   "execution_count": null,
   "metadata": {
    "ExecuteTime": {
     "end_time": "2019-11-17T19:23:33.587507Z",
     "start_time": "2019-11-17T19:23:31.309874Z"
    }
   },
   "outputs": [],
   "source": [
    "knn = KNeighborsClassifier(n_neighbors=3, metric='minkowski')\n",
    "knn.fit(trnX, trnY.ravel())\n",
    "prdY = knn.predict(tstX)\n",
    "\n",
    "print('Testing Accuracy score:  %.4f' % accuracy_score(tstY, prdY))\n",
    "print('Testing ROC AUC score:  %.4f' % multiclass_roc_auc_score(tstY, prdY))\n",
    "\n",
    "cnf_mtx = confusion_matrix(tstY, prdY)\n",
    "plot_cnf_mtx(cnf_mtx)"
   ]
  },
  {
   "cell_type": "code",
   "execution_count": null,
   "metadata": {
    "ExecuteTime": {
     "end_time": "2019-11-17T20:02:19.041660Z",
     "start_time": "2019-11-17T20:02:17.147831Z"
    }
   },
   "outputs": [],
   "source": [
    "# Plotting ROC curve\n",
    "\n",
    "# Binarize the output\n",
    "y = label_binarize(y, classes=[1,2,3,4,5,6,7])\n",
    "n_classes = y.shape[1]\n",
    "\n",
    "trnX, tstX, trnY, tstY = train_test_split(X, y, test_size=test_size, random_state=random_state)\n",
    "\n",
    "y_score = knn.predict_proba(tstX)\n",
    "\n",
    "# Compute ROC curve and ROC area for each class\n",
    "fpr = dict()\n",
    "tpr = dict()\n",
    "roc_auc = dict()\n",
    "for i in range(n_classes):\n",
    "    fpr[i], tpr[i], _ = roc_curve(tstY[:, i], y_score[:, i])\n",
    "    roc_auc[i] = auc(fpr[i], tpr[i])\n",
    "\n",
    "# Compute micro-average ROC curve and ROC area\n",
    "fpr[\"micro\"], tpr[\"micro\"], _ = roc_curve(tstY.ravel(), y_score.ravel())\n",
    "roc_auc[\"micro\"] = auc(fpr[\"micro\"], tpr[\"micro\"])"
   ]
  },
  {
   "cell_type": "code",
   "execution_count": null,
   "metadata": {
    "ExecuteTime": {
     "end_time": "2019-11-17T20:02:21.148688Z",
     "start_time": "2019-11-17T20:02:20.513989Z"
    }
   },
   "outputs": [],
   "source": [
    "# First aggregate all false positive rates\n",
    "all_fpr = np.unique(np.concatenate([fpr[i] for i in range(n_classes)]))\n",
    "\n",
    "# Then interpolate all ROC curves at this points\n",
    "mean_tpr = np.zeros_like(all_fpr)\n",
    "for i in range(n_classes):\n",
    "    mean_tpr += interp(all_fpr, fpr[i], tpr[i])\n",
    "\n",
    "# Finally average it and compute AUC\n",
    "mean_tpr /= n_classes\n",
    "\n",
    "fpr[\"macro\"] = all_fpr\n",
    "tpr[\"macro\"] = mean_tpr\n",
    "roc_auc[\"macro\"] = auc(fpr[\"macro\"], tpr[\"macro\"])\n",
    "\n",
    "# Plot all ROC curves\n",
    "plt.figure(figsize=(12, 9))\n",
    "lw = 2\n",
    "plt.plot(fpr[\"micro\"], tpr[\"micro\"],\n",
    "         label='micro-average ROC curve (area = {0:0.2f})'\n",
    "               ''.format(roc_auc[\"micro\"]),\n",
    "         color='deeppink', linestyle=':', linewidth=4)\n",
    "\n",
    "plt.plot(fpr[\"macro\"], tpr[\"macro\"],\n",
    "         label='macro-average ROC curve (area = {0:0.2f})'\n",
    "               ''.format(roc_auc[\"macro\"]),\n",
    "         color='navy', linestyle=':', linewidth=4)\n",
    "\n",
    "for i in range(n_classes):\n",
    "    plt.plot(fpr[i], tpr[i], lw=lw,\n",
    "             label='ROC curve of class {0} (area = {1:0.2f})'\n",
    "             ''.format(i+1, roc_auc[i]))\n",
    "\n",
    "plt.plot([0, 1], [0, 1], 'k--', lw=lw)\n",
    "plt.xlim([0.0, 1.0])\n",
    "plt.ylim([0.0, 1.05])\n",
    "plt.xlabel('False Positive Rate')\n",
    "plt.ylabel('True Positive Rate')\n",
    "plt.title('ROC for multiclass prediction')\n",
    "plt.legend(loc=\"lower right\")\n",
    "plt.show()"
   ]
  },
  {
   "cell_type": "markdown",
   "metadata": {},
   "source": [
    "Further hyperparameter tuning was effective, we were able to increase the accuracy of the model from 0.893 to 0.906. One thing that can still be done is normalization of numerical variables."
   ]
  },
  {
   "cell_type": "code",
   "execution_count": null,
   "metadata": {
    "ExecuteTime": {
     "end_time": "2019-11-17T20:02:32.772270Z",
     "start_time": "2019-11-17T20:02:32.628499Z"
    }
   },
   "outputs": [],
   "source": [
    "from sklearn.preprocessing import MinMaxScaler\n",
    "\n",
    "scaler = MinMaxScaler().fit(trnX)\n",
    "trnX = scaler.transform(trnX)"
   ]
  },
  {
   "cell_type": "code",
   "execution_count": null,
   "metadata": {
    "ExecuteTime": {
     "end_time": "2019-11-17T20:02:34.195509Z",
     "start_time": "2019-11-17T20:02:34.063716Z"
    }
   },
   "outputs": [],
   "source": [
    "knn = KNeighborsClassifier(n_neighbors=3, metric='minkowski')\n",
    "knn.fit(trnX, trnY.ravel())\n",
    "\n",
    "# Apply scaler to test data\n",
    "tstX = scaler.transform(tstX)\n",
    "\n",
    "prdY = knn.predict(tstX)\n",
    "\n",
    "print('Accuracy:', accuracy_score(tstY, prdY))"
   ]
  },
  {
   "cell_type": "markdown",
   "metadata": {},
   "source": [
    "Scaling numerical features to range 0 to 1 seems to hinder the performance of the classifier a bit (0.9057 -> 0.8812). This might be due to not optimal hyperparameters for the scaled data."
   ]
  }
 ],
 "metadata": {
  "kernelspec": {
   "display_name": "Python 3",
   "language": "python",
   "name": "python3"
  },
  "language_info": {
   "codemirror_mode": {
    "name": "ipython",
    "version": 3
   },
   "file_extension": ".py",
   "mimetype": "text/x-python",
   "name": "python",
   "nbconvert_exporter": "python",
   "pygments_lexer": "ipython3",
   "version": "3.6.1"
  }
 },
 "nbformat": 4,
 "nbformat_minor": 2
}
