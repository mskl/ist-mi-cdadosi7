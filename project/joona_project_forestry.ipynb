{
 "cells": [
  {
   "cell_type": "markdown",
   "metadata": {},
   "source": [
    "# Forest Covertype\n",
    "\n",
    "### Data Set Information:\n",
    "\n",
    "Predicting forest cover type from cartographic variables only (no remotely sensed data). The actual forest cover type for a given observation (30 x 30 meter cell) was determined from US Forest Service (USFS) Region 2 Resource Information System (RIS) data. Independent variables were derived from data originally obtained from US Geological Survey (USGS) and USFS data. Data is in raw form (not scaled) and contains binary (0 or 1) columns of data for qualitative independent variables (wilderness areas and soil types).\n",
    "\n",
    "Some background information for these four wilderness areas: Neota (area 2) probably has the highest mean elevational value of the 4 wilderness areas. Rawah (area 1) and Comanche Peak (area 3) would have a lower mean elevational value, while Cache la Poudre (area 4) would have the lowest mean elevational value.\n",
    "\n",
    "As for primary major tree species in these areas, Neota would have spruce/fir (type 1), while Rawah and Comanche Peak would probably have lodgepole pine (type 2) as their primary species, followed by spruce/fir and aspen (type 5). Cache la Poudre would tend to have Ponderosa pine (type 3), Douglas-fir (type 6), and cottonwood/willow (type 4).\n",
    "\n",
    "The Rawah and Comanche Peak areas would tend to be more typical of the overall dataset than either the Neota or Cache la Poudre, due to their assortment of tree species and range of predictive variable values (elevation, etc.) Cache la Poudre would probably be more unique than the others, due to its relatively low elevation range and species composition.\n",
    "\n",
    "Source: https://archive.ics.uci.edu/ml/datasets/covertype"
   ]
  },
  {
   "cell_type": "code",
   "execution_count": 1,
   "metadata": {
    "ExecuteTime": {
     "end_time": "2019-11-08T17:40:41.138439Z",
     "start_time": "2019-11-08T17:40:37.727041Z"
    }
   },
   "outputs": [],
   "source": [
    "import pandas as pd\n",
    "import numpy as np\n",
    "import matplotlib.pyplot as plt\n",
    "import seaborn as sns\n",
    "%matplotlib inline\n",
    "sns.set()\n",
    "\n",
    "# Set random seed to ensure reproducability\n",
    "random_state = 42"
   ]
  },
  {
   "cell_type": "markdown",
   "metadata": {},
   "source": [
    "## Exploratory Data Analysis"
   ]
  },
  {
   "cell_type": "markdown",
   "metadata": {},
   "source": [
    "10 numerical,\n",
    "44 binary and\n",
    "1 class variable with 7 distinct classes"
   ]
  },
  {
   "cell_type": "code",
   "execution_count": 2,
   "metadata": {
    "ExecuteTime": {
     "end_time": "2019-11-08T17:40:41.155784Z",
     "start_time": "2019-11-08T17:40:41.142986Z"
    }
   },
   "outputs": [],
   "source": [
    "# Column names extracted from the dataset description file\n",
    "columns = [\"Elevation\", \"Aspect\", \"Slope\", \"Horizontal_Distance_To_Hydrology\", \n",
    "         \"Vertical_Distance_To_Hydrology\", \"Horizontal_Distance_To_Roadways\", \n",
    "         \"Hillshade_9am\", \"Hillshade_Noon\", \"Hillshade_3pm\", \n",
    "         \"Horizontal_Distance_To_Fire_Points\", \"Rawah\", \"Neota\", \"Comanche Peak\", \"Cache la Poudre\"] + \\\n",
    "       [\"Soil_Type {}\".format(i) for i in range(40)] + [\"Cover_Type\"]"
   ]
  },
  {
   "cell_type": "code",
   "execution_count": 3,
   "metadata": {
    "ExecuteTime": {
     "end_time": "2019-11-08T17:40:46.991006Z",
     "start_time": "2019-11-08T17:40:41.383892Z"
    }
   },
   "outputs": [
    {
     "data": {
      "text/html": [
       "<div>\n",
       "<style scoped>\n",
       "    .dataframe tbody tr th:only-of-type {\n",
       "        vertical-align: middle;\n",
       "    }\n",
       "\n",
       "    .dataframe tbody tr th {\n",
       "        vertical-align: top;\n",
       "    }\n",
       "\n",
       "    .dataframe thead th {\n",
       "        text-align: right;\n",
       "    }\n",
       "</style>\n",
       "<table border=\"1\" class=\"dataframe\">\n",
       "  <thead>\n",
       "    <tr style=\"text-align: right;\">\n",
       "      <th></th>\n",
       "      <th>Elevation</th>\n",
       "      <th>Aspect</th>\n",
       "      <th>Slope</th>\n",
       "      <th>Horizontal_Distance_To_Hydrology</th>\n",
       "      <th>Vertical_Distance_To_Hydrology</th>\n",
       "      <th>Horizontal_Distance_To_Roadways</th>\n",
       "      <th>Hillshade_9am</th>\n",
       "      <th>Hillshade_Noon</th>\n",
       "      <th>Hillshade_3pm</th>\n",
       "      <th>Horizontal_Distance_To_Fire_Points</th>\n",
       "      <th>...</th>\n",
       "      <th>Soil_Type 31</th>\n",
       "      <th>Soil_Type 32</th>\n",
       "      <th>Soil_Type 33</th>\n",
       "      <th>Soil_Type 34</th>\n",
       "      <th>Soil_Type 35</th>\n",
       "      <th>Soil_Type 36</th>\n",
       "      <th>Soil_Type 37</th>\n",
       "      <th>Soil_Type 38</th>\n",
       "      <th>Soil_Type 39</th>\n",
       "      <th>Cover_Type</th>\n",
       "    </tr>\n",
       "  </thead>\n",
       "  <tbody>\n",
       "    <tr>\n",
       "      <th>0</th>\n",
       "      <td>2596</td>\n",
       "      <td>51</td>\n",
       "      <td>3</td>\n",
       "      <td>258</td>\n",
       "      <td>0</td>\n",
       "      <td>510</td>\n",
       "      <td>221</td>\n",
       "      <td>232</td>\n",
       "      <td>148</td>\n",
       "      <td>6279</td>\n",
       "      <td>...</td>\n",
       "      <td>0</td>\n",
       "      <td>0</td>\n",
       "      <td>0</td>\n",
       "      <td>0</td>\n",
       "      <td>0</td>\n",
       "      <td>0</td>\n",
       "      <td>0</td>\n",
       "      <td>0</td>\n",
       "      <td>0</td>\n",
       "      <td>5</td>\n",
       "    </tr>\n",
       "    <tr>\n",
       "      <th>1</th>\n",
       "      <td>2590</td>\n",
       "      <td>56</td>\n",
       "      <td>2</td>\n",
       "      <td>212</td>\n",
       "      <td>-6</td>\n",
       "      <td>390</td>\n",
       "      <td>220</td>\n",
       "      <td>235</td>\n",
       "      <td>151</td>\n",
       "      <td>6225</td>\n",
       "      <td>...</td>\n",
       "      <td>0</td>\n",
       "      <td>0</td>\n",
       "      <td>0</td>\n",
       "      <td>0</td>\n",
       "      <td>0</td>\n",
       "      <td>0</td>\n",
       "      <td>0</td>\n",
       "      <td>0</td>\n",
       "      <td>0</td>\n",
       "      <td>5</td>\n",
       "    </tr>\n",
       "    <tr>\n",
       "      <th>2</th>\n",
       "      <td>2804</td>\n",
       "      <td>139</td>\n",
       "      <td>9</td>\n",
       "      <td>268</td>\n",
       "      <td>65</td>\n",
       "      <td>3180</td>\n",
       "      <td>234</td>\n",
       "      <td>238</td>\n",
       "      <td>135</td>\n",
       "      <td>6121</td>\n",
       "      <td>...</td>\n",
       "      <td>0</td>\n",
       "      <td>0</td>\n",
       "      <td>0</td>\n",
       "      <td>0</td>\n",
       "      <td>0</td>\n",
       "      <td>0</td>\n",
       "      <td>0</td>\n",
       "      <td>0</td>\n",
       "      <td>0</td>\n",
       "      <td>2</td>\n",
       "    </tr>\n",
       "    <tr>\n",
       "      <th>3</th>\n",
       "      <td>2785</td>\n",
       "      <td>155</td>\n",
       "      <td>18</td>\n",
       "      <td>242</td>\n",
       "      <td>118</td>\n",
       "      <td>3090</td>\n",
       "      <td>238</td>\n",
       "      <td>238</td>\n",
       "      <td>122</td>\n",
       "      <td>6211</td>\n",
       "      <td>...</td>\n",
       "      <td>0</td>\n",
       "      <td>0</td>\n",
       "      <td>0</td>\n",
       "      <td>0</td>\n",
       "      <td>0</td>\n",
       "      <td>0</td>\n",
       "      <td>0</td>\n",
       "      <td>0</td>\n",
       "      <td>0</td>\n",
       "      <td>2</td>\n",
       "    </tr>\n",
       "    <tr>\n",
       "      <th>4</th>\n",
       "      <td>2595</td>\n",
       "      <td>45</td>\n",
       "      <td>2</td>\n",
       "      <td>153</td>\n",
       "      <td>-1</td>\n",
       "      <td>391</td>\n",
       "      <td>220</td>\n",
       "      <td>234</td>\n",
       "      <td>150</td>\n",
       "      <td>6172</td>\n",
       "      <td>...</td>\n",
       "      <td>0</td>\n",
       "      <td>0</td>\n",
       "      <td>0</td>\n",
       "      <td>0</td>\n",
       "      <td>0</td>\n",
       "      <td>0</td>\n",
       "      <td>0</td>\n",
       "      <td>0</td>\n",
       "      <td>0</td>\n",
       "      <td>5</td>\n",
       "    </tr>\n",
       "  </tbody>\n",
       "</table>\n",
       "<p>5 rows × 55 columns</p>\n",
       "</div>"
      ],
      "text/plain": [
       "   Elevation  Aspect  Slope  Horizontal_Distance_To_Hydrology  \\\n",
       "0       2596      51      3                               258   \n",
       "1       2590      56      2                               212   \n",
       "2       2804     139      9                               268   \n",
       "3       2785     155     18                               242   \n",
       "4       2595      45      2                               153   \n",
       "\n",
       "   Vertical_Distance_To_Hydrology  Horizontal_Distance_To_Roadways  \\\n",
       "0                               0                              510   \n",
       "1                              -6                              390   \n",
       "2                              65                             3180   \n",
       "3                             118                             3090   \n",
       "4                              -1                              391   \n",
       "\n",
       "   Hillshade_9am  Hillshade_Noon  Hillshade_3pm  \\\n",
       "0            221             232            148   \n",
       "1            220             235            151   \n",
       "2            234             238            135   \n",
       "3            238             238            122   \n",
       "4            220             234            150   \n",
       "\n",
       "   Horizontal_Distance_To_Fire_Points     ...      Soil_Type 31  Soil_Type 32  \\\n",
       "0                                6279     ...                 0             0   \n",
       "1                                6225     ...                 0             0   \n",
       "2                                6121     ...                 0             0   \n",
       "3                                6211     ...                 0             0   \n",
       "4                                6172     ...                 0             0   \n",
       "\n",
       "   Soil_Type 33  Soil_Type 34  Soil_Type 35  Soil_Type 36  Soil_Type 37  \\\n",
       "0             0             0             0             0             0   \n",
       "1             0             0             0             0             0   \n",
       "2             0             0             0             0             0   \n",
       "3             0             0             0             0             0   \n",
       "4             0             0             0             0             0   \n",
       "\n",
       "   Soil_Type 38  Soil_Type 39  Cover_Type  \n",
       "0             0             0           5  \n",
       "1             0             0           5  \n",
       "2             0             0           2  \n",
       "3             0             0           2  \n",
       "4             0             0           5  \n",
       "\n",
       "[5 rows x 55 columns]"
      ]
     },
     "execution_count": 3,
     "metadata": {},
     "output_type": "execute_result"
    }
   ],
   "source": [
    "data = pd.read_csv('dataset/covtype.data', header=None, names=columns)\n",
    "data.head()"
   ]
  },
  {
   "cell_type": "code",
   "execution_count": 4,
   "metadata": {
    "ExecuteTime": {
     "end_time": "2019-11-08T17:40:47.346846Z",
     "start_time": "2019-11-08T17:40:46.995000Z"
    }
   },
   "outputs": [
    {
     "name": "stdout",
     "output_type": "stream",
     "text": [
      "<class 'pandas.core.frame.DataFrame'>\n",
      "RangeIndex: 581012 entries, 0 to 581011\n",
      "Data columns (total 55 columns):\n",
      "Elevation                             581012 non-null int64\n",
      "Aspect                                581012 non-null int64\n",
      "Slope                                 581012 non-null int64\n",
      "Horizontal_Distance_To_Hydrology      581012 non-null int64\n",
      "Vertical_Distance_To_Hydrology        581012 non-null int64\n",
      "Horizontal_Distance_To_Roadways       581012 non-null int64\n",
      "Hillshade_9am                         581012 non-null int64\n",
      "Hillshade_Noon                        581012 non-null int64\n",
      "Hillshade_3pm                         581012 non-null int64\n",
      "Horizontal_Distance_To_Fire_Points    581012 non-null int64\n",
      "Rawah                                 581012 non-null int64\n",
      "Neota                                 581012 non-null int64\n",
      "Comanche Peak                         581012 non-null int64\n",
      "Cache la Poudre                       581012 non-null int64\n",
      "Soil_Type 0                           581012 non-null int64\n",
      "Soil_Type 1                           581012 non-null int64\n",
      "Soil_Type 2                           581012 non-null int64\n",
      "Soil_Type 3                           581012 non-null int64\n",
      "Soil_Type 4                           581012 non-null int64\n",
      "Soil_Type 5                           581012 non-null int64\n",
      "Soil_Type 6                           581012 non-null int64\n",
      "Soil_Type 7                           581012 non-null int64\n",
      "Soil_Type 8                           581012 non-null int64\n",
      "Soil_Type 9                           581012 non-null int64\n",
      "Soil_Type 10                          581012 non-null int64\n",
      "Soil_Type 11                          581012 non-null int64\n",
      "Soil_Type 12                          581012 non-null int64\n",
      "Soil_Type 13                          581012 non-null int64\n",
      "Soil_Type 14                          581012 non-null int64\n",
      "Soil_Type 15                          581012 non-null int64\n",
      "Soil_Type 16                          581012 non-null int64\n",
      "Soil_Type 17                          581012 non-null int64\n",
      "Soil_Type 18                          581012 non-null int64\n",
      "Soil_Type 19                          581012 non-null int64\n",
      "Soil_Type 20                          581012 non-null int64\n",
      "Soil_Type 21                          581012 non-null int64\n",
      "Soil_Type 22                          581012 non-null int64\n",
      "Soil_Type 23                          581012 non-null int64\n",
      "Soil_Type 24                          581012 non-null int64\n",
      "Soil_Type 25                          581012 non-null int64\n",
      "Soil_Type 26                          581012 non-null int64\n",
      "Soil_Type 27                          581012 non-null int64\n",
      "Soil_Type 28                          581012 non-null int64\n",
      "Soil_Type 29                          581012 non-null int64\n",
      "Soil_Type 30                          581012 non-null int64\n",
      "Soil_Type 31                          581012 non-null int64\n",
      "Soil_Type 32                          581012 non-null int64\n",
      "Soil_Type 33                          581012 non-null int64\n",
      "Soil_Type 34                          581012 non-null int64\n",
      "Soil_Type 35                          581012 non-null int64\n",
      "Soil_Type 36                          581012 non-null int64\n",
      "Soil_Type 37                          581012 non-null int64\n",
      "Soil_Type 38                          581012 non-null int64\n",
      "Soil_Type 39                          581012 non-null int64\n",
      "Cover_Type                            581012 non-null int64\n",
      "dtypes: int64(55)\n",
      "memory usage: 243.8 MB\n"
     ]
    }
   ],
   "source": [
    "data.info()"
   ]
  },
  {
   "cell_type": "markdown",
   "metadata": {},
   "source": [
    "There are no missing values and datatypes are also in desireable format. Let's investigate distributions of numerical variables."
   ]
  },
  {
   "cell_type": "code",
   "execution_count": 5,
   "metadata": {
    "ExecuteTime": {
     "end_time": "2019-11-08T17:40:48.205108Z",
     "start_time": "2019-11-08T17:40:47.350839Z"
    }
   },
   "outputs": [
    {
     "data": {
      "text/html": [
       "<div>\n",
       "<style scoped>\n",
       "    .dataframe tbody tr th:only-of-type {\n",
       "        vertical-align: middle;\n",
       "    }\n",
       "\n",
       "    .dataframe tbody tr th {\n",
       "        vertical-align: top;\n",
       "    }\n",
       "\n",
       "    .dataframe thead th {\n",
       "        text-align: right;\n",
       "    }\n",
       "</style>\n",
       "<table border=\"1\" class=\"dataframe\">\n",
       "  <thead>\n",
       "    <tr style=\"text-align: right;\">\n",
       "      <th></th>\n",
       "      <th>Elevation</th>\n",
       "      <th>Aspect</th>\n",
       "      <th>Slope</th>\n",
       "      <th>Horizontal_Distance_To_Hydrology</th>\n",
       "      <th>Vertical_Distance_To_Hydrology</th>\n",
       "      <th>Horizontal_Distance_To_Roadways</th>\n",
       "      <th>Hillshade_9am</th>\n",
       "      <th>Hillshade_Noon</th>\n",
       "      <th>Hillshade_3pm</th>\n",
       "      <th>Horizontal_Distance_To_Fire_Points</th>\n",
       "    </tr>\n",
       "  </thead>\n",
       "  <tbody>\n",
       "    <tr>\n",
       "      <th>count</th>\n",
       "      <td>581012.00</td>\n",
       "      <td>581012.00</td>\n",
       "      <td>581012.00</td>\n",
       "      <td>581012.00</td>\n",
       "      <td>581012.00</td>\n",
       "      <td>581012.00</td>\n",
       "      <td>581012.00</td>\n",
       "      <td>581012.00</td>\n",
       "      <td>581012.00</td>\n",
       "      <td>581012.00</td>\n",
       "    </tr>\n",
       "    <tr>\n",
       "      <th>mean</th>\n",
       "      <td>2959.37</td>\n",
       "      <td>155.66</td>\n",
       "      <td>14.10</td>\n",
       "      <td>269.43</td>\n",
       "      <td>46.42</td>\n",
       "      <td>2350.15</td>\n",
       "      <td>212.15</td>\n",
       "      <td>223.32</td>\n",
       "      <td>142.53</td>\n",
       "      <td>1980.29</td>\n",
       "    </tr>\n",
       "    <tr>\n",
       "      <th>std</th>\n",
       "      <td>279.98</td>\n",
       "      <td>111.91</td>\n",
       "      <td>7.49</td>\n",
       "      <td>212.55</td>\n",
       "      <td>58.30</td>\n",
       "      <td>1559.25</td>\n",
       "      <td>26.77</td>\n",
       "      <td>19.77</td>\n",
       "      <td>38.27</td>\n",
       "      <td>1324.20</td>\n",
       "    </tr>\n",
       "    <tr>\n",
       "      <th>min</th>\n",
       "      <td>1859.00</td>\n",
       "      <td>0.00</td>\n",
       "      <td>0.00</td>\n",
       "      <td>0.00</td>\n",
       "      <td>-173.00</td>\n",
       "      <td>0.00</td>\n",
       "      <td>0.00</td>\n",
       "      <td>0.00</td>\n",
       "      <td>0.00</td>\n",
       "      <td>0.00</td>\n",
       "    </tr>\n",
       "    <tr>\n",
       "      <th>25%</th>\n",
       "      <td>2809.00</td>\n",
       "      <td>58.00</td>\n",
       "      <td>9.00</td>\n",
       "      <td>108.00</td>\n",
       "      <td>7.00</td>\n",
       "      <td>1106.00</td>\n",
       "      <td>198.00</td>\n",
       "      <td>213.00</td>\n",
       "      <td>119.00</td>\n",
       "      <td>1024.00</td>\n",
       "    </tr>\n",
       "    <tr>\n",
       "      <th>50%</th>\n",
       "      <td>2996.00</td>\n",
       "      <td>127.00</td>\n",
       "      <td>13.00</td>\n",
       "      <td>218.00</td>\n",
       "      <td>30.00</td>\n",
       "      <td>1997.00</td>\n",
       "      <td>218.00</td>\n",
       "      <td>226.00</td>\n",
       "      <td>143.00</td>\n",
       "      <td>1710.00</td>\n",
       "    </tr>\n",
       "    <tr>\n",
       "      <th>75%</th>\n",
       "      <td>3163.00</td>\n",
       "      <td>260.00</td>\n",
       "      <td>18.00</td>\n",
       "      <td>384.00</td>\n",
       "      <td>69.00</td>\n",
       "      <td>3328.00</td>\n",
       "      <td>231.00</td>\n",
       "      <td>237.00</td>\n",
       "      <td>168.00</td>\n",
       "      <td>2550.00</td>\n",
       "    </tr>\n",
       "    <tr>\n",
       "      <th>max</th>\n",
       "      <td>3858.00</td>\n",
       "      <td>360.00</td>\n",
       "      <td>66.00</td>\n",
       "      <td>1397.00</td>\n",
       "      <td>601.00</td>\n",
       "      <td>7117.00</td>\n",
       "      <td>254.00</td>\n",
       "      <td>254.00</td>\n",
       "      <td>254.00</td>\n",
       "      <td>7173.00</td>\n",
       "    </tr>\n",
       "  </tbody>\n",
       "</table>\n",
       "</div>"
      ],
      "text/plain": [
       "       Elevation    Aspect     Slope  Horizontal_Distance_To_Hydrology  \\\n",
       "count  581012.00 581012.00 581012.00                         581012.00   \n",
       "mean     2959.37    155.66     14.10                            269.43   \n",
       "std       279.98    111.91      7.49                            212.55   \n",
       "min      1859.00      0.00      0.00                              0.00   \n",
       "25%      2809.00     58.00      9.00                            108.00   \n",
       "50%      2996.00    127.00     13.00                            218.00   \n",
       "75%      3163.00    260.00     18.00                            384.00   \n",
       "max      3858.00    360.00     66.00                           1397.00   \n",
       "\n",
       "       Vertical_Distance_To_Hydrology  Horizontal_Distance_To_Roadways  \\\n",
       "count                       581012.00                        581012.00   \n",
       "mean                            46.42                          2350.15   \n",
       "std                             58.30                          1559.25   \n",
       "min                           -173.00                             0.00   \n",
       "25%                              7.00                          1106.00   \n",
       "50%                             30.00                          1997.00   \n",
       "75%                             69.00                          3328.00   \n",
       "max                            601.00                          7117.00   \n",
       "\n",
       "       Hillshade_9am  Hillshade_Noon  Hillshade_3pm  \\\n",
       "count      581012.00       581012.00      581012.00   \n",
       "mean          212.15          223.32         142.53   \n",
       "std            26.77           19.77          38.27   \n",
       "min             0.00            0.00           0.00   \n",
       "25%           198.00          213.00         119.00   \n",
       "50%           218.00          226.00         143.00   \n",
       "75%           231.00          237.00         168.00   \n",
       "max           254.00          254.00         254.00   \n",
       "\n",
       "       Horizontal_Distance_To_Fire_Points  \n",
       "count                           581012.00  \n",
       "mean                              1980.29  \n",
       "std                               1324.20  \n",
       "min                                  0.00  \n",
       "25%                               1024.00  \n",
       "50%                               1710.00  \n",
       "75%                               2550.00  \n",
       "max                               7173.00  "
      ]
     },
     "execution_count": 5,
     "metadata": {},
     "output_type": "execute_result"
    }
   ],
   "source": [
    "# Setting display format\n",
    "pd.set_option('display.float_format', lambda x: '%.2f' % x)\n",
    "\n",
    "# Extracting columns containing numerical values\n",
    "numerical = ['Elevation', 'Aspect', 'Slope', 'Horizontal_Distance_To_Hydrology', \n",
    "             'Vertical_Distance_To_Hydrology', 'Horizontal_Distance_To_Roadways', \n",
    "             'Hillshade_9am', 'Hillshade_Noon', 'Hillshade_3pm', 'Horizontal_Distance_To_Fire_Points']\n",
    "\n",
    "# Describing numerical variables\n",
    "data[numerical].describe()"
   ]
  },
  {
   "cell_type": "code",
   "execution_count": null,
   "metadata": {
    "ExecuteTime": {
     "end_time": "2019-11-08T16:50:43.361883Z",
     "start_time": "2019-11-08T16:50:39.451070Z"
    }
   },
   "outputs": [],
   "source": [
    "data[numerical].hist(figsize=(16, 20), bins=50);"
   ]
  },
  {
   "cell_type": "markdown",
   "metadata": {},
   "source": [
    "There doesn't seem to be clear outliers. Next we can plot counts of binary features."
   ]
  },
  {
   "cell_type": "code",
   "execution_count": null,
   "metadata": {
    "ExecuteTime": {
     "end_time": "2019-11-08T16:50:49.011902Z",
     "start_time": "2019-11-08T16:50:43.361883Z"
    }
   },
   "outputs": [],
   "source": [
    "# Extracting binary feature column names\n",
    "binary = data.iloc[:,10:54].columns.values.tolist()\n",
    "\n",
    "# Counting binary variables\n",
    "counts = data[binary][data[binary] == 1].count()\n",
    "print(counts)\n",
    "\n",
    "fig, ax = plt.subplots(figsize=(20, 15))\n",
    "plt.barh(counts.index, counts.iloc[0:])\n",
    "plt.xlabel('Count')\n",
    "plt.title('Binary variables')\n",
    "plt.show()"
   ]
  },
  {
   "cell_type": "markdown",
   "metadata": {},
   "source": [
    " Next we can plot correlation matrix and target variable distributions."
   ]
  },
  {
   "cell_type": "code",
   "execution_count": null,
   "metadata": {
    "ExecuteTime": {
     "end_time": "2019-11-08T16:50:59.655760Z",
     "start_time": "2019-11-08T16:50:49.019898Z"
    }
   },
   "outputs": [],
   "source": [
    "fig, ax = plt.subplots(figsize=(20, 15))\n",
    "\n",
    "# Calculate correlations\n",
    "corr = data.corr()\n",
    "\n",
    "# Using mask for plotting only the other half of the correlation matrix\n",
    "mask = np.zeros_like(corr)\n",
    "mask[np.triu_indices_from(mask)] = True\n",
    "\n",
    "ax = sns.heatmap(data=corr, vmin=0, vmax=1, mask=mask, square=True)\n",
    "ax.set(title='Correlation Matrix')\n",
    "plt.show()"
   ]
  },
  {
   "cell_type": "markdown",
   "metadata": {},
   "source": [
    "There seems not to be too high correlation between variables, which is good for classifier performance. All features have some value in constructing the model."
   ]
  },
  {
   "cell_type": "code",
   "execution_count": 6,
   "metadata": {
    "ExecuteTime": {
     "end_time": "2019-11-08T17:41:01.077069Z",
     "start_time": "2019-11-08T17:41:00.587321Z"
    }
   },
   "outputs": [
    {
     "name": "stdout",
     "output_type": "stream",
     "text": [
      "2    283301\n",
      "1    211840\n",
      "3     35754\n",
      "7     20510\n",
      "6     17367\n",
      "5      9493\n",
      "4      2747\n",
      "Name: Cover_Type, dtype: int64\n"
     ]
    },
    {
     "data": {
      "image/png": "[encoded data removed]",
      "text/plain": [
       "<matplotlib.figure.Figure at 0x220961e3470>"
      ]
     },
     "metadata": {
      "needs_background": "light"
     },
     "output_type": "display_data"
    }
   ],
   "source": [
    "sns.countplot(data.Cover_Type);\n",
    "print(data.Cover_Type.value_counts())"
   ]
  },
  {
   "cell_type": "markdown",
   "metadata": {},
   "source": [
    "As we can see, the dataset is highly unbalanced. We need to undersample majority classes in order not to skew performance of classifiers. Lets undersample all classes to include => 10k samples. We can also use SMOTE for the class number 4, in order to make the dataset fully balanced."
   ]
  },
  {
   "cell_type": "code",
   "execution_count": 7,
   "metadata": {
    "ExecuteTime": {
     "end_time": "2019-11-08T17:41:03.166109Z",
     "start_time": "2019-11-08T17:41:02.809818Z"
    }
   },
   "outputs": [],
   "source": [
    "# Splitting dataset into feature and target variables\n",
    "y = data.pop('Cover_Type')\n",
    "X = data\n",
    "labels = data.columns"
   ]
  },
  {
   "cell_type": "code",
   "execution_count": 9,
   "metadata": {
    "ExecuteTime": {
     "end_time": "2019-11-08T17:41:06.459328Z",
     "start_time": "2019-11-08T17:41:06.451306Z"
    }
   },
   "outputs": [],
   "source": [
    "from imblearn.over_sampling import SMOTE"
   ]
  },
  {
   "cell_type": "code",
   "execution_count": 10,
   "metadata": {
    "ExecuteTime": {
     "end_time": "2019-11-08T17:41:10.374712Z",
     "start_time": "2019-11-08T17:41:07.439318Z"
    }
   },
   "outputs": [],
   "source": [
    "# SMOTE for oversampling class number 4 to include as many observations as class 5 (new minority class)\n",
    "sm = SMOTE(sampling_strategy={4: 9493}, random_state=random_state)\n",
    "X_resampled, y_resampled = sm.fit_resample(X, y)"
   ]
  },
  {
   "cell_type": "code",
   "execution_count": 11,
   "metadata": {
    "ExecuteTime": {
     "end_time": "2019-11-08T17:41:11.597571Z",
     "start_time": "2019-11-08T17:41:11.186176Z"
    }
   },
   "outputs": [
    {
     "data": {
      "image/png": "[encoded data removed]",
      "text/plain": [
       "<matplotlib.figure.Figure at 0x220915f9ac8>"
      ]
     },
     "metadata": {
      "needs_background": "light"
     },
     "output_type": "display_data"
    }
   ],
   "source": [
    "sns.countplot(y_resampled);"
   ]
  },
  {
   "cell_type": "code",
   "execution_count": 12,
   "metadata": {
    "ExecuteTime": {
     "end_time": "2019-11-08T17:41:13.282394Z",
     "start_time": "2019-11-08T17:41:12.449738Z"
    }
   },
   "outputs": [
    {
     "data": {
      "image/png": "[encoded data removed]",
      "text/plain": [
       "<matplotlib.figure.Figure at 0x22096d46a58>"
      ]
     },
     "metadata": {
      "needs_background": "light"
     },
     "output_type": "display_data"
    }
   ],
   "source": [
    "from imblearn.under_sampling import RandomUnderSampler\n",
    "\n",
    "# Randomly undersampling rest of the classes\n",
    "rus = RandomUnderSampler(sampling_strategy='not minority', random_state=random_state)\n",
    "X_rus, y_rus = rus.fit_sample(X_resampled, y_resampled)\n",
    "\n",
    "sns.countplot(y_rus);"
   ]
  },
  {
   "cell_type": "markdown",
   "metadata": {},
   "source": [
    "All classes are now sampled, now we can explore feature distributions again."
   ]
  },
  {
   "cell_type": "code",
   "execution_count": 13,
   "metadata": {
    "ExecuteTime": {
     "end_time": "2019-11-08T17:41:15.529837Z",
     "start_time": "2019-11-08T17:41:15.509869Z"
    }
   },
   "outputs": [],
   "source": [
    "X = pd.DataFrame(X_rus, columns=labels)\n",
    "y = pd.DataFrame(y_rus, columns=['Cover_Type'])"
   ]
  },
  {
   "cell_type": "code",
   "execution_count": 14,
   "metadata": {
    "ExecuteTime": {
     "end_time": "2019-11-08T17:41:16.632217Z",
     "start_time": "2019-11-08T17:41:16.443243Z"
    }
   },
   "outputs": [
    {
     "data": {
      "text/html": [
       "<div>\n",
       "<style scoped>\n",
       "    .dataframe tbody tr th:only-of-type {\n",
       "        vertical-align: middle;\n",
       "    }\n",
       "\n",
       "    .dataframe tbody tr th {\n",
       "        vertical-align: top;\n",
       "    }\n",
       "\n",
       "    .dataframe thead th {\n",
       "        text-align: right;\n",
       "    }\n",
       "</style>\n",
       "<table border=\"1\" class=\"dataframe\">\n",
       "  <thead>\n",
       "    <tr style=\"text-align: right;\">\n",
       "      <th></th>\n",
       "      <th>Elevation</th>\n",
       "      <th>Aspect</th>\n",
       "      <th>Slope</th>\n",
       "      <th>Horizontal_Distance_To_Hydrology</th>\n",
       "      <th>Vertical_Distance_To_Hydrology</th>\n",
       "      <th>Horizontal_Distance_To_Roadways</th>\n",
       "      <th>Hillshade_9am</th>\n",
       "      <th>Hillshade_Noon</th>\n",
       "      <th>Hillshade_3pm</th>\n",
       "      <th>Horizontal_Distance_To_Fire_Points</th>\n",
       "    </tr>\n",
       "  </thead>\n",
       "  <tbody>\n",
       "    <tr>\n",
       "      <th>count</th>\n",
       "      <td>66451.00</td>\n",
       "      <td>66451.00</td>\n",
       "      <td>66451.00</td>\n",
       "      <td>66451.00</td>\n",
       "      <td>66451.00</td>\n",
       "      <td>66451.00</td>\n",
       "      <td>66451.00</td>\n",
       "      <td>66451.00</td>\n",
       "      <td>66451.00</td>\n",
       "      <td>66451.00</td>\n",
       "    </tr>\n",
       "    <tr>\n",
       "      <th>mean</th>\n",
       "      <td>2748.11</td>\n",
       "      <td>156.31</td>\n",
       "      <td>16.52</td>\n",
       "      <td>228.20</td>\n",
       "      <td>50.99</td>\n",
       "      <td>1716.93</td>\n",
       "      <td>212.75</td>\n",
       "      <td>218.90</td>\n",
       "      <td>134.80</td>\n",
       "      <td>1520.62</td>\n",
       "    </tr>\n",
       "    <tr>\n",
       "      <th>std</th>\n",
       "      <td>418.07</td>\n",
       "      <td>109.71</td>\n",
       "      <td>8.45</td>\n",
       "      <td>209.75</td>\n",
       "      <td>60.96</td>\n",
       "      <td>1330.06</td>\n",
       "      <td>30.53</td>\n",
       "      <td>22.80</td>\n",
       "      <td>46.05</td>\n",
       "      <td>1104.26</td>\n",
       "    </tr>\n",
       "    <tr>\n",
       "      <th>min</th>\n",
       "      <td>1863.00</td>\n",
       "      <td>0.00</td>\n",
       "      <td>0.00</td>\n",
       "      <td>0.00</td>\n",
       "      <td>-152.00</td>\n",
       "      <td>0.00</td>\n",
       "      <td>0.00</td>\n",
       "      <td>87.00</td>\n",
       "      <td>0.00</td>\n",
       "      <td>0.00</td>\n",
       "    </tr>\n",
       "    <tr>\n",
       "      <th>25%</th>\n",
       "      <td>2375.00</td>\n",
       "      <td>65.00</td>\n",
       "      <td>10.00</td>\n",
       "      <td>67.00</td>\n",
       "      <td>5.00</td>\n",
       "      <td>752.00</td>\n",
       "      <td>196.00</td>\n",
       "      <td>207.00</td>\n",
       "      <td>106.00</td>\n",
       "      <td>741.00</td>\n",
       "    </tr>\n",
       "    <tr>\n",
       "      <th>50%</th>\n",
       "      <td>2752.00</td>\n",
       "      <td>126.00</td>\n",
       "      <td>15.00</td>\n",
       "      <td>180.00</td>\n",
       "      <td>32.00</td>\n",
       "      <td>1315.00</td>\n",
       "      <td>220.00</td>\n",
       "      <td>222.00</td>\n",
       "      <td>138.00</td>\n",
       "      <td>1273.00</td>\n",
       "    </tr>\n",
       "    <tr>\n",
       "      <th>75%</th>\n",
       "      <td>3108.00</td>\n",
       "      <td>258.00</td>\n",
       "      <td>22.00</td>\n",
       "      <td>330.00</td>\n",
       "      <td>79.00</td>\n",
       "      <td>2290.00</td>\n",
       "      <td>236.00</td>\n",
       "      <td>235.00</td>\n",
       "      <td>167.00</td>\n",
       "      <td>1997.00</td>\n",
       "    </tr>\n",
       "    <tr>\n",
       "      <th>max</th>\n",
       "      <td>3858.00</td>\n",
       "      <td>360.00</td>\n",
       "      <td>54.00</td>\n",
       "      <td>1397.00</td>\n",
       "      <td>550.00</td>\n",
       "      <td>7039.00</td>\n",
       "      <td>254.00</td>\n",
       "      <td>254.00</td>\n",
       "      <td>252.00</td>\n",
       "      <td>7141.00</td>\n",
       "    </tr>\n",
       "  </tbody>\n",
       "</table>\n",
       "</div>"
      ],
      "text/plain": [
       "       Elevation   Aspect    Slope  Horizontal_Distance_To_Hydrology  \\\n",
       "count   66451.00 66451.00 66451.00                          66451.00   \n",
       "mean     2748.11   156.31    16.52                            228.20   \n",
       "std       418.07   109.71     8.45                            209.75   \n",
       "min      1863.00     0.00     0.00                              0.00   \n",
       "25%      2375.00    65.00    10.00                             67.00   \n",
       "50%      2752.00   126.00    15.00                            180.00   \n",
       "75%      3108.00   258.00    22.00                            330.00   \n",
       "max      3858.00   360.00    54.00                           1397.00   \n",
       "\n",
       "       Vertical_Distance_To_Hydrology  Horizontal_Distance_To_Roadways  \\\n",
       "count                        66451.00                         66451.00   \n",
       "mean                            50.99                          1716.93   \n",
       "std                             60.96                          1330.06   \n",
       "min                           -152.00                             0.00   \n",
       "25%                              5.00                           752.00   \n",
       "50%                             32.00                          1315.00   \n",
       "75%                             79.00                          2290.00   \n",
       "max                            550.00                          7039.00   \n",
       "\n",
       "       Hillshade_9am  Hillshade_Noon  Hillshade_3pm  \\\n",
       "count       66451.00        66451.00       66451.00   \n",
       "mean          212.75          218.90         134.80   \n",
       "std            30.53           22.80          46.05   \n",
       "min             0.00           87.00           0.00   \n",
       "25%           196.00          207.00         106.00   \n",
       "50%           220.00          222.00         138.00   \n",
       "75%           236.00          235.00         167.00   \n",
       "max           254.00          254.00         252.00   \n",
       "\n",
       "       Horizontal_Distance_To_Fire_Points  \n",
       "count                            66451.00  \n",
       "mean                              1520.62  \n",
       "std                               1104.26  \n",
       "min                                  0.00  \n",
       "25%                                741.00  \n",
       "50%                               1273.00  \n",
       "75%                               1997.00  \n",
       "max                               7141.00  "
      ]
     },
     "execution_count": 14,
     "metadata": {},
     "output_type": "execute_result"
    }
   ],
   "source": [
    "X[numerical].describe()"
   ]
  },
  {
   "cell_type": "code",
   "execution_count": 15,
   "metadata": {
    "ExecuteTime": {
     "end_time": "2019-11-08T17:41:20.583538Z",
     "start_time": "2019-11-08T17:41:17.533450Z"
    }
   },
   "outputs": [
    {
     "data": {
      "image/png": "[encoded data removed]",
      "text/plain": [
       "<matplotlib.figure.Figure at 0x22096d23a90>"
      ]
     },
     "metadata": {
      "needs_background": "light"
     },
     "output_type": "display_data"
    }
   ],
   "source": [
    "X[numerical].hist(figsize=(16, 20), bins=50);"
   ]
  },
  {
   "cell_type": "markdown",
   "metadata": {},
   "source": [
    "## Train/Test split"
   ]
  },
  {
   "cell_type": "code",
   "execution_count": 16,
   "metadata": {
    "ExecuteTime": {
     "end_time": "2019-11-08T17:41:21.878797Z",
     "start_time": "2019-11-08T17:41:21.870809Z"
    }
   },
   "outputs": [],
   "source": [
    "X = X.values\n",
    "y = y.values"
   ]
  },
  {
   "cell_type": "code",
   "execution_count": 17,
   "metadata": {
    "ExecuteTime": {
     "end_time": "2019-11-08T17:41:23.864431Z",
     "start_time": "2019-11-08T17:41:23.788531Z"
    }
   },
   "outputs": [],
   "source": [
    "from sklearn.model_selection import train_test_split\n",
    "\n",
    "# Sizes of different sets\n",
    "test_size = 0.2\n",
    "train_size = 0.8\n",
    "\n",
    "trnX, tstX, trnY, tstY = train_test_split(X, y, test_size=test_size, random_state=random_state)"
   ]
  },
  {
   "cell_type": "markdown",
   "metadata": {},
   "source": [
    "## Classification"
   ]
  },
  {
   "cell_type": "markdown",
   "metadata": {},
   "source": [
    "We will be using RandomizedSearchCV for tuning hyperparameters and finding roughly best performing parameters for our models. Because target classes are balanced, we can use accuracy score (default scoring method of most classifiers) for finding these hyperparameters."
   ]
  },
  {
   "cell_type": "code",
   "execution_count": 18,
   "metadata": {
    "ExecuteTime": {
     "end_time": "2019-11-08T17:41:26.829059Z",
     "start_time": "2019-11-08T17:41:26.729161Z"
    }
   },
   "outputs": [],
   "source": [
    "from sklearn.model_selection import RandomizedSearchCV\n",
    "from sklearn.model_selection import GridSearchCV\n",
    "from sklearn.model_selection import cross_val_score\n",
    "from sklearn.naive_bayes import GaussianNB\n",
    "from sklearn.neighbors import KNeighborsClassifier\n",
    "from sklearn.tree import DecisionTreeClassifier\n",
    "from sklearn.ensemble import RandomForestClassifier\n",
    "from xgboost import XGBClassifier"
   ]
  },
  {
   "cell_type": "markdown",
   "metadata": {},
   "source": [
    "### Naive Bayes\n",
    "\n",
    "Naive Bayes methods are a set of supervised learning algorithms based on applying Bayes’ theorem with the “naive” assumption of conditional independence between every pair of features given the value of the class variable."
   ]
  },
  {
   "cell_type": "code",
   "execution_count": null,
   "metadata": {
    "ExecuteTime": {
     "end_time": "2019-11-08T12:07:33.641816Z",
     "start_time": "2019-11-08T12:07:32.357843Z"
    }
   },
   "outputs": [],
   "source": [
    "gnb = cross_val_score(GaussianNB(), trnX, trnY.ravel(), cv=5)\n",
    "\n",
    "print(\"Classifier accuracy: %0.4f (+/- %0.4f)\" % (gnb.mean(), gnb.std() * 2))"
   ]
  },
  {
   "cell_type": "markdown",
   "metadata": {},
   "source": [
    "Classifier accuracy: 0.5988 (+/- 0.0057)"
   ]
  },
  {
   "cell_type": "markdown",
   "metadata": {},
   "source": [
    "### KNN"
   ]
  },
  {
   "cell_type": "code",
   "execution_count": null,
   "metadata": {
    "ExecuteTime": {
     "end_time": "2019-11-08T12:20:41.742281Z",
     "start_time": "2019-11-08T12:09:01.359197Z"
    }
   },
   "outputs": [],
   "source": [
    "grid = {'n_neighbors':[5, 10, 15, 20, 25, 30],\n",
    "        'metric':['minkowski', 'manhattan']}\n",
    "\n",
    "knn = RandomizedSearchCV(KNeighborsClassifier(), \n",
    "                         grid, cv=5, n_iter=10,\n",
    "                         random_state=random_state)\n",
    "\n",
    "knn.fit(trnX, trnY.ravel())\n",
    "\n",
    "print(\"Classifier best score: %.4f for parameters: %s\" % (knn.best_score_.mean(), knn.best_params_))"
   ]
  },
  {
   "cell_type": "markdown",
   "metadata": {},
   "source": [
    "Classifier best score: 0.8843 for parameters: {'n_neighbors': 5, 'metric': 'minkowski'}"
   ]
  },
  {
   "cell_type": "markdown",
   "metadata": {},
   "source": [
    "### Desicion Tree"
   ]
  },
  {
   "cell_type": "code",
   "execution_count": null,
   "metadata": {
    "ExecuteTime": {
     "end_time": "2019-11-08T12:21:14.494148Z",
     "start_time": "2019-11-08T12:20:41.751257Z"
    }
   },
   "outputs": [],
   "source": [
    "grid = {'criterion':['gini', 'entropy'],\n",
    "        'min_samples_split': [3, 5, 7, 9, 11, 13, 15],\n",
    "        'min_samples_leaf': [3, 5, 7, 9, 11, 13, 15],\n",
    "        'max_depth': np.arange(3, 15, 1)}\n",
    "\n",
    "dtc = RandomizedSearchCV(DecisionTreeClassifier(),\n",
    "                         grid, cv=5, n_iter=10,\n",
    "                         random_state=random_state)\n",
    "\n",
    "dtc.fit(trnX, trnY)\n",
    "\n",
    "print(\"Classifier best score: %.4f for parameters: %s\" % (dtc.best_score_.mean(), dtc.best_params_))"
   ]
  },
  {
   "cell_type": "markdown",
   "metadata": {},
   "source": [
    "Classifier best score: 0.8408 for parameters: {'min_samples_split': 9, 'min_samples_leaf': 3, 'max_depth': 14, 'criterion': 'entropy'}"
   ]
  },
  {
   "cell_type": "markdown",
   "metadata": {},
   "source": [
    "### RandomForest"
   ]
  },
  {
   "cell_type": "code",
   "execution_count": null,
   "metadata": {
    "ExecuteTime": {
     "end_time": "2019-11-08T12:29:31.874667Z",
     "start_time": "2019-11-08T12:21:14.499134Z"
    }
   },
   "outputs": [],
   "source": [
    "grid = {'n_estimators': np.arange(10, 300, 10),\n",
    "        'max_features': ['auto', 'sqrt'],\n",
    "       'max_depth': np.arange(1, 15, 1),\n",
    "        'min_samples_split': np.arange(2, 15, 1)}\n",
    "\n",
    "rfc = RandomizedSearchCV(RandomForestClassifier(),\n",
    "                         grid, cv=5, n_iter=10,\n",
    "                         random_state=random_state)\n",
    "\n",
    "rfc.fit(trnX, trnY.ravel())\n",
    "\n",
    "print(\"Classifier best score: %.4f for parameters: %s\" % (rfc.best_score_.mean(), rfc.best_params_))"
   ]
  },
  {
   "cell_type": "markdown",
   "metadata": {
    "ExecuteTime": {
     "end_time": "2019-11-07T11:16:57.337632Z",
     "start_time": "2019-11-07T11:16:57.317624Z"
    }
   },
   "source": [
    "Classifier best score: 0.8421 for parameters: {'n_estimators': 290, 'min_samples_split': 2, 'max_features': 'auto', 'max_depth': 12}"
   ]
  },
  {
   "cell_type": "markdown",
   "metadata": {},
   "source": [
    "### XGBoost"
   ]
  },
  {
   "cell_type": "code",
   "execution_count": 26,
   "metadata": {
    "ExecuteTime": {
     "end_time": "2019-11-08T18:17:51.160910Z",
     "start_time": "2019-11-08T17:55:14.901427Z"
    }
   },
   "outputs": [
    {
     "name": "stdout",
     "output_type": "stream",
     "text": [
      "Mean cross-validation score:  0.7839729573777743\n"
     ]
    }
   ],
   "source": [
    "xgb_clf = XGBClassifier(learning_rate=0.05, n_estimators=300, max_depth=3, seed=random_state, n_jobs=-1)\n",
    "\n",
    "print('Mean cross-validation score: ', np.mean(cross_val_score(xgb_clf, trnX, trnY.ravel(), cv=5)))"
   ]
  },
  {
   "cell_type": "markdown",
   "metadata": {},
   "source": [
    "## Model Evaluation"
   ]
  },
  {
   "cell_type": "markdown",
   "metadata": {},
   "source": [
    "Next we can test every model with the test set with the hyperparameters that were found with grid search. "
   ]
  },
  {
   "cell_type": "code",
   "execution_count": 19,
   "metadata": {
    "ExecuteTime": {
     "end_time": "2019-11-08T17:41:40.488861Z",
     "start_time": "2019-11-08T17:41:40.472883Z"
    }
   },
   "outputs": [],
   "source": [
    "from sklearn.metrics import accuracy_score\n",
    "from sklearn.metrics import confusion_matrix\n",
    "\n",
    "# Best models are stored in results dictionary\n",
    "test_scores = {}\n",
    "\n",
    "# Function for plotting the confusion matrix\n",
    "def plot_cnf_mtx(cnf_mtx):\n",
    "    fig, ax = plt.subplots(figsize=(12, 9))\n",
    "    ax = sns.heatmap(cnf_mtx, annot=True, fmt=\"d\", cbar=False, cmap='Blues', square=True)\n",
    "    ax = ax.set(title='Confusion Matrix', xlabel='Predicted Label',\n",
    "                ylabel='True Label', xticklabels=np.arange(1,8,1),\n",
    "                yticklabels=np.arange(1,8,1))"
   ]
  },
  {
   "cell_type": "markdown",
   "metadata": {},
   "source": [
    "### GaussianNB"
   ]
  },
  {
   "cell_type": "code",
   "execution_count": 20,
   "metadata": {
    "ExecuteTime": {
     "end_time": "2019-11-08T17:41:43.435786Z",
     "start_time": "2019-11-08T17:41:42.527027Z"
    }
   },
   "outputs": [
    {
     "name": "stdout",
     "output_type": "stream",
     "text": [
      "Accuracy: 0.6032653675419457\n"
     ]
    },
    {
     "data": {
      "image/png": "[encoded data removed]",
      "text/plain": [
       "<matplotlib.figure.Figure at 0x22096fb52e8>"
      ]
     },
     "metadata": {
      "needs_background": "light"
     },
     "output_type": "display_data"
    }
   ],
   "source": [
    "# GaussianNB\n",
    "gnb = GaussianNB()\n",
    "gnb.fit(trnX, trnY.ravel())\n",
    "prdY = gnb.predict(tstX)\n",
    "\n",
    "test_scores['GaussianNB'] = accuracy_score(tstY, prdY)\n",
    "print('Accuracy:', test_scores['GaussianNB'])\n",
    "\n",
    "cnf_mtx = confusion_matrix(tstY, prdY)\n",
    "plot_cnf_mtx(cnf_mtx)"
   ]
  },
  {
   "cell_type": "markdown",
   "metadata": {},
   "source": [
    "### KNearestNeighbors"
   ]
  },
  {
   "cell_type": "code",
   "execution_count": 21,
   "metadata": {
    "ExecuteTime": {
     "end_time": "2019-11-08T17:41:51.316115Z",
     "start_time": "2019-11-08T17:41:48.885666Z"
    }
   },
   "outputs": [
    {
     "name": "stdout",
     "output_type": "stream",
     "text": [
      "Accuracy: 0.8930103077270334\n"
     ]
    },
    {
     "data": {
      "image/png": "[encoded data removed]",
      "text/plain": [
       "<matplotlib.figure.Figure at 0x220981b8c18>"
      ]
     },
     "metadata": {
      "needs_background": "light"
     },
     "output_type": "display_data"
    }
   ],
   "source": [
    "# KNN\n",
    "knn = KNeighborsClassifier(n_neighbors=5, metric='minkowski')\n",
    "knn.fit(trnX, trnY.ravel())\n",
    "prdY = knn.predict(tstX)\n",
    "    \n",
    "test_scores['KNN'] = accuracy_score(tstY, prdY)\n",
    "print('Accuracy:', test_scores['KNN'])\n",
    "\n",
    "cnf_mtx = confusion_matrix(tstY, prdY)\n",
    "plot_cnf_mtx(cnf_mtx)"
   ]
  },
  {
   "cell_type": "markdown",
   "metadata": {},
   "source": [
    "### Desicion Tree Classifier"
   ]
  },
  {
   "cell_type": "code",
   "execution_count": 22,
   "metadata": {
    "ExecuteTime": {
     "end_time": "2019-11-08T17:41:56.988029Z",
     "start_time": "2019-11-08T17:41:55.292760Z"
    }
   },
   "outputs": [
    {
     "name": "stdout",
     "output_type": "stream",
     "text": [
      "Accuracy: 0.8479422165375066\n"
     ]
    },
    {
     "data": {
      "image/png": "[encoded data removed]",
      "text/plain": [
       "<matplotlib.figure.Figure at 0x220987808d0>"
      ]
     },
     "metadata": {
      "needs_background": "light"
     },
     "output_type": "display_data"
    }
   ],
   "source": [
    "# Decision Tree\n",
    "dtc = DecisionTreeClassifier(min_samples_split=9, min_samples_leaf=3, max_depth=14, criterion='entropy', random_state= random_state)\n",
    "dtc.fit(trnX, trnY.ravel())\n",
    "prdY = dtc.predict(tstX)\n",
    "    \n",
    "test_scores['Decision Tree'] = accuracy_score(tstY, prdY)\n",
    "print('Accuracy:', test_scores['Decision Tree'])\n",
    "\n",
    "cnf_mtx = confusion_matrix(tstY, prdY)\n",
    "plot_cnf_mtx(cnf_mtx)"
   ]
  },
  {
   "cell_type": "markdown",
   "metadata": {},
   "source": [
    "### Random Forest Classifier"
   ]
  },
  {
   "cell_type": "code",
   "execution_count": 23,
   "metadata": {
    "ExecuteTime": {
     "end_time": "2019-11-08T17:42:31.720509Z",
     "start_time": "2019-11-08T17:42:00.032449Z"
    }
   },
   "outputs": [
    {
     "name": "stdout",
     "output_type": "stream",
     "text": [
      "Accuracy: 0.8430516891129336\n"
     ]
    },
    {
     "data": {
      "image/png": "[encoded data removed]",
      "text/plain": [
       "<matplotlib.figure.Figure at 0x220975b1940>"
      ]
     },
     "metadata": {
      "needs_background": "light"
     },
     "output_type": "display_data"
    }
   ],
   "source": [
    "# Random Forest\n",
    "rfc = RandomForestClassifier(n_estimators=290, min_samples_split=2, max_features='auto', max_depth=12)\n",
    "rfc.fit(trnX, trnY.ravel())\n",
    "prdY = rfc.predict(tstX)\n",
    "\n",
    "test_scores['Random Forest'] = accuracy_score(tstY, prdY)\n",
    "print('Accuracy:', test_scores['Random Forest'])\n",
    "\n",
    "cnf_mtx = confusion_matrix(tstY, prdY)\n",
    "plot_cnf_mtx(cnf_mtx)"
   ]
  },
  {
   "cell_type": "markdown",
   "metadata": {},
   "source": [
    "### XGBoost Classifier"
   ]
  },
  {
   "cell_type": "code",
   "execution_count": 24,
   "metadata": {
    "ExecuteTime": {
     "end_time": "2019-11-08T17:52:29.207009Z",
     "start_time": "2019-11-08T17:43:07.066974Z"
    }
   },
   "outputs": [
    {
     "name": "stdout",
     "output_type": "stream",
     "text": [
      "Accuracy: 0.7882777819577157\n"
     ]
    },
    {
     "data": {
      "image/png": "[encoded data removed]",
      "text/plain": [
       "<matplotlib.figure.Figure at 0x22098780a20>"
      ]
     },
     "metadata": {
      "needs_background": "light"
     },
     "output_type": "display_data"
    }
   ],
   "source": [
    "# XGBoost\n",
    "xgb = XGBClassifier(learning_rate=0.05, n_estimators=300, max_depth=3, seed=random_state)\n",
    "xgb.fit(trnX, trnY.ravel())\n",
    "prdY = xgb.predict(tstX)\n",
    "    \n",
    "test_scores['XGBoost'] = accuracy_score(tstY, prdY)\n",
    "print('Accuracy:', test_scores['XGBoost'])\n",
    "\n",
    "cnf_mtx = confusion_matrix(tstY, prdY)\n",
    "plot_cnf_mtx(cnf_mtx)"
   ]
  },
  {
   "cell_type": "code",
   "execution_count": 25,
   "metadata": {
    "ExecuteTime": {
     "end_time": "2019-11-08T17:54:04.964874Z",
     "start_time": "2019-11-08T17:54:04.545537Z"
    }
   },
   "outputs": [
    {
     "name": "stdout",
     "output_type": "stream",
     "text": [
      "{'GaussianNB': 0.6032653675419457, 'KNN': 0.8930103077270334, 'Decision Tree': 0.8479422165375066, 'Random Forest': 0.8430516891129336, 'XGBoost': 0.7882777819577157}\n"
     ]
    },
    {
     "data": {
      "image/png": "[encoded data removed]",
      "text/plain": [
       "<matplotlib.figure.Figure at 0x22097616fd0>"
      ]
     },
     "metadata": {
      "needs_background": "light"
     },
     "output_type": "display_data"
    }
   ],
   "source": [
    "print(test_scores)\n",
    "plt.bar(range(len(test_scores)), list(test_scores.values()), align='center')\n",
    "plt.xticks(range(len(test_scores)), list(test_scores.keys()), rotation='vertical')\n",
    "plt.show()"
   ]
  },
  {
   "cell_type": "markdown",
   "metadata": {},
   "source": [
    "We can see that KNN had the best performance out of every model we tried out! We can try to use GridSearchCV for further hyperparameter tuning to see if it has any effect on model performance."
   ]
  },
  {
   "cell_type": "markdown",
   "metadata": {},
   "source": [
    "### KNN Further tuning"
   ]
  },
  {
   "cell_type": "code",
   "execution_count": 27,
   "metadata": {
    "ExecuteTime": {
     "end_time": "2019-11-08T19:20:40.898777Z",
     "start_time": "2019-11-08T19:10:54.416732Z"
    }
   },
   "outputs": [
    {
     "name": "stdout",
     "output_type": "stream",
     "text": [
      "Classifier best score: 0.8988 for parameters: {'metric': 'minkowski', 'n_neighbors': 3}\n"
     ]
    }
   ],
   "source": [
    "grid = {'n_neighbors':np.arange(3,16,1),\n",
    "        'metric':['minkowski']}\n",
    "\n",
    "knn = GridSearchCV(KNeighborsClassifier(), grid, cv=5)\n",
    "\n",
    "knn.fit(trnX, trnY.ravel())\n",
    "\n",
    "print(\"Classifier best score: %.4f for parameters: %s\" % (knn.best_score_.mean(), knn.best_params_))"
   ]
  },
  {
   "cell_type": "markdown",
   "metadata": {},
   "source": [
    "Classifier best score: 0.8988 for parameters: {'metric': 'minkowski', 'n_neighbors': 3}"
   ]
  },
  {
   "cell_type": "code",
   "execution_count": 28,
   "metadata": {
    "ExecuteTime": {
     "end_time": "2019-11-08T19:20:55.133430Z",
     "start_time": "2019-11-08T19:20:51.147788Z"
    }
   },
   "outputs": [
    {
     "name": "stdout",
     "output_type": "stream",
     "text": [
      "Accuracy: 0.9057256790309232\n"
     ]
    },
    {
     "data": {
      "image/png": "[encoded data removed]",
      "text/plain": [
       "<matplotlib.figure.Figure at 0x220982dc0f0>"
      ]
     },
     "metadata": {
      "needs_background": "light"
     },
     "output_type": "display_data"
    }
   ],
   "source": [
    "knn = KNeighborsClassifier(n_neighbors=3, metric='minkowski')\n",
    "knn.fit(trnX, trnY.ravel())\n",
    "prdY = knn.predict(tstX)\n",
    "    \n",
    "print('Accuracy:', accuracy_score(tstY, prdY))\n",
    "\n",
    "cnf_mtx = confusion_matrix(tstY, prdY)\n",
    "plot_cnf_mtx(cnf_mtx)"
   ]
  },
  {
   "cell_type": "markdown",
   "metadata": {},
   "source": [
    "Further hyperparameter tuning was effective, we were able to increase the accuracy of the model from 0.893 to 0.906. One thing that can still be done is normalization of numerical variables."
   ]
  },
  {
   "cell_type": "code",
   "execution_count": 29,
   "metadata": {
    "ExecuteTime": {
     "end_time": "2019-11-08T19:21:51.134169Z",
     "start_time": "2019-11-08T19:21:50.968780Z"
    }
   },
   "outputs": [
    {
     "name": "stderr",
     "output_type": "stream",
     "text": [
      "C:\\Users\\joona\\Anaconda3\\lib\\site-packages\\sklearn\\utils\\validation.py:595: DataConversionWarning: Data with input dtype int64 was converted to float64 by MinMaxScaler.\n",
      "  warnings.warn(msg, DataConversionWarning)\n"
     ]
    }
   ],
   "source": [
    "from sklearn.preprocessing import MinMaxScaler\n",
    "\n",
    "scaler = MinMaxScaler().fit(trnX)\n",
    "trnX = scaler.transform(trnX)"
   ]
  },
  {
   "cell_type": "code",
   "execution_count": 30,
   "metadata": {
    "ExecuteTime": {
     "end_time": "2019-11-08T19:22:14.397329Z",
     "start_time": "2019-11-08T19:21:56.976031Z"
    }
   },
   "outputs": [
    {
     "name": "stdout",
     "output_type": "stream",
     "text": [
      "Accuracy: 0.8811978030246032\n"
     ]
    },
    {
     "data": {
      "image/png": "[encoded data removed]",
      "text/plain": [
       "<matplotlib.figure.Figure at 0x22097170278>"
      ]
     },
     "metadata": {
      "needs_background": "light"
     },
     "output_type": "display_data"
    }
   ],
   "source": [
    "knn = KNeighborsClassifier(n_neighbors=3, metric='minkowski')\n",
    "knn.fit(trnX, trnY.ravel())\n",
    "\n",
    "# Apply scaler to test data\n",
    "tstX = scaler.transform(tstX)\n",
    "\n",
    "prdY = knn.predict(tstX)\n",
    "\n",
    "print('Accuracy:', accuracy_score(tstY, prdY))\n",
    "\n",
    "cnf_mtx = confusion_matrix(tstY, prdY)\n",
    "plot_cnf_mtx(cnf_mtx)"
   ]
  },
  {
   "cell_type": "markdown",
   "metadata": {},
   "source": [
    "Scaling numerical features to range 0 to 1 seems to hinder the performance of the classifier a bit (0.9057 -> 0.8812). This might be due to not optimal hyperparameters for the scaled data. We can try optimizing hyperparams with grid search once more to see if we can improve the model."
   ]
  },
  {
   "cell_type": "code",
   "execution_count": null,
   "metadata": {
    "ExecuteTime": {
     "start_time": "2019-11-08T19:25:45.851Z"
    }
   },
   "outputs": [],
   "source": [
    "grid = {'n_neighbors':np.arange(3,16,1),\n",
    "        'metric':['minkowski']}\n",
    "\n",
    "knn = GridSearchCV(KNeighborsClassifier(), grid, cv=5)\n",
    "\n",
    "knn.fit(trnX, trnY.ravel())\n",
    "\n",
    "print(\"Classifier best score: %.4f for parameters: %s\" % (knn.best_score_.mean(), knn.best_params_))"
   ]
  },
  {
   "cell_type": "code",
   "execution_count": null,
   "metadata": {},
   "outputs": [],
   "source": []
  }
 ],
 "metadata": {
  "kernelspec": {
   "display_name": "Python 3",
   "language": "python",
   "name": "python3"
  },
  "language_info": {
   "codemirror_mode": {
    "name": "ipython",
    "version": 3
   },
   "file_extension": ".py",
   "mimetype": "text/x-python",
   "name": "python",
   "nbconvert_exporter": "python",
   "pygments_lexer": "ipython3",
   "version": "3.6.9"
  }
 },
 "nbformat": 4,
 "nbformat_minor": 2
}
