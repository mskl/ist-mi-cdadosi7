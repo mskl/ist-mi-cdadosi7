{
 "cells": [
  {
   "cell_type": "code",
   "execution_count": 83,
   "metadata": {
    "ExecuteTime": {
     "end_time": "2019-11-18T13:01:56.109861Z",
     "start_time": "2019-11-18T13:01:56.104500Z"
    }
   },
   "outputs": [],
   "source": [
    "import pandas as pd\n",
    "import numpy as np\n",
    "import matplotlib.pyplot as plt\n",
    "import seaborn as sns\n",
    "from scipy import interp\n",
    "%matplotlib inline\n",
    "\n",
    "# Set random seed to ensure reproducability\n",
    "random_state = 42"
   ]
  },
  {
   "cell_type": "code",
   "execution_count": 102,
   "metadata": {
    "ExecuteTime": {
     "end_time": "2019-11-18T13:38:47.799615Z",
     "start_time": "2019-11-18T13:38:47.794272Z"
    }
   },
   "outputs": [],
   "source": [
    "# Column names extracted from the dataset description file\n",
    "cols = [\"Elevation\", \"Aspect\", \"Slope\", \"Horizontal_Distance_To_Hydrology\", \n",
    "         \"Vertical_Distance_To_Hydrology\", \"Horizontal_Distance_To_Roadways\", \n",
    "         \"Hillshade_9am\", \"Hillshade_Noon\", \"Hillshade_3pm\", \n",
    "         \"Horizontal_Distance_To_Fire_Points\"] + \\\n",
    "       [\"Wilderness_Area_{}\".format(i) for i in range(4)] + \\\n",
    "       [\"Soil_Type {}\".format(i) for i in range(40)] + \\\n",
    "       [\"Cover_Type\"]"
   ]
  },
  {
   "cell_type": "code",
   "execution_count": 123,
   "metadata": {
    "ExecuteTime": {
     "end_time": "2019-11-18T13:46:28.771121Z",
     "start_time": "2019-11-18T13:46:27.240142Z"
    }
   },
   "outputs": [],
   "source": [
    "data = pd.read_csv('dataset/covtype.data', header=None, names=cols)"
   ]
  },
  {
   "cell_type": "code",
   "execution_count": 136,
   "metadata": {
    "ExecuteTime": {
     "end_time": "2019-11-18T13:48:38.293560Z",
     "start_time": "2019-11-18T13:48:37.896811Z"
    }
   },
   "outputs": [],
   "source": [
    "class_size= 10000\n",
    "df = data.groupby(\"Cover_Type\").apply(lambda x: x.sample(min(class_size, len(x)))).reset_index(1)\n",
    "df = df.drop(columns=[\"Cover_Type\"]).reset_index().drop(columns=[\"level_1\"])"
   ]
  },
  {
   "cell_type": "code",
   "execution_count": 139,
   "metadata": {
    "ExecuteTime": {
     "end_time": "2019-11-18T13:49:10.479124Z",
     "start_time": "2019-11-18T13:49:10.467317Z"
    }
   },
   "outputs": [],
   "source": [
    "X = df.loc[:, df.columns != 'Cover_Type']\n",
    "y = df[[\"Cover_Type\"]]"
   ]
  },
  {
   "cell_type": "code",
   "execution_count": 143,
   "metadata": {
    "ExecuteTime": {
     "end_time": "2019-11-18T13:50:01.981439Z",
     "start_time": "2019-11-18T13:50:01.977716Z"
    }
   },
   "outputs": [],
   "source": [
    "binary_columns = df.columns[df.columns.map(lambda x: (\"Area\" in x) or (\"Soil\" in x))]"
   ]
  },
  {
   "cell_type": "code",
   "execution_count": 147,
   "metadata": {
    "ExecuteTime": {
     "end_time": "2019-11-18T13:50:33.922173Z",
     "start_time": "2019-11-18T13:50:33.906203Z"
    }
   },
   "outputs": [],
   "source": [
    "binX = X.loc[:, binary_columns]"
   ]
  },
  {
   "cell_type": "code",
   "execution_count": 161,
   "metadata": {
    "ExecuteTime": {
     "end_time": "2019-11-18T14:04:46.618202Z",
     "start_time": "2019-11-18T14:04:41.826730Z"
    }
   },
   "outputs": [
    {
     "name": "stdout",
     "output_type": "stream",
     "text": [
      "Minsup 0.43046721000000016 found 1 patterns out of which 0 contain class consequent\n",
      "Minsup 0.38742048900000015 found 1 patterns out of which 0 contain class consequent\n",
      "Minsup 0.34867844010000015 found 1 patterns out of which 0 contain class consequent\n",
      "Minsup 0.31381059609000017 found 1 patterns out of which 0 contain class consequent\n",
      "Minsup 0.28242953648100017 found 1 patterns out of which 0 contain class consequent\n",
      "Minsup 0.25418658283290013 found 2 patterns out of which 0 contain class consequent\n",
      "Minsup 0.22876792454961012 found 3 patterns out of which 0 contain class consequent\n",
      "Minsup 0.2058911320946491 found 3 patterns out of which 0 contain class consequent\n",
      "Minsup 0.1853020188851842 found 3 patterns out of which 0 contain class consequent\n",
      "Minsup 0.16677181699666577 found 3 patterns out of which 0 contain class consequent\n",
      "Minsup 0.1500946352969992 found 3 patterns out of which 0 contain class consequent\n",
      "Minsup 0.13508517176729928 found 4 patterns out of which 0 contain class consequent\n",
      "Minsup 0.12157665459056936 found 4 patterns out of which 0 contain class consequent\n",
      "Minsup 0.10941898913151243 found 4 patterns out of which 0 contain class consequent\n",
      "Minsup 0.0984770902183612 found 5 patterns out of which 0 contain class consequent\n",
      "Minsup 0.08862938119652508 found 7 patterns out of which 0 contain class consequent\n",
      "Minsup 0.07976644307687257 found 7 patterns out of which 0 contain class consequent\n",
      "Minsup 0.07178979876918531 found 7 patterns out of which 0 contain class consequent\n",
      "Minsup 0.06461081889226679 found 7 patterns out of which 0 contain class consequent\n",
      "Minsup 0.05814973700304011 found 7 patterns out of which 0 contain class consequent\n",
      "Minsup 0.0523347633027361 found 12 patterns out of which 0 contain class consequent\n",
      "Minsup 0.04710128697246249 found 14 patterns out of which 0 contain class consequent\n",
      "Minsup 0.042391158275216244 found 19 patterns out of which 0 contain class consequent\n",
      "Minsup 0.03815204244769462 found 20 patterns out of which 0 contain class consequent\n",
      "Minsup 0.03433683820292516 found 25 patterns out of which 0 contain class consequent\n",
      "Minsup 0.030903154382632643 found 28 patterns out of which 0 contain class consequent\n",
      "Minsup 0.02781283894436938 found 30 patterns out of which 0 contain class consequent\n",
      "Minsup 0.025031555049932444 found 34 patterns out of which 0 contain class consequent\n",
      "Minsup 0.0225283995449392 found 39 patterns out of which 0 contain class consequent\n",
      "Minsup 0.020275559590445278 found 39 patterns out of which 0 contain class consequent\n",
      "Minsup 0.01824800363140075 found 41 patterns out of which 0 contain class consequent\n",
      "Minsup 0.016423203268260675 found 46 patterns out of which 0 contain class consequent\n",
      "Minsup 0.014780882941434608 found 47 patterns out of which 0 contain class consequent\n",
      "Minsup 0.013302794647291147 found 49 patterns out of which 0 contain class consequent\n",
      "Minsup 0.011972515182562033 found 51 patterns out of which 0 contain class consequent\n",
      "Minimum support: 0.011972515182562033\n",
      "Number of found patterns: 51\n"
     ]
    }
   ],
   "source": [
    "from mlxtend.frequent_patterns import apriori, association_rules\n",
    "from sklearn.preprocessing import LabelBinarizer\n",
    "\n",
    "frequent_itemsets = {}\n",
    "minpaterns = 50\n",
    "minsup = 0.9\n",
    "classrules = None\n",
    "while minsup > 0:    \n",
    "    minsup = minsup * 0.9\n",
    "    frequent_itemsets = apriori(binX, min_support=minsup, use_colnames=True, verbose=0)\n",
    "    if len(frequent_itemsets) < 1:\n",
    "        continue\n",
    "    \n",
    "    frequent_itemsets['length'] = frequent_itemsets['itemsets'].apply(lambda x: len(x))\n",
    "    rules = association_rules(frequent_itemsets, metric=\"confidence\", min_threshold=0.7)\n",
    "    classrules = rules[rules['consequents'] == {'class'}]\n",
    "    \n",
    "    print(\"Minsup {} found {} patterns out of which {} contain class consequent\"\n",
    "          .format(minsup, len(frequent_itemsets), len(classrules)))  \n",
    "    \n",
    "    if len(classrules) >= 100:\n",
    "        print(\"Found {} rules which have class as consequent.\".format(len(classrules)))\n",
    "        break;\n",
    "    \n",
    "    if len(frequent_itemsets) >= minpaterns:\n",
    "        print(\"Minimum support:\", minsup)\n",
    "        print(\"Number of found patterns:\", len(frequent_itemsets))\n",
    "        break"
   ]
  },
  {
   "cell_type": "code",
   "execution_count": 164,
   "metadata": {
    "ExecuteTime": {
     "end_time": "2019-11-18T14:06:18.063403Z",
     "start_time": "2019-11-18T14:06:18.038258Z"
    }
   },
   "outputs": [
    {
     "data": {
      "text/html": [
       "<div>\n",
       "<style scoped>\n",
       "    .dataframe tbody tr th:only-of-type {\n",
       "        vertical-align: middle;\n",
       "    }\n",
       "\n",
       "    .dataframe tbody tr th {\n",
       "        vertical-align: top;\n",
       "    }\n",
       "\n",
       "    .dataframe thead th {\n",
       "        text-align: right;\n",
       "    }\n",
       "</style>\n",
       "<table border=\"1\" class=\"dataframe\">\n",
       "  <thead>\n",
       "    <tr style=\"text-align: right;\">\n",
       "      <th></th>\n",
       "      <th>antecedents</th>\n",
       "      <th>consequents</th>\n",
       "      <th>antecedent support</th>\n",
       "      <th>consequent support</th>\n",
       "      <th>support</th>\n",
       "      <th>confidence</th>\n",
       "      <th>lift</th>\n",
       "      <th>leverage</th>\n",
       "      <th>conviction</th>\n",
       "    </tr>\n",
       "  </thead>\n",
       "  <tbody>\n",
       "    <tr>\n",
       "      <th>1</th>\n",
       "      <td>(Soil_Type 28)</td>\n",
       "      <td>(Wilderness_Area_0)</td>\n",
       "      <td>0.10</td>\n",
       "      <td>0.26</td>\n",
       "      <td>0.10</td>\n",
       "      <td>1.00</td>\n",
       "      <td>3.80</td>\n",
       "      <td>0.07</td>\n",
       "      <td>4466.30</td>\n",
       "    </tr>\n",
       "    <tr>\n",
       "      <th>2</th>\n",
       "      <td>(Soil_Type 29)</td>\n",
       "      <td>(Wilderness_Area_0)</td>\n",
       "      <td>0.05</td>\n",
       "      <td>0.26</td>\n",
       "      <td>0.05</td>\n",
       "      <td>1.00</td>\n",
       "      <td>3.80</td>\n",
       "      <td>0.04</td>\n",
       "      <td>inf</td>\n",
       "    </tr>\n",
       "    <tr>\n",
       "      <th>3</th>\n",
       "      <td>(Soil_Type 3)</td>\n",
       "      <td>(Wilderness_Area_2)</td>\n",
       "      <td>0.05</td>\n",
       "      <td>0.47</td>\n",
       "      <td>0.05</td>\n",
       "      <td>0.86</td>\n",
       "      <td>1.83</td>\n",
       "      <td>0.02</td>\n",
       "      <td>3.68</td>\n",
       "    </tr>\n",
       "    <tr>\n",
       "      <th>8</th>\n",
       "      <td>(Soil_Type 31)</td>\n",
       "      <td>(Wilderness_Area_2)</td>\n",
       "      <td>0.05</td>\n",
       "      <td>0.47</td>\n",
       "      <td>0.05</td>\n",
       "      <td>0.95</td>\n",
       "      <td>2.03</td>\n",
       "      <td>0.02</td>\n",
       "      <td>9.93</td>\n",
       "    </tr>\n",
       "    <tr>\n",
       "      <th>9</th>\n",
       "      <td>(Soil_Type 32)</td>\n",
       "      <td>(Wilderness_Area_2)</td>\n",
       "      <td>0.05</td>\n",
       "      <td>0.47</td>\n",
       "      <td>0.04</td>\n",
       "      <td>0.96</td>\n",
       "      <td>2.05</td>\n",
       "      <td>0.02</td>\n",
       "      <td>12.41</td>\n",
       "    </tr>\n",
       "    <tr>\n",
       "      <th>5</th>\n",
       "      <td>(Soil_Type 12)</td>\n",
       "      <td>(Wilderness_Area_2)</td>\n",
       "      <td>0.04</td>\n",
       "      <td>0.47</td>\n",
       "      <td>0.04</td>\n",
       "      <td>1.00</td>\n",
       "      <td>2.13</td>\n",
       "      <td>0.02</td>\n",
       "      <td>150.46</td>\n",
       "    </tr>\n",
       "    <tr>\n",
       "      <th>12</th>\n",
       "      <td>(Soil_Type 5)</td>\n",
       "      <td>(Wilderness_Area_3)</td>\n",
       "      <td>0.04</td>\n",
       "      <td>0.23</td>\n",
       "      <td>0.04</td>\n",
       "      <td>1.00</td>\n",
       "      <td>4.31</td>\n",
       "      <td>0.03</td>\n",
       "      <td>inf</td>\n",
       "    </tr>\n",
       "    <tr>\n",
       "      <th>4</th>\n",
       "      <td>(Soil_Type 10)</td>\n",
       "      <td>(Wilderness_Area_2)</td>\n",
       "      <td>0.03</td>\n",
       "      <td>0.47</td>\n",
       "      <td>0.02</td>\n",
       "      <td>0.85</td>\n",
       "      <td>1.81</td>\n",
       "      <td>0.01</td>\n",
       "      <td>3.45</td>\n",
       "    </tr>\n",
       "    <tr>\n",
       "      <th>11</th>\n",
       "      <td>(Soil_Type 2)</td>\n",
       "      <td>(Wilderness_Area_3)</td>\n",
       "      <td>0.03</td>\n",
       "      <td>0.23</td>\n",
       "      <td>0.02</td>\n",
       "      <td>0.77</td>\n",
       "      <td>3.33</td>\n",
       "      <td>0.02</td>\n",
       "      <td>3.40</td>\n",
       "    </tr>\n",
       "    <tr>\n",
       "      <th>7</th>\n",
       "      <td>(Soil_Type 30)</td>\n",
       "      <td>(Wilderness_Area_2)</td>\n",
       "      <td>0.02</td>\n",
       "      <td>0.47</td>\n",
       "      <td>0.02</td>\n",
       "      <td>0.98</td>\n",
       "      <td>2.11</td>\n",
       "      <td>0.01</td>\n",
       "      <td>33.56</td>\n",
       "    </tr>\n",
       "    <tr>\n",
       "      <th>10</th>\n",
       "      <td>(Soil_Type 0)</td>\n",
       "      <td>(Wilderness_Area_3)</td>\n",
       "      <td>0.02</td>\n",
       "      <td>0.23</td>\n",
       "      <td>0.02</td>\n",
       "      <td>1.00</td>\n",
       "      <td>4.31</td>\n",
       "      <td>0.01</td>\n",
       "      <td>inf</td>\n",
       "    </tr>\n",
       "    <tr>\n",
       "      <th>0</th>\n",
       "      <td>(Soil_Type 11)</td>\n",
       "      <td>(Wilderness_Area_0)</td>\n",
       "      <td>0.02</td>\n",
       "      <td>0.26</td>\n",
       "      <td>0.02</td>\n",
       "      <td>1.00</td>\n",
       "      <td>3.80</td>\n",
       "      <td>0.01</td>\n",
       "      <td>inf</td>\n",
       "    </tr>\n",
       "    <tr>\n",
       "      <th>6</th>\n",
       "      <td>(Soil_Type 23)</td>\n",
       "      <td>(Wilderness_Area_2)</td>\n",
       "      <td>0.02</td>\n",
       "      <td>0.47</td>\n",
       "      <td>0.01</td>\n",
       "      <td>0.72</td>\n",
       "      <td>1.55</td>\n",
       "      <td>0.00</td>\n",
       "      <td>1.92</td>\n",
       "    </tr>\n",
       "  </tbody>\n",
       "</table>\n",
       "</div>"
      ],
      "text/plain": [
       "       antecedents          consequents  antecedent support  \\\n",
       "1   (Soil_Type 28)  (Wilderness_Area_0)                0.10   \n",
       "2   (Soil_Type 29)  (Wilderness_Area_0)                0.05   \n",
       "3    (Soil_Type 3)  (Wilderness_Area_2)                0.05   \n",
       "8   (Soil_Type 31)  (Wilderness_Area_2)                0.05   \n",
       "9   (Soil_Type 32)  (Wilderness_Area_2)                0.05   \n",
       "5   (Soil_Type 12)  (Wilderness_Area_2)                0.04   \n",
       "12   (Soil_Type 5)  (Wilderness_Area_3)                0.04   \n",
       "4   (Soil_Type 10)  (Wilderness_Area_2)                0.03   \n",
       "11   (Soil_Type 2)  (Wilderness_Area_3)                0.03   \n",
       "7   (Soil_Type 30)  (Wilderness_Area_2)                0.02   \n",
       "10   (Soil_Type 0)  (Wilderness_Area_3)                0.02   \n",
       "0   (Soil_Type 11)  (Wilderness_Area_0)                0.02   \n",
       "6   (Soil_Type 23)  (Wilderness_Area_2)                0.02   \n",
       "\n",
       "    consequent support  support  confidence  lift  leverage  conviction  \n",
       "1                 0.26     0.10        1.00  3.80      0.07     4466.30  \n",
       "2                 0.26     0.05        1.00  3.80      0.04         inf  \n",
       "3                 0.47     0.05        0.86  1.83      0.02        3.68  \n",
       "8                 0.47     0.05        0.95  2.03      0.02        9.93  \n",
       "9                 0.47     0.04        0.96  2.05      0.02       12.41  \n",
       "5                 0.47     0.04        1.00  2.13      0.02      150.46  \n",
       "12                0.23     0.04        1.00  4.31      0.03         inf  \n",
       "4                 0.47     0.02        0.85  1.81      0.01        3.45  \n",
       "11                0.23     0.02        0.77  3.33      0.02        3.40  \n",
       "7                 0.47     0.02        0.98  2.11      0.01       33.56  \n",
       "10                0.23     0.02        1.00  4.31      0.01         inf  \n",
       "0                 0.26     0.02        1.00  3.80      0.01         inf  \n",
       "6                 0.47     0.01        0.72  1.55      0.00        1.92  "
      ]
     },
     "execution_count": 164,
     "metadata": {},
     "output_type": "execute_result"
    }
   ],
   "source": [
    "rules.sort_values(by=[\"support\", \"confidence\"], ascending=False)"
   ]
  },
  {
   "cell_type": "code",
   "execution_count": null,
   "metadata": {},
   "outputs": [],
   "source": []
  }
 ],
 "metadata": {
  "kernelspec": {
   "display_name": "Python 3",
   "language": "python",
   "name": "python3"
  },
  "language_info": {
   "codemirror_mode": {
    "name": "ipython",
    "version": 3
   },
   "file_extension": ".py",
   "mimetype": "text/x-python",
   "name": "python",
   "nbconvert_exporter": "python",
   "pygments_lexer": "ipython3",
   "version": "3.6.1"
  }
 },
 "nbformat": 4,
 "nbformat_minor": 2
}
