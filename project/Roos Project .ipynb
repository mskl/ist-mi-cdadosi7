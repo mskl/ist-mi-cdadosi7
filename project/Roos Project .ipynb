{
 "cells": [
  {
   "cell_type": "markdown",
   "metadata": {},
   "source": [
    "# Parkinson's Disease Classification\n",
    "# Evaluation\n",
    "## 1. Statistical description (5%)\n",
    "The students should perform a statistical analysis of the datasets in advance and summarize relevant\n",
    "implications in the report, such as the underlying distributions and hypothesized forms feature dependency.\n",
    "## 2. Preprocessing (20%)\n",
    "In accordance with the properties of the input dataset and the behavior of the target learning algorithm,\n",
    "the students are allowed to apply preprocessing techniques when needed or under a solid conjecture of its\n",
    "potential impact on learning. \n",
    "## 3. Unsupervised\n",
    "### a. Association Rules (7.5%)\n",
    "### b.Clustering (7.5%)\n",
    "Unsupervised exploration must be done through clustering and association rule mining. Class attributes\n",
    "should not be used to explore the data, unless there is a well substantiated interest for mining classconditional data or discovering association rules with classes in the antecedent/consequent. Nevertheless,\n",
    "class attributes may be used to objectively assess clustering results and evaluate the discriminative power\n",
    "of certain association rules. Besides this, statistical evaluation must be performed using the studied indexes.\n",
    "## 4. Classification\n",
    "### a. Naïve Bayes (2%)\n",
    "### b. Instance-based Learning (3%)\n",
    "### c. Decision Trees (5%)\n",
    "### d.Random Forests (5%)\n",
    "### e. XGBoost (5%)\n",
    "Supervised exploration must be done via the application of kNN, Naïve Bayes, Decision Trees, Random\n",
    "Forests and XGBoost. For this purpose, the use of class attributes is mandatory. Evaluation of the obtained\n",
    "models should be done as usual, through accuracy measures and evaluation charts, as studied in the classes.\n",
    "A thorough comparison of the adequacy of the models should be present taking into consideration the\n",
    "adequacy of their behavior against the properties of each dataset and their observed performance.\n",
    "\n",
    "# 5. Evaluation and critical analysis (30%)\n",
    "A project that applies the suggested data mining techniques over the given datasets and provides a clear\n",
    "and sound analysis of the collected results is not necessarily an excelling project.\n",
    "Excelling projects have four major characteristics.\n",
    "First, they show an acute understanding of the data characteristics and their impact on the learning.\n",
    "Excelling projects formulate hypothesis behind differences in performance.\n",
    "Second, they have precise and succinct language: no redundancies, unnecessary or subjective statements.\n",
    "Third, excelling projects are often a result of a creative thinking on ways of improving the learning.\n",
    "Illustrating, the justified use of a specific preprocessing technique (whether the inclusion of new features,\n",
    "space transformations, handling of outliers or specific forms of noise) can make a difference.\n",
    "Fourth, robust assessments go beyond simple performance indicators. Excelling projects draw (parametervarying) plots, test hypotheses, and establish ratios to understand less-trivial performance views such as\n",
    "robustness to noise, domain adequacy or overfitting propensity.\n",
    "## 6. Creativity (10%)\n",
    "\n"
   ]
  },
  {
   "cell_type": "markdown",
   "metadata": {},
   "source": [
    "# Statistical Description"
   ]
  },
  {
   "cell_type": "code",
   "execution_count": null,
   "metadata": {},
   "outputs": [],
   "source": [
    "# import libraries\n",
    "import pandas as pd\n",
    "import matplotlib.pyplot as plt\n",
    "import numpy as np"
   ]
  },
  {
   "cell_type": "code",
   "execution_count": null,
   "metadata": {},
   "outputs": [],
   "source": [
    "#import data parkinsons disease speech features\n",
    "data = pd.read_csv(\"dataset/pd_speech_features.csv\", skiprows=1)"
   ]
  },
  {
   "cell_type": "code",
   "execution_count": null,
   "metadata": {},
   "outputs": [],
   "source": [
    "#check size of data\n",
    "data.shape"
   ]
  },
  {
   "cell_type": "code",
   "execution_count": null,
   "metadata": {},
   "outputs": [],
   "source": [
    "#check type of instances\n",
    "data.dtypes"
   ]
  },
  {
   "cell_type": "markdown",
   "metadata": {},
   "source": [
    "### Only numerical instances, no nominal instances"
   ]
  },
  {
   "cell_type": "code",
   "execution_count": null,
   "metadata": {
    "scrolled": true
   },
   "outputs": [],
   "source": [
    "data.head()"
   ]
  },
  {
   "cell_type": "markdown",
   "metadata": {},
   "source": [
    "### ID shows that every patient has 3 records"
   ]
  },
  {
   "cell_type": "code",
   "execution_count": null,
   "metadata": {},
   "outputs": [],
   "source": [
    "def bar_chart(ax: plt.Axes, xvalues: list, yvalues: list, title: str, xlabel: str, ylabel: str, percentage=False):\n",
    "    ax.set_title(title)\n",
    "    ax.set_xlabel(xlabel)\n",
    "    ax.set_ylabel(ylabel)\n",
    "    ax.set_xticklabels(xvalues, rotation=90, fontsize='small')\n",
    "    if percentage:\n",
    "        ax.set_ylim(0.0, 1.0)\n",
    "    ax.bar(xvalues, yvalues, edgecolor='grey')\n",
    "\n",
    "\n",
    "fig = plt.figure(figsize=(10,7))\n",
    "mv = {}\n",
    "for var in data:\n",
    "    mv[var] = data[var].isna().sum()    \n",
    "    bar_chart(plt.gca(), mv.keys(), mv.values(), 'Number of missing values per variable', var, 'nr. missing values')\n",
    "fig.tight_layout()\n",
    "plt.show()"
   ]
  },
  {
   "cell_type": "code",
   "execution_count": null,
   "metadata": {},
   "outputs": [],
   "source": []
  },
  {
   "cell_type": "code",
   "execution_count": null,
   "metadata": {},
   "outputs": [],
   "source": []
  },
  {
   "cell_type": "code",
   "execution_count": null,
   "metadata": {},
   "outputs": [],
   "source": []
  }
 ],
 "metadata": {
  "kernelspec": {
   "display_name": "Python 3",
   "language": "python",
   "name": "python3"
  },
  "language_info": {
   "codemirror_mode": {
    "name": "ipython",
    "version": 3
   },
   "file_extension": ".py",
   "mimetype": "text/x-python",
   "name": "python",
   "nbconvert_exporter": "python",
   "pygments_lexer": "ipython3",
   "version": "3.7.3"
  }
 },
 "nbformat": 4,
 "nbformat_minor": 2
}
