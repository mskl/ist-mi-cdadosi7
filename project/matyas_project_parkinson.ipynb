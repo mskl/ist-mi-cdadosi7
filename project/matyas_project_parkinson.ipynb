{
 "cells": [
  {
   "cell_type": "markdown",
   "metadata": {
    "ExecuteTime": {
     "end_time": "2019-10-03T12:23:12.256183Z",
     "start_time": "2019-10-03T12:23:12.252025Z"
    }
   },
   "source": [
    "# Data Science – Parkinson's Disease Classification\n",
    "https://fenix.tecnico.ulisboa.pt/disciplinas/CDadosi7/2019-2020/1-semestre\n",
    "\n",
    "---\n",
    "\n",
    "The students should perform a statistical analysis of the datasets in advance and summarize relevant implications in the report, such as the underlying distributions and hypothesized forms feature dependency.\n",
    "## Preprocessing\n",
    "In accordance with the properties of the input dataset and the behavior of the target learning algorithm, the\n",
    "students are allowed to apply preprocessing techniques when needed or under a solid conjecture of its potential\n",
    "impact on learning.\n",
    "\n",
    "## Data Set Information\n",
    "The data used in this study were gathered from 188 patients with PD (107 men and 81 women) with ages ranging from 33 to 87 (65.1Â±10.9) at the Department of Neurology in CerrahpaÅŸa Faculty of Medicine, Istanbul University. The control group consists of 64 healthy individuals (23 men and 41 women) with ages varying between 41 and 82 (61.1Â±8.9). During the data collection process, the microphone is set to 44.1 KHz and following the physicianâ€™s examination, the sustained phonation of the vowel /a/ was collected from each subject with three repetitions.\n",
    "\n",
    "## Attribute Information\n",
    "Various speech signal processing algorithms including Time Frequency Features, Mel Frequency Cepstral Coefficients (MFCCs), Wavelet Transform based Features, Vocal Fold Features and TWQT features have been applied to the speech recordings of Parkinson's Disease (PD) patients to extract clinically useful information for PD assessment.\n",
    "\n",
    "---\n",
    "---"
   ]
  },
  {
   "cell_type": "markdown",
   "metadata": {},
   "source": [
    "#### TODO:\n",
    "- [ ] Try to use the dataset with averaging of the ID's\n",
    "- [ ] See the clusters only for persons who have (or not have) a parkinsons\n",
    "- [ ] Add the ROC AUC chart for each classifier\n",
    "    -> will need to do validation dataset :(\n",
    "- [x] Try the LDA instead of PCA -> does not work with negative vals\n",
    "- [x] **Implement association rules.**"
   ]
  },
  {
   "cell_type": "code",
   "execution_count": 1,
   "metadata": {
    "ExecuteTime": {
     "end_time": "2019-10-08T19:47:50.673013Z",
     "start_time": "2019-10-08T19:47:50.669900Z"
    }
   },
   "outputs": [],
   "source": [
    "import warnings\n",
    "warnings.filterwarnings('ignore')"
   ]
  },
  {
   "cell_type": "code",
   "execution_count": 2,
   "metadata": {
    "ExecuteTime": {
     "end_time": "2019-10-08T19:47:50.913763Z",
     "start_time": "2019-10-08T19:47:50.903914Z"
    }
   },
   "outputs": [
    {
     "data": {
      "text/html": [
       "<style>table {display: inline-block}</style>\n"
      ],
      "text/plain": [
       "<IPython.core.display.HTML object>"
      ]
     },
     "metadata": {},
     "output_type": "display_data"
    }
   ],
   "source": [
    "%%html \n",
    "<style>table {display: inline-block}</style>"
   ]
  },
  {
   "cell_type": "code",
   "execution_count": 3,
   "metadata": {
    "ExecuteTime": {
     "end_time": "2019-10-08T19:47:52.356369Z",
     "start_time": "2019-10-08T19:47:51.366109Z"
    }
   },
   "outputs": [],
   "source": [
    "import pandas as pd\n",
    "import matplotlib.pyplot as plt\n",
    "import seaborn as sns\n",
    "import numpy as np\n",
    "%matplotlib inline"
   ]
  },
  {
   "cell_type": "code",
   "execution_count": 4,
   "metadata": {
    "ExecuteTime": {
     "end_time": "2019-10-08T19:47:52.528216Z",
     "start_time": "2019-10-08T19:47:52.359228Z"
    }
   },
   "outputs": [],
   "source": [
    "# Read the dataset and skip the first row\n",
    "df = pd.read_csv(\"dataset/pd_speech_features.csv\", skiprows=1)"
   ]
  },
  {
   "cell_type": "markdown",
   "metadata": {},
   "source": [
    "## 1. Statistical description (5%)"
   ]
  },
  {
   "cell_type": "code",
   "execution_count": 5,
   "metadata": {
    "ExecuteTime": {
     "end_time": "2019-10-08T19:47:52.546394Z",
     "start_time": "2019-10-08T19:47:52.541429Z"
    }
   },
   "outputs": [
    {
     "data": {
      "text/plain": [
       "Index(['id', 'gender', 'PPE', 'DFA', 'RPDE', 'numPulses', 'numPeriodsPulses',\n",
       "       'meanPeriodPulses', 'stdDevPeriodPulses', 'locPctJitter',\n",
       "       ...\n",
       "       'tqwt_kurtosisValue_dec_28', 'tqwt_kurtosisValue_dec_29',\n",
       "       'tqwt_kurtosisValue_dec_30', 'tqwt_kurtosisValue_dec_31',\n",
       "       'tqwt_kurtosisValue_dec_32', 'tqwt_kurtosisValue_dec_33',\n",
       "       'tqwt_kurtosisValue_dec_34', 'tqwt_kurtosisValue_dec_35',\n",
       "       'tqwt_kurtosisValue_dec_36', 'class'],\n",
       "      dtype='object', length=755)"
      ]
     },
     "execution_count": 5,
     "metadata": {},
     "output_type": "execute_result"
    }
   ],
   "source": [
    "# The dataset consists of 755 columns\n",
    "df.columns"
   ]
  },
  {
   "cell_type": "code",
   "execution_count": 6,
   "metadata": {
    "ExecuteTime": {
     "end_time": "2019-10-08T19:47:54.958141Z",
     "start_time": "2019-10-08T19:47:52.920316Z"
    }
   },
   "outputs": [
    {
     "data": {
      "text/html": [
       "<div>\n",
       "<style scoped>\n",
       "    .dataframe tbody tr th:only-of-type {\n",
       "        vertical-align: middle;\n",
       "    }\n",
       "\n",
       "    .dataframe tbody tr th {\n",
       "        vertical-align: top;\n",
       "    }\n",
       "\n",
       "    .dataframe thead th {\n",
       "        text-align: right;\n",
       "    }\n",
       "</style>\n",
       "<table border=\"1\" class=\"dataframe\">\n",
       "  <thead>\n",
       "    <tr style=\"text-align: right;\">\n",
       "      <th></th>\n",
       "      <th>id</th>\n",
       "      <th>gender</th>\n",
       "      <th>PPE</th>\n",
       "      <th>DFA</th>\n",
       "      <th>RPDE</th>\n",
       "      <th>numPulses</th>\n",
       "      <th>numPeriodsPulses</th>\n",
       "      <th>meanPeriodPulses</th>\n",
       "      <th>stdDevPeriodPulses</th>\n",
       "      <th>locPctJitter</th>\n",
       "      <th>...</th>\n",
       "      <th>tqwt_kurtosisValue_dec_28</th>\n",
       "      <th>tqwt_kurtosisValue_dec_29</th>\n",
       "      <th>tqwt_kurtosisValue_dec_30</th>\n",
       "      <th>tqwt_kurtosisValue_dec_31</th>\n",
       "      <th>tqwt_kurtosisValue_dec_32</th>\n",
       "      <th>tqwt_kurtosisValue_dec_33</th>\n",
       "      <th>tqwt_kurtosisValue_dec_34</th>\n",
       "      <th>tqwt_kurtosisValue_dec_35</th>\n",
       "      <th>tqwt_kurtosisValue_dec_36</th>\n",
       "      <th>class</th>\n",
       "    </tr>\n",
       "  </thead>\n",
       "  <tbody>\n",
       "    <tr>\n",
       "      <th>count</th>\n",
       "      <td>756.000000</td>\n",
       "      <td>756.000000</td>\n",
       "      <td>756.000000</td>\n",
       "      <td>756.000000</td>\n",
       "      <td>756.000000</td>\n",
       "      <td>756.000000</td>\n",
       "      <td>756.000000</td>\n",
       "      <td>756.000000</td>\n",
       "      <td>756.000000</td>\n",
       "      <td>756.000000</td>\n",
       "      <td>...</td>\n",
       "      <td>756.000000</td>\n",
       "      <td>756.000000</td>\n",
       "      <td>756.000000</td>\n",
       "      <td>756.000000</td>\n",
       "      <td>756.000000</td>\n",
       "      <td>756.000000</td>\n",
       "      <td>756.000000</td>\n",
       "      <td>756.000000</td>\n",
       "      <td>756.000000</td>\n",
       "      <td>756.000000</td>\n",
       "    </tr>\n",
       "    <tr>\n",
       "      <th>mean</th>\n",
       "      <td>125.500000</td>\n",
       "      <td>0.515873</td>\n",
       "      <td>0.746284</td>\n",
       "      <td>0.700414</td>\n",
       "      <td>0.489058</td>\n",
       "      <td>323.972222</td>\n",
       "      <td>322.678571</td>\n",
       "      <td>0.006360</td>\n",
       "      <td>0.000383</td>\n",
       "      <td>0.002324</td>\n",
       "      <td>...</td>\n",
       "      <td>26.237251</td>\n",
       "      <td>22.840337</td>\n",
       "      <td>18.587888</td>\n",
       "      <td>13.872018</td>\n",
       "      <td>12.218953</td>\n",
       "      <td>12.375335</td>\n",
       "      <td>14.799230</td>\n",
       "      <td>14.751559</td>\n",
       "      <td>31.481110</td>\n",
       "      <td>0.746032</td>\n",
       "    </tr>\n",
       "    <tr>\n",
       "      <th>std</th>\n",
       "      <td>72.793721</td>\n",
       "      <td>0.500079</td>\n",
       "      <td>0.169294</td>\n",
       "      <td>0.069718</td>\n",
       "      <td>0.137442</td>\n",
       "      <td>99.219059</td>\n",
       "      <td>99.402499</td>\n",
       "      <td>0.001826</td>\n",
       "      <td>0.000728</td>\n",
       "      <td>0.002628</td>\n",
       "      <td>...</td>\n",
       "      <td>42.220693</td>\n",
       "      <td>32.626464</td>\n",
       "      <td>25.537464</td>\n",
       "      <td>20.046029</td>\n",
       "      <td>17.783642</td>\n",
       "      <td>16.341665</td>\n",
       "      <td>15.722502</td>\n",
       "      <td>14.432979</td>\n",
       "      <td>34.230991</td>\n",
       "      <td>0.435568</td>\n",
       "    </tr>\n",
       "    <tr>\n",
       "      <th>min</th>\n",
       "      <td>0.000000</td>\n",
       "      <td>0.000000</td>\n",
       "      <td>0.041551</td>\n",
       "      <td>0.543500</td>\n",
       "      <td>0.154300</td>\n",
       "      <td>2.000000</td>\n",
       "      <td>1.000000</td>\n",
       "      <td>0.002107</td>\n",
       "      <td>0.000011</td>\n",
       "      <td>0.000210</td>\n",
       "      <td>...</td>\n",
       "      <td>1.509800</td>\n",
       "      <td>1.531700</td>\n",
       "      <td>1.582900</td>\n",
       "      <td>1.747200</td>\n",
       "      <td>1.789500</td>\n",
       "      <td>1.628700</td>\n",
       "      <td>1.861700</td>\n",
       "      <td>1.955900</td>\n",
       "      <td>2.364000</td>\n",
       "      <td>0.000000</td>\n",
       "    </tr>\n",
       "    <tr>\n",
       "      <th>25%</th>\n",
       "      <td>62.750000</td>\n",
       "      <td>0.000000</td>\n",
       "      <td>0.762833</td>\n",
       "      <td>0.647053</td>\n",
       "      <td>0.386537</td>\n",
       "      <td>251.000000</td>\n",
       "      <td>250.000000</td>\n",
       "      <td>0.005003</td>\n",
       "      <td>0.000049</td>\n",
       "      <td>0.000970</td>\n",
       "      <td>...</td>\n",
       "      <td>2.408675</td>\n",
       "      <td>3.452800</td>\n",
       "      <td>3.354825</td>\n",
       "      <td>3.077450</td>\n",
       "      <td>2.937025</td>\n",
       "      <td>3.114375</td>\n",
       "      <td>3.665925</td>\n",
       "      <td>3.741275</td>\n",
       "      <td>3.948750</td>\n",
       "      <td>0.000000</td>\n",
       "    </tr>\n",
       "    <tr>\n",
       "      <th>50%</th>\n",
       "      <td>125.500000</td>\n",
       "      <td>1.000000</td>\n",
       "      <td>0.809655</td>\n",
       "      <td>0.700525</td>\n",
       "      <td>0.484355</td>\n",
       "      <td>317.000000</td>\n",
       "      <td>316.000000</td>\n",
       "      <td>0.006048</td>\n",
       "      <td>0.000077</td>\n",
       "      <td>0.001495</td>\n",
       "      <td>...</td>\n",
       "      <td>5.586300</td>\n",
       "      <td>7.062750</td>\n",
       "      <td>6.077400</td>\n",
       "      <td>4.770850</td>\n",
       "      <td>4.300450</td>\n",
       "      <td>4.741450</td>\n",
       "      <td>6.725700</td>\n",
       "      <td>7.334250</td>\n",
       "      <td>10.637250</td>\n",
       "      <td>1.000000</td>\n",
       "    </tr>\n",
       "    <tr>\n",
       "      <th>75%</th>\n",
       "      <td>188.250000</td>\n",
       "      <td>1.000000</td>\n",
       "      <td>0.834315</td>\n",
       "      <td>0.754985</td>\n",
       "      <td>0.586515</td>\n",
       "      <td>384.250000</td>\n",
       "      <td>383.250000</td>\n",
       "      <td>0.007528</td>\n",
       "      <td>0.000171</td>\n",
       "      <td>0.002520</td>\n",
       "      <td>...</td>\n",
       "      <td>28.958075</td>\n",
       "      <td>29.830850</td>\n",
       "      <td>21.944050</td>\n",
       "      <td>13.188000</td>\n",
       "      <td>10.876150</td>\n",
       "      <td>12.201325</td>\n",
       "      <td>21.922050</td>\n",
       "      <td>22.495175</td>\n",
       "      <td>61.125325</td>\n",
       "      <td>1.000000</td>\n",
       "    </tr>\n",
       "    <tr>\n",
       "      <th>max</th>\n",
       "      <td>251.000000</td>\n",
       "      <td>1.000000</td>\n",
       "      <td>0.907660</td>\n",
       "      <td>0.852640</td>\n",
       "      <td>0.871230</td>\n",
       "      <td>907.000000</td>\n",
       "      <td>905.000000</td>\n",
       "      <td>0.012966</td>\n",
       "      <td>0.003483</td>\n",
       "      <td>0.027750</td>\n",
       "      <td>...</td>\n",
       "      <td>239.788800</td>\n",
       "      <td>203.311300</td>\n",
       "      <td>121.542900</td>\n",
       "      <td>102.207000</td>\n",
       "      <td>85.571700</td>\n",
       "      <td>73.532200</td>\n",
       "      <td>62.007300</td>\n",
       "      <td>57.544300</td>\n",
       "      <td>156.423700</td>\n",
       "      <td>1.000000</td>\n",
       "    </tr>\n",
       "  </tbody>\n",
       "</table>\n",
       "<p>8 rows × 755 columns</p>\n",
       "</div>"
      ],
      "text/plain": [
       "               id      gender         PPE         DFA        RPDE   numPulses  \\\n",
       "count  756.000000  756.000000  756.000000  756.000000  756.000000  756.000000   \n",
       "mean   125.500000    0.515873    0.746284    0.700414    0.489058  323.972222   \n",
       "std     72.793721    0.500079    0.169294    0.069718    0.137442   99.219059   \n",
       "min      0.000000    0.000000    0.041551    0.543500    0.154300    2.000000   \n",
       "25%     62.750000    0.000000    0.762833    0.647053    0.386537  251.000000   \n",
       "50%    125.500000    1.000000    0.809655    0.700525    0.484355  317.000000   \n",
       "75%    188.250000    1.000000    0.834315    0.754985    0.586515  384.250000   \n",
       "max    251.000000    1.000000    0.907660    0.852640    0.871230  907.000000   \n",
       "\n",
       "       numPeriodsPulses  meanPeriodPulses  stdDevPeriodPulses  locPctJitter  \\\n",
       "count        756.000000        756.000000          756.000000    756.000000   \n",
       "mean         322.678571          0.006360            0.000383      0.002324   \n",
       "std           99.402499          0.001826            0.000728      0.002628   \n",
       "min            1.000000          0.002107            0.000011      0.000210   \n",
       "25%          250.000000          0.005003            0.000049      0.000970   \n",
       "50%          316.000000          0.006048            0.000077      0.001495   \n",
       "75%          383.250000          0.007528            0.000171      0.002520   \n",
       "max          905.000000          0.012966            0.003483      0.027750   \n",
       "\n",
       "          ...      tqwt_kurtosisValue_dec_28  tqwt_kurtosisValue_dec_29  \\\n",
       "count     ...                     756.000000                 756.000000   \n",
       "mean      ...                      26.237251                  22.840337   \n",
       "std       ...                      42.220693                  32.626464   \n",
       "min       ...                       1.509800                   1.531700   \n",
       "25%       ...                       2.408675                   3.452800   \n",
       "50%       ...                       5.586300                   7.062750   \n",
       "75%       ...                      28.958075                  29.830850   \n",
       "max       ...                     239.788800                 203.311300   \n",
       "\n",
       "       tqwt_kurtosisValue_dec_30  tqwt_kurtosisValue_dec_31  \\\n",
       "count                 756.000000                 756.000000   \n",
       "mean                   18.587888                  13.872018   \n",
       "std                    25.537464                  20.046029   \n",
       "min                     1.582900                   1.747200   \n",
       "25%                     3.354825                   3.077450   \n",
       "50%                     6.077400                   4.770850   \n",
       "75%                    21.944050                  13.188000   \n",
       "max                   121.542900                 102.207000   \n",
       "\n",
       "       tqwt_kurtosisValue_dec_32  tqwt_kurtosisValue_dec_33  \\\n",
       "count                 756.000000                 756.000000   \n",
       "mean                   12.218953                  12.375335   \n",
       "std                    17.783642                  16.341665   \n",
       "min                     1.789500                   1.628700   \n",
       "25%                     2.937025                   3.114375   \n",
       "50%                     4.300450                   4.741450   \n",
       "75%                    10.876150                  12.201325   \n",
       "max                    85.571700                  73.532200   \n",
       "\n",
       "       tqwt_kurtosisValue_dec_34  tqwt_kurtosisValue_dec_35  \\\n",
       "count                 756.000000                 756.000000   \n",
       "mean                   14.799230                  14.751559   \n",
       "std                    15.722502                  14.432979   \n",
       "min                     1.861700                   1.955900   \n",
       "25%                     3.665925                   3.741275   \n",
       "50%                     6.725700                   7.334250   \n",
       "75%                    21.922050                  22.495175   \n",
       "max                    62.007300                  57.544300   \n",
       "\n",
       "       tqwt_kurtosisValue_dec_36       class  \n",
       "count                 756.000000  756.000000  \n",
       "mean                   31.481110    0.746032  \n",
       "std                    34.230991    0.435568  \n",
       "min                     2.364000    0.000000  \n",
       "25%                     3.948750    0.000000  \n",
       "50%                    10.637250    1.000000  \n",
       "75%                    61.125325    1.000000  \n",
       "max                   156.423700    1.000000  \n",
       "\n",
       "[8 rows x 755 columns]"
      ]
     },
     "execution_count": 6,
     "metadata": {},
     "output_type": "execute_result"
    }
   ],
   "source": [
    "# Describe the dataset\n",
    "df.describe()"
   ]
  },
  {
   "cell_type": "code",
   "execution_count": 7,
   "metadata": {
    "ExecuteTime": {
     "end_time": "2019-10-08T19:47:54.987769Z",
     "start_time": "2019-10-08T19:47:54.961173Z"
    }
   },
   "outputs": [
    {
     "data": {
      "text/html": [
       "<div>\n",
       "<style scoped>\n",
       "    .dataframe tbody tr th:only-of-type {\n",
       "        vertical-align: middle;\n",
       "    }\n",
       "\n",
       "    .dataframe tbody tr th {\n",
       "        vertical-align: top;\n",
       "    }\n",
       "\n",
       "    .dataframe thead th {\n",
       "        text-align: right;\n",
       "    }\n",
       "</style>\n",
       "<table border=\"1\" class=\"dataframe\">\n",
       "  <thead>\n",
       "    <tr style=\"text-align: right;\">\n",
       "      <th></th>\n",
       "      <th>id</th>\n",
       "      <th>gender</th>\n",
       "      <th>PPE</th>\n",
       "      <th>DFA</th>\n",
       "      <th>RPDE</th>\n",
       "      <th>numPulses</th>\n",
       "      <th>numPeriodsPulses</th>\n",
       "      <th>meanPeriodPulses</th>\n",
       "      <th>stdDevPeriodPulses</th>\n",
       "      <th>locPctJitter</th>\n",
       "      <th>...</th>\n",
       "      <th>tqwt_kurtosisValue_dec_28</th>\n",
       "      <th>tqwt_kurtosisValue_dec_29</th>\n",
       "      <th>tqwt_kurtosisValue_dec_30</th>\n",
       "      <th>tqwt_kurtosisValue_dec_31</th>\n",
       "      <th>tqwt_kurtosisValue_dec_32</th>\n",
       "      <th>tqwt_kurtosisValue_dec_33</th>\n",
       "      <th>tqwt_kurtosisValue_dec_34</th>\n",
       "      <th>tqwt_kurtosisValue_dec_35</th>\n",
       "      <th>tqwt_kurtosisValue_dec_36</th>\n",
       "      <th>class</th>\n",
       "    </tr>\n",
       "  </thead>\n",
       "  <tbody>\n",
       "    <tr>\n",
       "      <th>0</th>\n",
       "      <td>0</td>\n",
       "      <td>1</td>\n",
       "      <td>0.85247</td>\n",
       "      <td>0.71826</td>\n",
       "      <td>0.57227</td>\n",
       "      <td>240</td>\n",
       "      <td>239</td>\n",
       "      <td>0.008064</td>\n",
       "      <td>0.000087</td>\n",
       "      <td>0.00218</td>\n",
       "      <td>...</td>\n",
       "      <td>1.5620</td>\n",
       "      <td>2.6445</td>\n",
       "      <td>3.8686</td>\n",
       "      <td>4.2105</td>\n",
       "      <td>5.1221</td>\n",
       "      <td>4.4625</td>\n",
       "      <td>2.6202</td>\n",
       "      <td>3.0004</td>\n",
       "      <td>18.9405</td>\n",
       "      <td>1</td>\n",
       "    </tr>\n",
       "    <tr>\n",
       "      <th>1</th>\n",
       "      <td>0</td>\n",
       "      <td>1</td>\n",
       "      <td>0.76686</td>\n",
       "      <td>0.69481</td>\n",
       "      <td>0.53966</td>\n",
       "      <td>234</td>\n",
       "      <td>233</td>\n",
       "      <td>0.008258</td>\n",
       "      <td>0.000073</td>\n",
       "      <td>0.00195</td>\n",
       "      <td>...</td>\n",
       "      <td>1.5589</td>\n",
       "      <td>3.6107</td>\n",
       "      <td>23.5155</td>\n",
       "      <td>14.1962</td>\n",
       "      <td>11.0261</td>\n",
       "      <td>9.5082</td>\n",
       "      <td>6.5245</td>\n",
       "      <td>6.3431</td>\n",
       "      <td>45.1780</td>\n",
       "      <td>1</td>\n",
       "    </tr>\n",
       "    <tr>\n",
       "      <th>2</th>\n",
       "      <td>0</td>\n",
       "      <td>1</td>\n",
       "      <td>0.85083</td>\n",
       "      <td>0.67604</td>\n",
       "      <td>0.58982</td>\n",
       "      <td>232</td>\n",
       "      <td>231</td>\n",
       "      <td>0.008340</td>\n",
       "      <td>0.000060</td>\n",
       "      <td>0.00176</td>\n",
       "      <td>...</td>\n",
       "      <td>1.5643</td>\n",
       "      <td>2.3308</td>\n",
       "      <td>9.4959</td>\n",
       "      <td>10.7458</td>\n",
       "      <td>11.0177</td>\n",
       "      <td>4.8066</td>\n",
       "      <td>2.9199</td>\n",
       "      <td>3.1495</td>\n",
       "      <td>4.7666</td>\n",
       "      <td>1</td>\n",
       "    </tr>\n",
       "    <tr>\n",
       "      <th>3</th>\n",
       "      <td>1</td>\n",
       "      <td>0</td>\n",
       "      <td>0.41121</td>\n",
       "      <td>0.79672</td>\n",
       "      <td>0.59257</td>\n",
       "      <td>178</td>\n",
       "      <td>177</td>\n",
       "      <td>0.010858</td>\n",
       "      <td>0.000183</td>\n",
       "      <td>0.00419</td>\n",
       "      <td>...</td>\n",
       "      <td>3.7805</td>\n",
       "      <td>3.5664</td>\n",
       "      <td>5.2558</td>\n",
       "      <td>14.0403</td>\n",
       "      <td>4.2235</td>\n",
       "      <td>4.6857</td>\n",
       "      <td>4.8460</td>\n",
       "      <td>6.2650</td>\n",
       "      <td>4.0603</td>\n",
       "      <td>1</td>\n",
       "    </tr>\n",
       "    <tr>\n",
       "      <th>4</th>\n",
       "      <td>1</td>\n",
       "      <td>0</td>\n",
       "      <td>0.32790</td>\n",
       "      <td>0.79782</td>\n",
       "      <td>0.53028</td>\n",
       "      <td>236</td>\n",
       "      <td>235</td>\n",
       "      <td>0.008162</td>\n",
       "      <td>0.002669</td>\n",
       "      <td>0.00535</td>\n",
       "      <td>...</td>\n",
       "      <td>6.1727</td>\n",
       "      <td>5.8416</td>\n",
       "      <td>6.0805</td>\n",
       "      <td>5.7621</td>\n",
       "      <td>7.7817</td>\n",
       "      <td>11.6891</td>\n",
       "      <td>8.2103</td>\n",
       "      <td>5.0559</td>\n",
       "      <td>6.1164</td>\n",
       "      <td>1</td>\n",
       "    </tr>\n",
       "  </tbody>\n",
       "</table>\n",
       "<p>5 rows × 755 columns</p>\n",
       "</div>"
      ],
      "text/plain": [
       "   id  gender      PPE      DFA     RPDE  numPulses  numPeriodsPulses  \\\n",
       "0   0       1  0.85247  0.71826  0.57227        240               239   \n",
       "1   0       1  0.76686  0.69481  0.53966        234               233   \n",
       "2   0       1  0.85083  0.67604  0.58982        232               231   \n",
       "3   1       0  0.41121  0.79672  0.59257        178               177   \n",
       "4   1       0  0.32790  0.79782  0.53028        236               235   \n",
       "\n",
       "   meanPeriodPulses  stdDevPeriodPulses  locPctJitter  ...    \\\n",
       "0          0.008064            0.000087       0.00218  ...     \n",
       "1          0.008258            0.000073       0.00195  ...     \n",
       "2          0.008340            0.000060       0.00176  ...     \n",
       "3          0.010858            0.000183       0.00419  ...     \n",
       "4          0.008162            0.002669       0.00535  ...     \n",
       "\n",
       "   tqwt_kurtosisValue_dec_28  tqwt_kurtosisValue_dec_29  \\\n",
       "0                     1.5620                     2.6445   \n",
       "1                     1.5589                     3.6107   \n",
       "2                     1.5643                     2.3308   \n",
       "3                     3.7805                     3.5664   \n",
       "4                     6.1727                     5.8416   \n",
       "\n",
       "   tqwt_kurtosisValue_dec_30  tqwt_kurtosisValue_dec_31  \\\n",
       "0                     3.8686                     4.2105   \n",
       "1                    23.5155                    14.1962   \n",
       "2                     9.4959                    10.7458   \n",
       "3                     5.2558                    14.0403   \n",
       "4                     6.0805                     5.7621   \n",
       "\n",
       "   tqwt_kurtosisValue_dec_32  tqwt_kurtosisValue_dec_33  \\\n",
       "0                     5.1221                     4.4625   \n",
       "1                    11.0261                     9.5082   \n",
       "2                    11.0177                     4.8066   \n",
       "3                     4.2235                     4.6857   \n",
       "4                     7.7817                    11.6891   \n",
       "\n",
       "   tqwt_kurtosisValue_dec_34  tqwt_kurtosisValue_dec_35  \\\n",
       "0                     2.6202                     3.0004   \n",
       "1                     6.5245                     6.3431   \n",
       "2                     2.9199                     3.1495   \n",
       "3                     4.8460                     6.2650   \n",
       "4                     8.2103                     5.0559   \n",
       "\n",
       "   tqwt_kurtosisValue_dec_36  class  \n",
       "0                    18.9405      1  \n",
       "1                    45.1780      1  \n",
       "2                     4.7666      1  \n",
       "3                     4.0603      1  \n",
       "4                     6.1164      1  \n",
       "\n",
       "[5 rows x 755 columns]"
      ]
     },
     "execution_count": 7,
     "metadata": {},
     "output_type": "execute_result"
    }
   ],
   "source": [
    "df.head()"
   ]
  },
  {
   "cell_type": "markdown",
   "metadata": {},
   "source": [
    "#### How many participants are in the dataframe?"
   ]
  },
  {
   "cell_type": "code",
   "execution_count": 8,
   "metadata": {
    "ExecuteTime": {
     "end_time": "2019-10-08T19:47:55.003604Z",
     "start_time": "2019-10-08T19:47:54.990470Z"
    }
   },
   "outputs": [
    {
     "name": "stdout",
     "output_type": "stream",
     "text": [
      "There are 252 unique participant ids in the dataset.\n"
     ]
    }
   ],
   "source": [
    "print(\"There are\", len(df.groupby(df.id).first().gender), \"unique participant ids in the dataset.\")"
   ]
  },
  {
   "cell_type": "markdown",
   "metadata": {},
   "source": [
    "#### Are all of the records of each participant already classified?\n",
    "Or is there anybody who was had no Parkinsons but then turned out to be positive?"
   ]
  },
  {
   "cell_type": "code",
   "execution_count": 9,
   "metadata": {
    "ExecuteTime": {
     "end_time": "2019-10-08T19:47:55.432327Z",
     "start_time": "2019-10-08T19:47:55.422879Z"
    }
   },
   "outputs": [
    {
     "data": {
      "text/plain": [
       "True    252\n",
       "Name: class, dtype: int64"
      ]
     },
     "execution_count": 9,
     "metadata": {},
     "output_type": "execute_result"
    }
   ],
   "source": [
    "# There are no people who were diagnosed with alzheimer after the measurements were started\n",
    "df.groupby([df[\"id\"]])[\"class\"].mean().isin([0, 1]).value_counts()"
   ]
  },
  {
   "cell_type": "markdown",
   "metadata": {},
   "source": [
    "#### Are there any missing values?"
   ]
  },
  {
   "cell_type": "code",
   "execution_count": 10,
   "metadata": {
    "ExecuteTime": {
     "end_time": "2019-10-08T19:47:55.999852Z",
     "start_time": "2019-10-08T19:47:55.990940Z"
    }
   },
   "outputs": [
    {
     "name": "stdout",
     "output_type": "stream",
     "text": [
      "There are 0 NA and 0 null values.\n"
     ]
    }
   ],
   "source": [
    "print(\"There are %d NA and %d null values.\" % (df[df.isna().any(axis=1)].__len__(), df[df.isnull().any(axis=1)].__len__()))"
   ]
  },
  {
   "cell_type": "markdown",
   "metadata": {
    "ExecuteTime": {
     "end_time": "2019-09-26T14:32:46.866381Z",
     "start_time": "2019-09-26T14:32:46.863660Z"
    }
   },
   "source": [
    "#### Gender vs target variable"
   ]
  },
  {
   "cell_type": "code",
   "execution_count": 11,
   "metadata": {
    "ExecuteTime": {
     "end_time": "2019-10-08T19:47:57.087085Z",
     "start_time": "2019-10-08T19:47:56.679178Z"
    }
   },
   "outputs": [
    {
     "ename": "AttributeError",
     "evalue": "module 'seaborn' has no attribute 'catplot'",
     "output_type": "error",
     "traceback": [
      "\u001b[1;31m---------------------------------------------------------------------------\u001b[0m",
      "\u001b[1;31mAttributeError\u001b[0m                            Traceback (most recent call last)",
      "\u001b[1;32m<ipython-input-11-db4dcd15386e>\u001b[0m in \u001b[0;36m<module>\u001b[1;34m\u001b[0m\n\u001b[0;32m      2\u001b[0m \u001b[1;33m\u001b[0m\u001b[0m\n\u001b[0;32m      3\u001b[0m \u001b[1;31m# How does the parkinsons disease depend on the gender?\u001b[0m\u001b[1;33m\u001b[0m\u001b[1;33m\u001b[0m\u001b[1;33m\u001b[0m\u001b[0m\n\u001b[1;32m----> 4\u001b[1;33m \u001b[0mplot\u001b[0m \u001b[1;33m=\u001b[0m \u001b[0msns\u001b[0m\u001b[1;33m.\u001b[0m\u001b[0mcatplot\u001b[0m\u001b[1;33m(\u001b[0m\u001b[0mx\u001b[0m\u001b[1;33m=\u001b[0m\u001b[1;34m\"class\"\u001b[0m\u001b[1;33m,\u001b[0m \u001b[0mcol\u001b[0m\u001b[1;33m=\u001b[0m\u001b[1;34m\"gender\"\u001b[0m\u001b[1;33m,\u001b[0m \u001b[0mdata\u001b[0m\u001b[1;33m=\u001b[0m\u001b[0mdf\u001b[0m\u001b[1;33m,\u001b[0m \u001b[0mkind\u001b[0m\u001b[1;33m=\u001b[0m\u001b[1;34m\"count\"\u001b[0m\u001b[1;33m)\u001b[0m\u001b[1;33m\u001b[0m\u001b[1;33m\u001b[0m\u001b[0m\n\u001b[0m",
      "\u001b[1;31mAttributeError\u001b[0m: module 'seaborn' has no attribute 'catplot'"
     ]
    }
   ],
   "source": [
    "import seaborn as sns\n",
    "\n",
    "# How does the parkinsons disease depend on the gender?\n",
    "plot = sns.catplot(x=\"class\", col=\"gender\", data=df, kind=\"count\")"
   ]
  },
  {
   "cell_type": "markdown",
   "metadata": {},
   "source": [
    "#### Target variable"
   ]
  },
  {
   "cell_type": "code",
   "execution_count": 12,
   "metadata": {
    "ExecuteTime": {
     "end_time": "2019-10-08T19:47:57.446114Z",
     "start_time": "2019-10-08T19:47:57.285954Z"
    }
   },
   "outputs": [
    {
     "data": {
      "image/png": "[encoded data removed]",
      "text/plain": [
       "<matplotlib.figure.Figure at 0x1db0ac38940>"
      ]
     },
     "metadata": {
      "needs_background": "light"
     },
     "output_type": "display_data"
    }
   ],
   "source": [
    "fig, ax = plt.subplots()\n",
    "fig = df[\"class\"].value_counts().plot(kind=\"bar\", ax=ax)\n",
    "ax.set_title(\"Distribution of the target classification variable\")\n",
    "plt.show()"
   ]
  },
  {
   "cell_type": "markdown",
   "metadata": {},
   "source": [
    "#### Histograms for each variable"
   ]
  },
  {
   "cell_type": "code",
   "execution_count": 13,
   "metadata": {
    "ExecuteTime": {
     "end_time": "2019-10-08T19:47:57.898844Z",
     "start_time": "2019-10-08T19:47:57.894730Z"
    }
   },
   "outputs": [],
   "source": [
    "columns_start = 1\n",
    "columns_end = 21\n",
    "\n",
    "def choose_grid(nr):\n",
    "    # // 4 + 1\n",
    "    return nr // 4, 4 "
   ]
  },
  {
   "cell_type": "code",
   "execution_count": 14,
   "metadata": {
    "ExecuteTime": {
     "end_time": "2019-10-08T19:48:04.703074Z",
     "start_time": "2019-10-08T19:47:58.175708Z"
    }
   },
   "outputs": [
    {
     "data": {
      "text/plain": [
       "<matplotlib.figure.Figure at 0x1db0af30f60>"
      ]
     },
     "metadata": {},
     "output_type": "display_data"
    },
    {
     "data": {
      "image/png": "[encoded data removed]",
      "text/plain": [
       "<matplotlib.figure.Figure at 0x1db0af30f28>"
      ]
     },
     "metadata": {
      "needs_background": "light"
     },
     "output_type": "display_data"
    }
   ],
   "source": [
    "columns = df.iloc[:,columns_start:columns_end].select_dtypes(include='number').columns\n",
    "rows, cols = choose_grid(len(columns))\n",
    "plt.figure()\n",
    "fig, axs = plt.subplots(rows, cols, figsize=(cols*4, rows*4), squeeze=False)\n",
    "i, j = 0, 0\n",
    "for n in range(len(columns)):\n",
    "    axs[i, j].set_title('Histogram for %s'%columns[n])\n",
    "    axs[i, j].set_xlabel(columns[n])\n",
    "    axs[i, j].set_ylabel(\"probability\")\n",
    "    axs[i, j].hist(df.iloc[:,columns_start:columns_end][columns[n]].dropna().values, 'auto')\n",
    "    i, j = (i + 1, 0) if (n+1) % cols == 0 else (i, j + 1)\n",
    "fig.tight_layout()\n",
    "plt.show()"
   ]
  },
  {
   "cell_type": "markdown",
   "metadata": {},
   "source": [
    "#### Correlation matrix\n",
    "The number of paramaters is really high"
   ]
  },
  {
   "cell_type": "code",
   "execution_count": null,
   "metadata": {
    "ExecuteTime": {
     "end_time": "2019-10-08T19:48:09.397763Z",
     "start_time": "2019-10-08T19:48:04.707345Z"
    }
   },
   "outputs": [],
   "source": [
    "cmap = sns.diverging_palette(h_neg=210, h_pos=350, as_cmap=True)\n",
    "graph = sns.clustermap(df.corr(), figsize=(18, 18), cmap=cmap);\n",
    "a = graph.ax_heatmap.set_xticklabels([])\n",
    "a = graph.ax_heatmap.set_yticklabels([])"
   ]
  },
  {
   "cell_type": "markdown",
   "metadata": {
    "ExecuteTime": {
     "end_time": "2019-09-26T14:37:00.333858Z",
     "start_time": "2019-09-26T14:37:00.331050Z"
    }
   },
   "source": [
    "#### Correlation of attributes with the target variable"
   ]
  },
  {
   "cell_type": "code",
   "execution_count": 15,
   "metadata": {
    "ExecuteTime": {
     "end_time": "2019-10-08T19:48:09.677636Z",
     "start_time": "2019-10-08T19:48:09.400799Z"
    }
   },
   "outputs": [],
   "source": [
    "# Calculate the correlation of each attribute\n",
    "corcolumns = df.drop(columns=[\"class\"]).corrwith(df[\"class\"])\n",
    "corcolumns = pd.DataFrame(corcolumns, columns=[\"correlation\"])\n",
    "corcolumns[\"abs_correlation\"] = abs(corcolumns.correlation)\n",
    "\n",
    "# Sort the most correlated values\n",
    "corcolumns = corcolumns.sort_values(by=\"abs_correlation\", ascending=False)"
   ]
  },
  {
   "cell_type": "code",
   "execution_count": 16,
   "metadata": {
    "ExecuteTime": {
     "end_time": "2019-10-08T19:48:13.752510Z",
     "start_time": "2019-10-08T19:48:09.681577Z"
    }
   },
   "outputs": [
    {
     "data": {
      "image/png": "[encoded data removed]",
      "text/plain": [
       "<matplotlib.figure.Figure at 0x1db0a71b080>"
      ]
     },
     "metadata": {
      "needs_background": "light"
     },
     "output_type": "display_data"
    }
   ],
   "source": [
    "fig, ax = plt.subplots(figsize=(19, 10))\n",
    "corcolumns.correlation.plot(kind=\"bar\", title=\"Correlation of different attributes with the target variable\", ax=ax)\n",
    "ax.set_xticklabels([])\n",
    "plt.show()"
   ]
  },
  {
   "cell_type": "code",
   "execution_count": 17,
   "metadata": {
    "ExecuteTime": {
     "end_time": "2019-10-08T19:48:14.672828Z",
     "start_time": "2019-10-08T19:48:13.754932Z"
    }
   },
   "outputs": [
    {
     "data": {
      "image/png": "[encoded data removed]",
      "text/plain": [
       "<matplotlib.figure.Figure at 0x1db0b01cb70>"
      ]
     },
     "metadata": {
      "needs_background": "light"
     },
     "output_type": "display_data"
    }
   ],
   "source": [
    "plt.figure(figsize=(15, 5))\n",
    "corcolumns.abs_correlation.iloc[:50].plot(kind=\"bar\", title=\"50 Most correlated columns in the dataset with the target variable\")\n",
    "plt.show()"
   ]
  },
  {
   "cell_type": "markdown",
   "metadata": {},
   "source": [
    "## Preprocessing (20%)\n",
    "- Average the data samples?\n",
    "- Create 3 different datasets by each patient?\n",
    "- **Remove outliers?**\n",
    "\n",
    "**Tips from the lab:**\n",
    "- subsampling\n",
    "    - select only some of the data\n",
    "- oversampling\n",
    "    - suplicate some data\n",
    "    - works for some algorithms\n",
    "- SMOTE\n",
    "    - looks for similiar variables"
   ]
  },
  {
   "cell_type": "markdown",
   "metadata": {},
   "source": [
    "### Remove duplicates"
   ]
  },
  {
   "cell_type": "code",
   "execution_count": 18,
   "metadata": {
    "ExecuteTime": {
     "end_time": "2019-10-08T19:48:15.081953Z",
     "start_time": "2019-10-08T19:48:14.675239Z"
    }
   },
   "outputs": [
    {
     "name": "stdout",
     "output_type": "stream",
     "text": [
      "The dataset contains 1 duplicates - ID(s): [37]\n"
     ]
    }
   ],
   "source": [
    "dups = df[df.duplicated()]\n",
    "print(\"The dataset contains {} duplicates - ID(s): {}\".format(len(dups), dups.id.values))\n",
    "\n",
    "# Drop the duplicate values\n",
    "df = df.drop_duplicates()"
   ]
  },
  {
   "cell_type": "markdown",
   "metadata": {},
   "source": [
    "### Train / Test Split\n",
    "\n",
    "- Stratified validation?\n",
    "- Should preprocessing be done inside cross validation?\n",
    "\n",
    "20% of the data is put away for testing. Cross validation is used instead of the train/test array."
   ]
  },
  {
   "cell_type": "code",
   "execution_count": 19,
   "metadata": {
    "ExecuteTime": {
     "end_time": "2019-10-08T19:48:15.087642Z",
     "start_time": "2019-10-08T19:48:15.084949Z"
    }
   },
   "outputs": [],
   "source": [
    "test_size = 0.20\n",
    "valid_size = 0.20"
   ]
  },
  {
   "cell_type": "markdown",
   "metadata": {},
   "source": [
    "Custom train/test split assures that there are no samples of same ID mixed in the train/valid dataset."
   ]
  },
  {
   "cell_type": "code",
   "execution_count": 20,
   "metadata": {
    "ExecuteTime": {
     "end_time": "2019-10-08T19:48:15.227649Z",
     "start_time": "2019-10-08T19:48:15.089894Z"
    }
   },
   "outputs": [],
   "source": [
    "from sklearn.model_selection import train_test_split, GroupKFold\n",
    "from sklearn.metrics import accuracy_score"
   ]
  },
  {
   "cell_type": "code",
   "execution_count": 21,
   "metadata": {
    "ExecuteTime": {
     "end_time": "2019-10-08T19:48:15.236722Z",
     "start_time": "2019-10-08T19:48:15.230189Z"
    }
   },
   "outputs": [],
   "source": [
    "train_id, test_id = next(GroupKFold(n_splits=6).split(df, groups=df.id))"
   ]
  },
  {
   "cell_type": "code",
   "execution_count": 22,
   "metadata": {
    "ExecuteTime": {
     "end_time": "2019-10-08T19:48:15.582672Z",
     "start_time": "2019-10-08T19:48:15.238913Z"
    }
   },
   "outputs": [
    {
     "data": {
      "image/png": "[encoded data removed]",
      "text/plain": [
       "<matplotlib.figure.Figure at 0x1db0ac73d30>"
      ]
     },
     "metadata": {
      "needs_background": "light"
     },
     "output_type": "display_data"
    },
    {
     "name": "stdout",
     "output_type": "stream",
     "text": [
      "Performance of naive model that only predicts one class should be 0.6603.\n"
     ]
    }
   ],
   "source": [
    "from sklearn.model_selection import StratifiedKFold\n",
    "\n",
    "# Shuffle the dataframe\n",
    "df = df.sample(frac=1)\n",
    "\n",
    "classes = pd.DataFrame(df.groupby(\"id\").first()[\"class\"])\n",
    "\n",
    "train_id, test_id = next(StratifiedKFold(n_splits=6).split(classes, classes[\"class\"]))\n",
    "train_df, test_df = (df[df.id.isin(train_id)], df[df.id.isin(test_id)])\n",
    "\n",
    "plt.figure(figsize=(15, 5))\n",
    "plt.subplot(1, 2, 1)\n",
    "train_df[\"class\"].value_counts().plot(kind=\"bar\", title=\"train_df contains %d samples\" % len(train_df))\n",
    "plt.subplot(1, 2, 2)\n",
    "test_df[\"class\"].value_counts().plot(kind=\"bar\", title=\"test_df contains %d samples\" % len(test_df))\n",
    "plt.show()\n",
    "\n",
    "vc = train_df[\"class\"].value_counts()\n",
    "print(\"Performance of naive model that only predicts one class should be {:0.4f}.\".format(1 - (vc[0] / vc[1])))"
   ]
  },
  {
   "cell_type": "markdown",
   "metadata": {},
   "source": [
    "#### K-Fold CV"
   ]
  },
  {
   "cell_type": "code",
   "execution_count": 23,
   "metadata": {
    "ExecuteTime": {
     "end_time": "2019-10-08T19:48:15.591039Z",
     "start_time": "2019-10-08T19:48:15.588028Z"
    }
   },
   "outputs": [],
   "source": [
    "from sklearn.preprocessing import Normalizer, StandardScaler"
   ]
  },
  {
   "cell_type": "code",
   "execution_count": 24,
   "metadata": {
    "ExecuteTime": {
     "end_time": "2019-10-08T19:48:15.641160Z",
     "start_time": "2019-10-08T19:48:15.594163Z"
    }
   },
   "outputs": [],
   "source": [
    "X_train = train_df.drop(columns=[\"class\"])\n",
    "y_train = train_df[\"class\"]\n",
    "X_test = test_df.drop(columns=[\"class\"])\n",
    "y_test = test_df[\"class\"]\n",
    "\n",
    "X_train_c = X_train.drop(columns=[\"id\"])\n",
    "X_train_n = pd.DataFrame(Normalizer().fit_transform(X_train_c), columns=X_train_c.columns)\n",
    "X_train_s = pd.DataFrame(StandardScaler().fit_transform(X_train_c), columns=X_train_c.columns)\n",
    "\n",
    "gkf_c = list(GroupKFold(n_splits=5).split(X_train_c, y_train, X_train.id))\n",
    "gkf_n = list(GroupKFold(n_splits=5).split(X_train_n, y_train, X_train.id))\n",
    "gkf_s = list(GroupKFold(n_splits=5).split(X_train_s, y_train, X_train.id))"
   ]
  },
  {
   "cell_type": "markdown",
   "metadata": {},
   "source": [
    "## Unsupervised (15%)\n",
    "- Association Rules (7.5%)\n",
    "- Clustering (7.5%)"
   ]
  },
  {
   "cell_type": "markdown",
   "metadata": {},
   "source": [
    "### Association Rules (7.5%)"
   ]
  },
  {
   "cell_type": "markdown",
   "metadata": {},
   "source": [
    "First we need to convert numerical data to binary."
   ]
  },
  {
   "cell_type": "code",
   "execution_count": null,
   "metadata": {
    "ExecuteTime": {
     "end_time": "2019-10-08T19:48:15.698190Z",
     "start_time": "2019-10-08T19:48:15.643289Z"
    }
   },
   "outputs": [],
   "source": [
    "from sklearn.feature_selection import SelectKBest, f_classif\n",
    "\n",
    "# Top 50 features generated from SelectKBest\n",
    "KBestSelector = SelectKBest(f_classif).fit(X_train_c, y_train)\n",
    "feature_scores = pd.DataFrame({\"Feature\": X_train_c.columns, \"Scores\": KBestSelector.scores_})\n",
    "top50k = feature_scores.sort_values(by=\"Scores\", ascending=False)[\"Feature\"].iloc[:50].values\n",
    "\n",
    "# Top 50 correlated with target variable\n",
    "top50c = corcolumns.abs_correlation[:50].index.values\n",
    "\n",
    "print(\"{} out of 50 most correlated values overlap with SelectKBest\".format(len(np.intersect1d(top50k, top50c))))"
   ]
  },
  {
   "cell_type": "code",
   "execution_count": null,
   "metadata": {
    "ExecuteTime": {
     "end_time": "2019-10-08T19:48:15.705205Z",
     "start_time": "2019-10-08T19:48:15.700468Z"
    }
   },
   "outputs": [],
   "source": [
    "# Select top 50 columns\n",
    "df_top50cols = X_train_c.loc[:, X_train_c.columns.isin(top50k)]\n",
    "df_top50cols[\"class\"] = y_train"
   ]
  },
  {
   "cell_type": "code",
   "execution_count": null,
   "metadata": {
    "ExecuteTime": {
     "end_time": "2019-10-08T19:48:15.879367Z",
     "start_time": "2019-10-08T19:48:15.707233Z"
    }
   },
   "outputs": [],
   "source": [
    "# First cut the numerical variables into classes and transform them to one-hot\n",
    "for col in df_top50cols:\n",
    "    if col != \"class\":\n",
    "        df_top50cols[col] = pd.get_dummies(\n",
    "            pd.cut(df_top50cols[col], 3, labels=[0, 1, 2])\n",
    "        )"
   ]
  },
  {
   "cell_type": "code",
   "execution_count": null,
   "metadata": {
    "ExecuteTime": {
     "end_time": "2019-10-08T19:48:19.078009Z",
     "start_time": "2019-10-08T19:48:15.881703Z"
    }
   },
   "outputs": [],
   "source": [
    "from mlxtend.frequent_patterns import apriori, association_rules\n",
    "from sklearn.preprocessing import LabelBinarizer\n",
    "\n",
    "frequent_itemsets = {}\n",
    "minpaterns = 2000\n",
    "minsup = 1.0\n",
    "classrules = None\n",
    "while minsup > 0:    \n",
    "    minsup = minsup * 0.9\n",
    "    frequent_itemsets = apriori(df_top50cols, min_support=minsup, use_colnames=True, verbose=0)\n",
    "    \n",
    "    frequent_itemsets['length'] = frequent_itemsets['itemsets'].apply(lambda x: len(x))\n",
    "    rules = association_rules(frequent_itemsets, metric=\"confidence\", min_threshold=0.9)\n",
    "    classrules = rules[rules['consequents'] == {'class'}]\n",
    "    \n",
    "    print(\"Minsup {} found {} patterns out of which {} contain class consequent\"\n",
    "          .format(minsup, len(frequent_itemsets), len(classrules)))  \n",
    "    \n",
    "    if len(frequent_itemsets) >= minpaterns:\n",
    "        print(\"Minimum support:\", minsup)\n",
    "        print(\"Number of found patterns:\", len(frequent_itemsets))\n",
    "        break"
   ]
  },
  {
   "cell_type": "code",
   "execution_count": null,
   "metadata": {
    "ExecuteTime": {
     "end_time": "2019-10-08T19:48:19.088612Z",
     "start_time": "2019-10-08T19:48:19.080129Z"
    }
   },
   "outputs": [],
   "source": [
    "classrules"
   ]
  },
  {
   "cell_type": "markdown",
   "metadata": {},
   "source": [
    "### Clustering (7.5%)"
   ]
  },
  {
   "cell_type": "code",
   "execution_count": null,
   "metadata": {
    "ExecuteTime": {
     "end_time": "2019-10-08T19:48:19.097214Z",
     "start_time": "2019-10-08T19:48:19.090845Z"
    }
   },
   "outputs": [],
   "source": [
    "from scipy.cluster.hierarchy import linkage\n",
    "from scipy.cluster.hierarchy import dendrogram\n",
    "\n",
    "def dendrogram_plot(data):\n",
    "    linkageMatrix = linkage(data, \"single\")\n",
    "\n",
    "    plt.figure(figsize=(25, 10))\n",
    "    plt.title('Hierarchical clustering dendrogram')\n",
    "    plt.xlabel('point index')\n",
    "    plt.ylabel('distance')\n",
    "    dendrogram(linkageMatrix, truncate_mode='lastp', p=24,\n",
    "        leaf_rotation=90., leaf_font_size=8.)\n",
    "    plt.show()"
   ]
  },
  {
   "cell_type": "code",
   "execution_count": null,
   "metadata": {
    "ExecuteTime": {
     "end_time": "2019-10-08T19:48:21.275960Z",
     "start_time": "2019-10-08T19:48:19.099483Z"
    }
   },
   "outputs": [],
   "source": [
    "dendrogram_plot(X_train_c)\n",
    "dendrogram_plot(X_train_s)\n",
    "dendrogram_plot(X_train_n)"
   ]
  },
  {
   "cell_type": "code",
   "execution_count": null,
   "metadata": {
    "ExecuteTime": {
     "end_time": "2019-10-08T19:48:21.342859Z",
     "start_time": "2019-10-08T19:48:21.278411Z"
    }
   },
   "outputs": [],
   "source": [
    "from sklearn.cluster import KMeans\n",
    "import numpy as np\n",
    "\n",
    "def elbow_plot(data):\n",
    "    # Find the best number of clusters\n",
    "    inertia = []\n",
    "    for i in range(1,25):\n",
    "        kmeans = KMeans(n_clusters=i, random_state=420)\n",
    "        kmeans.fit(data)\n",
    "        inertia.append(kmeans.inertia_)\n",
    "\n",
    "    # Plot the elbow graph\n",
    "    plt.plot(range(1,25), inertia)\n",
    "    plt.xlabel(\"k\")\n",
    "    plt.ylabel('utility function')\n",
    "    plt.show()"
   ]
  },
  {
   "cell_type": "markdown",
   "metadata": {},
   "source": [
    "- sub groups within the class\n",
    "- c_width\n",
    "- randindex"
   ]
  },
  {
   "cell_type": "code",
   "execution_count": null,
   "metadata": {
    "ExecuteTime": {
     "end_time": "2019-10-08T19:48:44.733944Z",
     "start_time": "2019-10-08T19:48:21.344647Z"
    }
   },
   "outputs": [],
   "source": [
    "elbow_plot(X_train_c)\n",
    "elbow_plot(X_train_s)\n",
    "elbow_plot(X_train_n)"
   ]
  },
  {
   "cell_type": "code",
   "execution_count": null,
   "metadata": {
    "ExecuteTime": {
     "end_time": "2019-10-08T19:48:44.763491Z",
     "start_time": "2019-10-08T19:48:44.738844Z"
    }
   },
   "outputs": [],
   "source": [
    "from mpl_toolkits.mplot3d import Axes3D\n",
    "\n",
    "def plot_3d(data, colors):\n",
    "    fig = plt.figure(figsize=(15,10))\n",
    "    ax = fig.add_subplot(111, projection='3d')\n",
    "    ax.view_init(30, 240)\n",
    "    for i, v in enumerate(sorted(data[\"cluster\"].unique())):\n",
    "        clusterdata = data[data[\"cluster\"] == v]        \n",
    "        cld_t = clusterdata[clusterdata[\"class\"] == 1]\n",
    "        cld_f = clusterdata[clusterdata[\"class\"] == 0]\n",
    "        ax.scatter(cld_t.x, cld_t.y, cld_t.z, c = colors[i], alpha=0.5, marker=\"x\")\n",
    "        ax.scatter(cld_f.x, cld_f.y, cld_f.z, c = colors[i], alpha=0.5, marker=\"o\")\n",
    "\n",
    "\n",
    "def plot_2d(data, colors):\n",
    "    fig = plt.figure(figsize=(15,10))\n",
    "    ax = fig.add_subplot(111)\n",
    "    for i, v in enumerate(sorted(data[\"cluster\"].unique())):\n",
    "        clusterdata = data[data[\"cluster\"] == v]\n",
    "        cld_t = clusterdata[clusterdata[\"class\"] == 1]\n",
    "        cld_f = clusterdata[clusterdata[\"class\"] == 0]\n",
    "        ax.scatter(cld_t.x, cld_t.y, c = colors[i], alpha=0.5, marker=\"x\")\n",
    "        ax.scatter(cld_f.x, cld_f.y, c = colors[i], alpha=0.5, marker=\"o\")"
   ]
  },
  {
   "cell_type": "code",
   "execution_count": null,
   "metadata": {
    "ExecuteTime": {
     "end_time": "2019-10-08T19:48:45.642723Z",
     "start_time": "2019-10-08T19:48:44.766427Z"
    }
   },
   "outputs": [],
   "source": [
    "from sklearn.decomposition import PCA\n",
    "\n",
    "dfc = X_train_n.copy()\n",
    "dfc['cluster'] = KMeans(n_clusters=6, init='k-means++', random_state=420).fit_predict(X_train_n)\n",
    "\n",
    "# Reduce dimensionality to 3D\n",
    "_dfc = PCA(n_components=3).fit_transform(dfc.drop(columns=[\"cluster\"]))\n",
    "\n",
    "dfc[\"x\"] = _dfc[:,0]\n",
    "dfc[\"y\"] = _dfc[:,1]\n",
    "dfc[\"z\"] = _dfc[:,2]\n",
    "dfc['class'] = df[\"class\"]\n",
    "\n",
    "plot_3d(dfc, [\"red\", \"green\", \"blue\", \"orange\", \"violet\", \"brown\"])"
   ]
  },
  {
   "cell_type": "code",
   "execution_count": null,
   "metadata": {
    "ExecuteTime": {
     "end_time": "2019-10-08T19:48:46.336905Z",
     "start_time": "2019-10-08T19:48:45.645547Z"
    }
   },
   "outputs": [],
   "source": [
    "dfc = X_train_n.copy()\n",
    "dfc['cluster'] = KMeans(n_clusters=6, init='k-means++', random_state=420).fit_predict(X_train_n)\n",
    "\n",
    "# Reduce dimensionality to 2D\n",
    "_dfc = PCA(n_components=2).fit_transform(dfc.drop(columns=[\"cluster\"]))\n",
    "\n",
    "dfc[\"x\"] = _dfc[:,0]\n",
    "dfc[\"y\"] = _dfc[:,1]\n",
    "\n",
    "dfc['class'] = df[\"class\"]\n",
    "\n",
    "plot_2d(dfc, [\"red\", \"green\", \"blue\", \"orange\", \"violet\", \"brown\"])"
   ]
  },
  {
   "cell_type": "markdown",
   "metadata": {},
   "source": [
    "## Classification (20%)\n",
    "- Naïve Bayes (2%)\n",
    "- Instance-based Learning (3%)\n",
    "- Decision Trees (5%)\n",
    "- Random Forests (5%)\n",
    "- XGBoost (5%)"
   ]
  },
  {
   "cell_type": "code",
   "execution_count": 25,
   "metadata": {
    "ExecuteTime": {
     "end_time": "2019-10-08T19:48:46.342649Z",
     "start_time": "2019-10-08T19:48:46.339514Z"
    }
   },
   "outputs": [],
   "source": [
    "# Best model results are stored in the results dictionary\n",
    "results = {}"
   ]
  },
  {
   "cell_type": "markdown",
   "metadata": {},
   "source": [
    "### GaussianNB - Naïve Bayes (2%)\n",
    "- Does not work with correlated columns"
   ]
  },
  {
   "cell_type": "markdown",
   "metadata": {},
   "source": [
    "#### Original dataset"
   ]
  },
  {
   "cell_type": "code",
   "execution_count": 26,
   "metadata": {
    "ExecuteTime": {
     "end_time": "2019-10-08T19:50:45.905429Z",
     "start_time": "2019-10-08T19:50:45.095388Z"
    }
   },
   "outputs": [
    {
     "name": "stdout",
     "output_type": "stream",
     "text": [
      "GaussianNB score: 0.7185\n"
     ]
    }
   ],
   "source": [
    "from sklearn.naive_bayes import GaussianNB\n",
    "from sklearn.model_selection import cross_val_score\n",
    "\n",
    "gaus = GaussianNB()\n",
    "results[\"GaussianNB\"] = cross_val_score(gaus, X_train_c, y_train, cv=gkf_c, verbose=0, n_jobs=8).mean()\n",
    "print(\"GaussianNB score: {:0.4f}\".format(results[\"GaussianNB\"]))"
   ]
  },
  {
   "cell_type": "markdown",
   "metadata": {},
   "source": [
    "#### Select K best parameters"
   ]
  },
  {
   "cell_type": "code",
   "execution_count": 27,
   "metadata": {
    "ExecuteTime": {
     "end_time": "2019-10-08T19:50:48.156226Z",
     "start_time": "2019-10-08T19:50:46.502281Z"
    }
   },
   "outputs": [
    {
     "data": {
      "image/png": "[encoded data removed]",
      "text/plain": [
       "<matplotlib.figure.Figure at 0x1db0ce97668>"
      ]
     },
     "metadata": {
      "needs_background": "light"
     },
     "output_type": "display_data"
    },
    {
     "name": "stdout",
     "output_type": "stream",
     "text": [
      "Best value 0.8119 with k=13.\n"
     ]
    }
   ],
   "source": [
    "from sklearn.feature_selection import SelectKBest, f_classif\n",
    "\n",
    "x, y = ([], [])\n",
    "for i in range(1, 64, 1):\n",
    "    XX = SelectKBest(f_classif, k=i).fit_transform(X_train_c, y_train)\n",
    "    g = GaussianNB().fit(XX, y_train)\n",
    "    x.append(i)\n",
    "    y.append(cross_val_score(g, XX, y_train, cv=gkf_c, n_jobs=8).mean())\n",
    "\n",
    "fig, ax = plt.subplots()\n",
    "ax.plot(x, y)\n",
    "ax.set_title(\"SelectKBest attributes for NB classifier\")\n",
    "ax.axvline(y.index(max(y))+1, c=\"red\")\n",
    "plt.show()\n",
    "\n",
    "print(\"Best value {:0.4f} with k={}.\".format(max(y), x[y.index(max(y))]))"
   ]
  },
  {
   "cell_type": "markdown",
   "metadata": {},
   "source": [
    "Best value 0.8119 with k=13."
   ]
  },
  {
   "cell_type": "markdown",
   "metadata": {},
   "source": [
    "#### LDA\n",
    "- does not work with negative values"
   ]
  },
  {
   "cell_type": "raw",
   "metadata": {
    "ExecuteTime": {
     "end_time": "2019-10-08T19:59:39.479349Z",
     "start_time": "2019-10-08T19:59:39.458422Z"
    }
   },
   "source": [
    "from sklearn.decomposition import LatentDirichletAllocation\n",
    "\n",
    "x, y = ([], [])\n",
    "for i in range(1, 24, 1):\n",
    "    XX = LatentDirichletAllocation(n_components=i).fit_transform(X_train_c)\n",
    "    g = GaussianNB().fit(XX, y_train)\n",
    "    x.append(i)\n",
    "    y.append(cross_val_score(g, XX, y_train, cv=gkf_c, n_jobs=8).mean())\n",
    "\n",
    "fig, ax = plt.subplots()\n",
    "ax.plot(x, y)\n",
    "ax.set_title(\"PCA attributes for NB classifier\")\n",
    "ax.axvline(y.index(max(y))+1, c=\"red\")\n",
    "plt.show()\n",
    "\n",
    "print(\"Best value {:0.4f} with k={}.\".format(max(y), x[y.index(max(y))]))"
   ]
  },
  {
   "cell_type": "markdown",
   "metadata": {},
   "source": [
    "#### PCA"
   ]
  },
  {
   "cell_type": "code",
   "execution_count": null,
   "metadata": {
    "ExecuteTime": {
     "end_time": "2019-10-04T16:28:44.684938Z",
     "start_time": "2019-10-04T16:28:43.689087Z"
    }
   },
   "outputs": [],
   "source": [
    "from sklearn.decomposition import PCA\n",
    "\n",
    "x, y = ([], [])\n",
    "for i in range(1, 24, 1):\n",
    "    XX = PCA(n_components=i).fit_transform(X_train_c)\n",
    "    g = GaussianNB().fit(XX, y_train)\n",
    "    x.append(i)\n",
    "    y.append(cross_val_score(g, XX, y_train, cv=gkf_c, n_jobs=8).mean())\n",
    "\n",
    "fig, ax = plt.subplots()\n",
    "ax.plot(x, y)\n",
    "ax.set_title(\"PCA attributes for NB classifier\")\n",
    "ax.axvline(y.index(max(y))+1, c=\"red\")\n",
    "plt.show()\n",
    "\n",
    "print(\"Best value {:0.4f} with k={}.\".format(max(y), x[y.index(max(y))]))"
   ]
  },
  {
   "cell_type": "markdown",
   "metadata": {
    "ExecuteTime": {
     "end_time": "2019-10-03T22:14:20.883042Z",
     "start_time": "2019-10-03T22:14:20.878442Z"
    }
   },
   "source": [
    "Best value 0.7654 with k=1."
   ]
  },
  {
   "cell_type": "markdown",
   "metadata": {},
   "source": [
    "### KNeighborsClassifier – Instance-based Learning (3%)\n",
    "- Suffers from curse of dimensionality, should normalize"
   ]
  },
  {
   "cell_type": "code",
   "execution_count": 28,
   "metadata": {
    "ExecuteTime": {
     "end_time": "2019-10-04T16:39:34.572884Z",
     "start_time": "2019-10-04T16:39:08.367258Z"
    }
   },
   "outputs": [
    {
     "name": "stderr",
     "output_type": "stream",
     "text": [
      "C:\\Users\\joona\\Anaconda3\\lib\\site-packages\\sklearn\\model_selection\\_search.py:841: DeprecationWarning: The default of the `iid` parameter will change from True to False in version 0.22 and will be removed in 0.24. This will change numeric results when test-set sizes are unequal.\n",
      "  DeprecationWarning)\n"
     ]
    },
    {
     "ename": "PermissionError",
     "evalue": "[WinError 32] Prosessi ei voi käyttää tiedostoa, koska se on toisen prosessin käytössä: 'C:\\\\Users\\\\joona\\\\AppData\\\\Local\\\\Temp\\\\joblib_memmapping_folder_7540_8220141410\\\\7540-2040327231640-c4b79409a49a4884bbab3c9c17a8e9fc.pkl'",
     "output_type": "error",
     "traceback": [
      "\u001b[1;31m---------------------------------------------------------------------------\u001b[0m",
      "\u001b[1;31mPermissionError\u001b[0m                           Traceback (most recent call last)",
      "\u001b[1;32m<ipython-input-28-38a11adc5de8>\u001b[0m in \u001b[0;36m<module>\u001b[1;34m\u001b[0m\n\u001b[0;32m      9\u001b[0m \u001b[1;33m\u001b[0m\u001b[0m\n\u001b[0;32m     10\u001b[0m \u001b[0mknnclas\u001b[0m \u001b[1;33m=\u001b[0m \u001b[0mGridSearchCV\u001b[0m\u001b[1;33m(\u001b[0m\u001b[0mKNeighborsClassifier\u001b[0m\u001b[1;33m(\u001b[0m\u001b[1;33m)\u001b[0m\u001b[1;33m,\u001b[0m \u001b[0mgrid\u001b[0m\u001b[1;33m,\u001b[0m \u001b[0mcv\u001b[0m\u001b[1;33m=\u001b[0m\u001b[0mgkf_c\u001b[0m\u001b[1;33m,\u001b[0m \u001b[0mverbose\u001b[0m\u001b[1;33m=\u001b[0m\u001b[1;36m0\u001b[0m\u001b[1;33m,\u001b[0m \u001b[0mn_jobs\u001b[0m\u001b[1;33m=\u001b[0m\u001b[1;36m8\u001b[0m\u001b[1;33m)\u001b[0m\u001b[0;31m\\\u001b[0m\u001b[1;33m\u001b[0m\u001b[1;33m\u001b[0m\u001b[0m\n\u001b[1;32m---> 11\u001b[1;33m     \u001b[1;33m.\u001b[0m\u001b[0mfit\u001b[0m\u001b[1;33m(\u001b[0m\u001b[0mX_train_c\u001b[0m\u001b[1;33m,\u001b[0m \u001b[0my_train\u001b[0m\u001b[1;33m)\u001b[0m\u001b[1;33m\u001b[0m\u001b[1;33m\u001b[0m\u001b[0m\n\u001b[0m\u001b[0;32m     12\u001b[0m \u001b[0mknn_raw_score\u001b[0m \u001b[1;33m=\u001b[0m \u001b[0mknnclas\u001b[0m\u001b[1;33m.\u001b[0m\u001b[0mbest_score_\u001b[0m\u001b[1;33m.\u001b[0m\u001b[0mmean\u001b[0m\u001b[1;33m(\u001b[0m\u001b[1;33m)\u001b[0m\u001b[1;33m\u001b[0m\u001b[1;33m\u001b[0m\u001b[0m\n\u001b[0;32m     13\u001b[0m \u001b[0mprint\u001b[0m\u001b[1;33m(\u001b[0m\u001b[1;34m\"KNeighborsClassifier best score: {:0.4f} for {}.\"\u001b[0m\u001b[1;33m.\u001b[0m\u001b[0mformat\u001b[0m\u001b[1;33m(\u001b[0m\u001b[0mknnclas\u001b[0m\u001b[1;33m.\u001b[0m\u001b[0mbest_score_\u001b[0m\u001b[1;33m,\u001b[0m \u001b[0mknnclas\u001b[0m\u001b[1;33m.\u001b[0m\u001b[0mbest_params_\u001b[0m\u001b[1;33m)\u001b[0m\u001b[1;33m)\u001b[0m\u001b[1;33m\u001b[0m\u001b[1;33m\u001b[0m\u001b[0m\n",
      "\u001b[1;32m~\\Anaconda3\\lib\\site-packages\\sklearn\\model_selection\\_search.py\u001b[0m in \u001b[0;36mfit\u001b[1;34m(self, X, y, groups, **fit_params)\u001b[0m\n\u001b[0;32m    720\u001b[0m                 \u001b[1;32mreturn\u001b[0m \u001b[0mresults_container\u001b[0m\u001b[1;33m[\u001b[0m\u001b[1;36m0\u001b[0m\u001b[1;33m]\u001b[0m\u001b[1;33m\u001b[0m\u001b[1;33m\u001b[0m\u001b[0m\n\u001b[0;32m    721\u001b[0m \u001b[1;33m\u001b[0m\u001b[0m\n\u001b[1;32m--> 722\u001b[1;33m             \u001b[0mself\u001b[0m\u001b[1;33m.\u001b[0m\u001b[0m_run_search\u001b[0m\u001b[1;33m(\u001b[0m\u001b[0mevaluate_candidates\u001b[0m\u001b[1;33m)\u001b[0m\u001b[1;33m\u001b[0m\u001b[1;33m\u001b[0m\u001b[0m\n\u001b[0m\u001b[0;32m    723\u001b[0m \u001b[1;33m\u001b[0m\u001b[0m\n\u001b[0;32m    724\u001b[0m         \u001b[0mresults\u001b[0m \u001b[1;33m=\u001b[0m \u001b[0mresults_container\u001b[0m\u001b[1;33m[\u001b[0m\u001b[1;36m0\u001b[0m\u001b[1;33m]\u001b[0m\u001b[1;33m\u001b[0m\u001b[1;33m\u001b[0m\u001b[0m\n",
      "\u001b[1;32m~\\Anaconda3\\lib\\site-packages\\sklearn\\externals\\joblib\\parallel.py\u001b[0m in \u001b[0;36m__exit__\u001b[1;34m(self, exc_type, exc_value, traceback)\u001b[0m\n\u001b[0;32m    664\u001b[0m \u001b[1;33m\u001b[0m\u001b[0m\n\u001b[0;32m    665\u001b[0m     \u001b[1;32mdef\u001b[0m \u001b[0m__exit__\u001b[0m\u001b[1;33m(\u001b[0m\u001b[0mself\u001b[0m\u001b[1;33m,\u001b[0m \u001b[0mexc_type\u001b[0m\u001b[1;33m,\u001b[0m \u001b[0mexc_value\u001b[0m\u001b[1;33m,\u001b[0m \u001b[0mtraceback\u001b[0m\u001b[1;33m)\u001b[0m\u001b[1;33m:\u001b[0m\u001b[1;33m\u001b[0m\u001b[1;33m\u001b[0m\u001b[0m\n\u001b[1;32m--> 666\u001b[1;33m         \u001b[0mself\u001b[0m\u001b[1;33m.\u001b[0m\u001b[0m_terminate_backend\u001b[0m\u001b[1;33m(\u001b[0m\u001b[1;33m)\u001b[0m\u001b[1;33m\u001b[0m\u001b[1;33m\u001b[0m\u001b[0m\n\u001b[0m\u001b[0;32m    667\u001b[0m         \u001b[0mself\u001b[0m\u001b[1;33m.\u001b[0m\u001b[0m_managed_backend\u001b[0m \u001b[1;33m=\u001b[0m \u001b[1;32mFalse\u001b[0m\u001b[1;33m\u001b[0m\u001b[1;33m\u001b[0m\u001b[0m\n\u001b[0;32m    668\u001b[0m \u001b[1;33m\u001b[0m\u001b[0m\n",
      "\u001b[1;32m~\\Anaconda3\\lib\\site-packages\\sklearn\\externals\\joblib\\parallel.py\u001b[0m in \u001b[0;36m_terminate_backend\u001b[1;34m(self)\u001b[0m\n\u001b[0;32m    694\u001b[0m     \u001b[1;32mdef\u001b[0m \u001b[0m_terminate_backend\u001b[0m\u001b[1;33m(\u001b[0m\u001b[0mself\u001b[0m\u001b[1;33m)\u001b[0m\u001b[1;33m:\u001b[0m\u001b[1;33m\u001b[0m\u001b[1;33m\u001b[0m\u001b[0m\n\u001b[0;32m    695\u001b[0m         \u001b[1;32mif\u001b[0m \u001b[0mself\u001b[0m\u001b[1;33m.\u001b[0m\u001b[0m_backend\u001b[0m \u001b[1;32mis\u001b[0m \u001b[1;32mnot\u001b[0m \u001b[1;32mNone\u001b[0m\u001b[1;33m:\u001b[0m\u001b[1;33m\u001b[0m\u001b[1;33m\u001b[0m\u001b[0m\n\u001b[1;32m--> 696\u001b[1;33m             \u001b[0mself\u001b[0m\u001b[1;33m.\u001b[0m\u001b[0m_backend\u001b[0m\u001b[1;33m.\u001b[0m\u001b[0mterminate\u001b[0m\u001b[1;33m(\u001b[0m\u001b[1;33m)\u001b[0m\u001b[1;33m\u001b[0m\u001b[1;33m\u001b[0m\u001b[0m\n\u001b[0m\u001b[0;32m    697\u001b[0m \u001b[1;33m\u001b[0m\u001b[0m\n\u001b[0;32m    698\u001b[0m     \u001b[1;32mdef\u001b[0m \u001b[0m_dispatch\u001b[0m\u001b[1;33m(\u001b[0m\u001b[0mself\u001b[0m\u001b[1;33m,\u001b[0m \u001b[0mbatch\u001b[0m\u001b[1;33m)\u001b[0m\u001b[1;33m:\u001b[0m\u001b[1;33m\u001b[0m\u001b[1;33m\u001b[0m\u001b[0m\n",
      "\u001b[1;32m~\\Anaconda3\\lib\\site-packages\\sklearn\\externals\\joblib\\_parallel_backends.py\u001b[0m in \u001b[0;36mterminate\u001b[1;34m(self)\u001b[0m\n\u001b[0;32m    528\u001b[0m             \u001b[1;31m# in latter calls but we free as much memory as we can by deleting\u001b[0m\u001b[1;33m\u001b[0m\u001b[1;33m\u001b[0m\u001b[1;33m\u001b[0m\u001b[0m\n\u001b[0;32m    529\u001b[0m             \u001b[1;31m# the shared memory\u001b[0m\u001b[1;33m\u001b[0m\u001b[1;33m\u001b[0m\u001b[1;33m\u001b[0m\u001b[0m\n\u001b[1;32m--> 530\u001b[1;33m             \u001b[0mdelete_folder\u001b[0m\u001b[1;33m(\u001b[0m\u001b[0mself\u001b[0m\u001b[1;33m.\u001b[0m\u001b[0m_workers\u001b[0m\u001b[1;33m.\u001b[0m\u001b[0m_temp_folder\u001b[0m\u001b[1;33m)\u001b[0m\u001b[1;33m\u001b[0m\u001b[1;33m\u001b[0m\u001b[0m\n\u001b[0m\u001b[0;32m    531\u001b[0m             \u001b[0mself\u001b[0m\u001b[1;33m.\u001b[0m\u001b[0m_workers\u001b[0m \u001b[1;33m=\u001b[0m \u001b[1;32mNone\u001b[0m\u001b[1;33m\u001b[0m\u001b[1;33m\u001b[0m\u001b[0m\n\u001b[0;32m    532\u001b[0m \u001b[1;33m\u001b[0m\u001b[0m\n",
      "\u001b[1;32m~\\Anaconda3\\lib\\site-packages\\sklearn\\externals\\joblib\\disk.py\u001b[0m in \u001b[0;36mdelete_folder\u001b[1;34m(folder_path, onerror)\u001b[0m\n\u001b[0;32m    113\u001b[0m             \u001b[1;32mwhile\u001b[0m \u001b[1;32mTrue\u001b[0m\u001b[1;33m:\u001b[0m\u001b[1;33m\u001b[0m\u001b[1;33m\u001b[0m\u001b[0m\n\u001b[0;32m    114\u001b[0m                 \u001b[1;32mtry\u001b[0m\u001b[1;33m:\u001b[0m\u001b[1;33m\u001b[0m\u001b[1;33m\u001b[0m\u001b[0m\n\u001b[1;32m--> 115\u001b[1;33m                     \u001b[0mshutil\u001b[0m\u001b[1;33m.\u001b[0m\u001b[0mrmtree\u001b[0m\u001b[1;33m(\u001b[0m\u001b[0mfolder_path\u001b[0m\u001b[1;33m,\u001b[0m \u001b[1;32mFalse\u001b[0m\u001b[1;33m,\u001b[0m \u001b[1;32mNone\u001b[0m\u001b[1;33m)\u001b[0m\u001b[1;33m\u001b[0m\u001b[1;33m\u001b[0m\u001b[0m\n\u001b[0m\u001b[0;32m    116\u001b[0m                     \u001b[1;32mbreak\u001b[0m\u001b[1;33m\u001b[0m\u001b[1;33m\u001b[0m\u001b[0m\n\u001b[0;32m    117\u001b[0m                 \u001b[1;32mexcept\u001b[0m \u001b[1;33m(\u001b[0m\u001b[0mOSError\u001b[0m\u001b[1;33m,\u001b[0m \u001b[0mWindowsError\u001b[0m\u001b[1;33m)\u001b[0m\u001b[1;33m:\u001b[0m\u001b[1;33m\u001b[0m\u001b[1;33m\u001b[0m\u001b[0m\n",
      "\u001b[1;32m~\\Anaconda3\\lib\\shutil.py\u001b[0m in \u001b[0;36mrmtree\u001b[1;34m(path, ignore_errors, onerror)\u001b[0m\n\u001b[0;32m    498\u001b[0m             \u001b[0mos\u001b[0m\u001b[1;33m.\u001b[0m\u001b[0mclose\u001b[0m\u001b[1;33m(\u001b[0m\u001b[0mfd\u001b[0m\u001b[1;33m)\u001b[0m\u001b[1;33m\u001b[0m\u001b[1;33m\u001b[0m\u001b[0m\n\u001b[0;32m    499\u001b[0m     \u001b[1;32melse\u001b[0m\u001b[1;33m:\u001b[0m\u001b[1;33m\u001b[0m\u001b[1;33m\u001b[0m\u001b[0m\n\u001b[1;32m--> 500\u001b[1;33m         \u001b[1;32mreturn\u001b[0m \u001b[0m_rmtree_unsafe\u001b[0m\u001b[1;33m(\u001b[0m\u001b[0mpath\u001b[0m\u001b[1;33m,\u001b[0m \u001b[0monerror\u001b[0m\u001b[1;33m)\u001b[0m\u001b[1;33m\u001b[0m\u001b[1;33m\u001b[0m\u001b[0m\n\u001b[0m\u001b[0;32m    501\u001b[0m \u001b[1;33m\u001b[0m\u001b[0m\n\u001b[0;32m    502\u001b[0m \u001b[1;31m# Allow introspection of whether or not the hardening against symlink\u001b[0m\u001b[1;33m\u001b[0m\u001b[1;33m\u001b[0m\u001b[1;33m\u001b[0m\u001b[0m\n",
      "\u001b[1;32m~\\Anaconda3\\lib\\shutil.py\u001b[0m in \u001b[0;36m_rmtree_unsafe\u001b[1;34m(path, onerror)\u001b[0m\n\u001b[0;32m    393\u001b[0m                 \u001b[0mos\u001b[0m\u001b[1;33m.\u001b[0m\u001b[0munlink\u001b[0m\u001b[1;33m(\u001b[0m\u001b[0mfullname\u001b[0m\u001b[1;33m)\u001b[0m\u001b[1;33m\u001b[0m\u001b[1;33m\u001b[0m\u001b[0m\n\u001b[0;32m    394\u001b[0m             \u001b[1;32mexcept\u001b[0m \u001b[0mOSError\u001b[0m\u001b[1;33m:\u001b[0m\u001b[1;33m\u001b[0m\u001b[1;33m\u001b[0m\u001b[0m\n\u001b[1;32m--> 395\u001b[1;33m                 \u001b[0monerror\u001b[0m\u001b[1;33m(\u001b[0m\u001b[0mos\u001b[0m\u001b[1;33m.\u001b[0m\u001b[0munlink\u001b[0m\u001b[1;33m,\u001b[0m \u001b[0mfullname\u001b[0m\u001b[1;33m,\u001b[0m \u001b[0msys\u001b[0m\u001b[1;33m.\u001b[0m\u001b[0mexc_info\u001b[0m\u001b[1;33m(\u001b[0m\u001b[1;33m)\u001b[0m\u001b[1;33m)\u001b[0m\u001b[1;33m\u001b[0m\u001b[1;33m\u001b[0m\u001b[0m\n\u001b[0m\u001b[0;32m    396\u001b[0m     \u001b[1;32mtry\u001b[0m\u001b[1;33m:\u001b[0m\u001b[1;33m\u001b[0m\u001b[1;33m\u001b[0m\u001b[0m\n\u001b[0;32m    397\u001b[0m         \u001b[0mos\u001b[0m\u001b[1;33m.\u001b[0m\u001b[0mrmdir\u001b[0m\u001b[1;33m(\u001b[0m\u001b[0mpath\u001b[0m\u001b[1;33m)\u001b[0m\u001b[1;33m\u001b[0m\u001b[1;33m\u001b[0m\u001b[0m\n",
      "\u001b[1;32m~\\Anaconda3\\lib\\shutil.py\u001b[0m in \u001b[0;36m_rmtree_unsafe\u001b[1;34m(path, onerror)\u001b[0m\n\u001b[0;32m    391\u001b[0m         \u001b[1;32melse\u001b[0m\u001b[1;33m:\u001b[0m\u001b[1;33m\u001b[0m\u001b[1;33m\u001b[0m\u001b[0m\n\u001b[0;32m    392\u001b[0m             \u001b[1;32mtry\u001b[0m\u001b[1;33m:\u001b[0m\u001b[1;33m\u001b[0m\u001b[1;33m\u001b[0m\u001b[0m\n\u001b[1;32m--> 393\u001b[1;33m                 \u001b[0mos\u001b[0m\u001b[1;33m.\u001b[0m\u001b[0munlink\u001b[0m\u001b[1;33m(\u001b[0m\u001b[0mfullname\u001b[0m\u001b[1;33m)\u001b[0m\u001b[1;33m\u001b[0m\u001b[1;33m\u001b[0m\u001b[0m\n\u001b[0m\u001b[0;32m    394\u001b[0m             \u001b[1;32mexcept\u001b[0m \u001b[0mOSError\u001b[0m\u001b[1;33m:\u001b[0m\u001b[1;33m\u001b[0m\u001b[1;33m\u001b[0m\u001b[0m\n\u001b[0;32m    395\u001b[0m                 \u001b[0monerror\u001b[0m\u001b[1;33m(\u001b[0m\u001b[0mos\u001b[0m\u001b[1;33m.\u001b[0m\u001b[0munlink\u001b[0m\u001b[1;33m,\u001b[0m \u001b[0mfullname\u001b[0m\u001b[1;33m,\u001b[0m \u001b[0msys\u001b[0m\u001b[1;33m.\u001b[0m\u001b[0mexc_info\u001b[0m\u001b[1;33m(\u001b[0m\u001b[1;33m)\u001b[0m\u001b[1;33m)\u001b[0m\u001b[1;33m\u001b[0m\u001b[1;33m\u001b[0m\u001b[0m\n",
      "\u001b[1;31mPermissionError\u001b[0m: [WinError 32] Prosessi ei voi käyttää tiedostoa, koska se on toisen prosessin käytössä: 'C:\\\\Users\\\\joona\\\\AppData\\\\Local\\\\Temp\\\\joblib_memmapping_folder_7540_8220141410\\\\7540-2040327231640-c4b79409a49a4884bbab3c9c17a8e9fc.pkl'"
     ]
    }
   ],
   "source": [
    "from sklearn.neighbors import KNeighborsClassifier\n",
    "from sklearn.model_selection import GridSearchCV\n",
    "import numpy as np\n",
    "\n",
    "grid = {'n_neighbors': np.arange(1, 15),\n",
    "        'algorithm': [\"auto\", \"ball_tree\", \"kd_tree\", \"brute\"],\n",
    "        'weights': [\"uniform\", \"distance\"],\n",
    "        'leaf_size': np.arange(2, 40, 5)}\n",
    "\n",
    "knnclas = GridSearchCV(KNeighborsClassifier(), grid, cv=gkf_c, verbose=0, n_jobs=8)\\\n",
    "    .fit(X_train_c, y_train)\n",
    "knn_raw_score = knnclas.best_score_.mean()\n",
    "print(\"KNeighborsClassifier best score: {:0.4f} for {}.\".format(knnclas.best_score_, knnclas.best_params_))"
   ]
  },
  {
   "cell_type": "markdown",
   "metadata": {},
   "source": [
    "KNeighborsClassifier best score: 0.7477351916376307 for {'algorithm': 'auto', 'leaf_size': 2, 'n_neighbors': 5, 'weights': 'uniform'}."
   ]
  },
  {
   "cell_type": "markdown",
   "metadata": {},
   "source": [
    "##### Normalized data"
   ]
  },
  {
   "cell_type": "code",
   "execution_count": null,
   "metadata": {
    "ExecuteTime": {
     "end_time": "2019-10-04T16:41:24.958071Z",
     "start_time": "2019-10-04T16:40:39.138918Z"
    }
   },
   "outputs": [],
   "source": [
    "from sklearn.neighbors import KNeighborsClassifier\n",
    "from sklearn.model_selection import GridSearchCV\n",
    "import numpy as np\n",
    "\n",
    "grid = {'n_neighbors': np.arange(1, 15),\n",
    "        'algorithm': [\"auto\", \"ball_tree\", \"kd_tree\", \"brute\"],\n",
    "        'weights': [\"uniform\", \"distance\"],\n",
    "        'leaf_size': np.arange(2, 40, 5)}\n",
    "\n",
    "knnclas = GridSearchCV(KNeighborsClassifier(), grid, cv=gkf_n, verbose=0, n_jobs=8)\\\n",
    "    .fit(X_train_n, y_train)\n",
    "knn_normal_score = knnclas.best_score_.mean()\n",
    "print(\"KNeighborsClassifier best score: {:0.4f} for {}.\".format(knnclas.best_score_, knnclas.best_params_))"
   ]
  },
  {
   "cell_type": "markdown",
   "metadata": {},
   "source": [
    "KNeighborsClassifier best score: 0.7511961722488039 for {'algorithm': 'auto', 'leaf_size': 2, 'n_neighbors': 13, 'weights': 'uniform'}."
   ]
  },
  {
   "cell_type": "markdown",
   "metadata": {},
   "source": [
    "##### Standardized data"
   ]
  },
  {
   "cell_type": "code",
   "execution_count": null,
   "metadata": {
    "ExecuteTime": {
     "end_time": "2019-10-04T16:43:57.558558Z",
     "start_time": "2019-10-04T16:42:41.256069Z"
    }
   },
   "outputs": [],
   "source": [
    "from sklearn.neighbors import KNeighborsClassifier\n",
    "from sklearn.model_selection import GridSearchCV\n",
    "import numpy as np\n",
    "\n",
    "grid = {'n_neighbors': np.arange(1, 15),\n",
    "        'algorithm': [\"auto\", \"kd_tree\"], # \"ball_tree\", \"brute\"\n",
    "        'weights': [\"uniform\", \"distance\"],\n",
    "        'leaf_size': np.arange(2, 40, 5)}\n",
    "\n",
    "knnclas = GridSearchCV(KNeighborsClassifier(), grid, cv=gkf_s, verbose=0, n_jobs=8)\\\n",
    "    .fit(X_train_s, y_train)\n",
    "knn_standard_score = knnclas.best_score_.mean()\n",
    "print(\"KNeighborsClassifier best score: {:0.4f} for {}.\".format(knnclas.best_score_, knnclas.best_params_))"
   ]
  },
  {
   "cell_type": "markdown",
   "metadata": {},
   "source": [
    "KNeighborsClassifier best score: 0.8229665071770335 for {'algorithm': 'auto', 'leaf_size': 2, 'n_neighbors': 14, 'weights': 'uniform'}."
   ]
  },
  {
   "cell_type": "code",
   "execution_count": null,
   "metadata": {
    "ExecuteTime": {
     "end_time": "2019-10-04T17:10:25.632564Z",
     "start_time": "2019-10-04T17:10:25.453005Z"
    }
   },
   "outputs": [],
   "source": [
    "scores = [knn_raw_score, knn_normal_score, knn_standard_score]\n",
    "knn_scores = pd.DataFrame(scores, index=[\"raw data\", \"normalised data\", \"standardised data\"]).plot(kind=\"bar\")\n",
    "plt.show()\n",
    "\n",
    "# Save the best score\n",
    "results[\"KNeighborsClassifier\"] = max(scores)"
   ]
  },
  {
   "cell_type": "markdown",
   "metadata": {},
   "source": [
    "if not normalized, it would take in mind the biggest values"
   ]
  },
  {
   "cell_type": "markdown",
   "metadata": {},
   "source": [
    "### DecisionTreeClassifier - Decision Trees (5%)"
   ]
  },
  {
   "cell_type": "code",
   "execution_count": null,
   "metadata": {
    "ExecuteTime": {
     "end_time": "2019-10-04T16:45:17.045245Z",
     "start_time": "2019-10-04T16:44:57.979603Z"
    }
   },
   "outputs": [],
   "source": [
    "from sklearn.tree import DecisionTreeClassifier\n",
    "from sklearn.model_selection import GridSearchCV\n",
    "import numpy as np\n",
    "\n",
    "grid = {'criterion': ['gini'],\n",
    "        'min_samples_split' : np.arange(3, 15, 2),\n",
    "        'min_samples_leaf' : np.arange(3, 5, 1),\n",
    "        'max_depth': np.arange(4, 12, 1)}\n",
    "\n",
    "dtc = GridSearchCV(DecisionTreeClassifier(), grid, cv=gkf_c, verbose=0, n_jobs=8).fit(X_train_c, y_train)\n",
    "results[\"DecisionTreeClassifier\"] = dtc.best_score_.mean()\n",
    "print(\"DecisionTreeClassifier best score: {:0.4f} for {}.\".format(dtc.best_score_.mean(), dtc.best_params_))"
   ]
  },
  {
   "cell_type": "markdown",
   "metadata": {},
   "source": [
    "DecisionTreeClassifier best score: 0.7831 for {'criterion': 'gini', 'max_depth': 5, 'min_samples_leaf': 3, 'min_samples_split': 9}."
   ]
  },
  {
   "cell_type": "markdown",
   "metadata": {},
   "source": [
    "### RandomForestClassifier - Random Forests (5%)"
   ]
  },
  {
   "cell_type": "code",
   "execution_count": null,
   "metadata": {
    "ExecuteTime": {
     "end_time": "2019-10-04T16:49:00.215292Z",
     "start_time": "2019-10-04T16:48:10.610561Z"
    }
   },
   "outputs": [],
   "source": [
    "from sklearn.ensemble import RandomForestClassifier\n",
    "from sklearn.model_selection import GridSearchCV\n",
    "\n",
    "grid = {'max_features' : np.arange(5, 9, 2),\n",
    "        'n_estimators' : np.arange(30, 120, 30),\n",
    "        'max_depth': np.arange(6, 13, 1),\n",
    "        'min_samples_leaf': np.arange(1, 4, 1),\n",
    "        'min_samples_split': np.arange(0.001, 0.3, 0.1)}\n",
    "\n",
    "randf = GridSearchCV(RandomForestClassifier(), grid, cv=gkf_c, verbose=0, n_jobs=8).fit(X_train_c, y_train)\n",
    "results[\"RandomForestClassifier\"] = randf.best_score_.mean()\n",
    "print(\"RandomForestClassifier best score: {:0.4f} for {}.\".format(randf.best_score_.mean(), randf.best_params_))"
   ]
  },
  {
   "cell_type": "markdown",
   "metadata": {},
   "source": [
    "RandomForestClassifier best score: 0.8389 for {'max_depth': 11, 'max_features': 5, 'min_samples_leaf': 1, 'min_samples_split': 0.001, 'n_estimators': 90}."
   ]
  },
  {
   "cell_type": "markdown",
   "metadata": {
    "ExecuteTime": {
     "end_time": "2019-10-03T15:25:50.490703Z",
     "start_time": "2019-10-03T15:25:50.487843Z"
    }
   },
   "source": [
    "### XGBClassifier - XGBoost (5%)"
   ]
  },
  {
   "cell_type": "code",
   "execution_count": null,
   "metadata": {
    "ExecuteTime": {
     "end_time": "2019-10-04T17:00:06.024818Z",
     "start_time": "2019-10-04T16:49:00.218301Z"
    }
   },
   "outputs": [],
   "source": [
    "from xgboost import XGBClassifier\n",
    "from sklearn.model_selection import KFold, cross_val_score, GridSearchCV\n",
    "\n",
    "grid = {\"learning_rate\": [0.15, 0.2, 5],\n",
    "        \"max_depth\": [7, 8, 9],\n",
    "        \"min_child_weight\": [1, 2, 3],\n",
    "        \"gamma\": [0.0, 0.025, 0.5],\n",
    "        \"colsample_bytree\": [0.65, 0.7, 0.75]}\n",
    "\n",
    "xgbclas = GridSearchCV(XGBClassifier(), grid, cv=gkf_c, verbose=0, n_jobs=8).fit(X_train_c, y_train)\n",
    "print(\"XGBClassifier best score: {:0.4f} for {}.\".format(xgbclas.best_score_.mean(), xgbclas.best_params_))\n",
    "results[\"XGBClassifier\"] = xgbclas.best_score_.mean()"
   ]
  },
  {
   "cell_type": "markdown",
   "metadata": {},
   "source": [
    "XGBClassifier best score: 0.8421 for {'colsample_bytree': 0.75, 'gamma': 0.5, 'learning_rate': 0.15, 'max_depth': 9, 'min_child_weight': 3}."
   ]
  },
  {
   "cell_type": "markdown",
   "metadata": {},
   "source": [
    "## Select the best classifier"
   ]
  },
  {
   "cell_type": "code",
   "execution_count": null,
   "metadata": {
    "ExecuteTime": {
     "end_time": "2019-10-04T17:09:48.272886Z",
     "start_time": "2019-10-04T17:09:48.269769Z"
    }
   },
   "outputs": [],
   "source": [
    "import matplotlib\n",
    "cm = matplotlib.cm.get_cmap(\"Accent\")"
   ]
  },
  {
   "cell_type": "code",
   "execution_count": null,
   "metadata": {
    "ExecuteTime": {
     "end_time": "2019-10-04T17:09:48.804751Z",
     "start_time": "2019-10-04T17:09:48.612977Z"
    }
   },
   "outputs": [],
   "source": [
    "import matplotlib.pyplot as plt\n",
    "\n",
    "plt.ylim(bottom=0.65, top=1)\n",
    "plt.bar(range(len(results)), list(results.values()), align='center', color=cm(np.linspace(0, 1, len(results))))\n",
    "plt.xticks(range(len(results)), list(results.keys()), rotation=\"vertical\")\n",
    "plt.grid()\n",
    "plt.show()"
   ]
  },
  {
   "cell_type": "markdown",
   "metadata": {},
   "source": [
    "# Unused stuff\n",
    "\n",
    "---\n",
    "---\n",
    "---"
   ]
  },
  {
   "cell_type": "raw",
   "metadata": {},
   "source": [
    "### Other classifiers"
   ]
  },
  {
   "cell_type": "raw",
   "metadata": {},
   "source": [
    "#### MLPClassifier"
   ]
  },
  {
   "cell_type": "raw",
   "metadata": {
    "ExecuteTime": {
     "end_time": "2019-09-26T19:25:17.248770Z",
     "start_time": "2019-09-26T19:24:29.163933Z"
    }
   },
   "source": [
    "from sklearn.neural_network import MLPClassifier\n",
    "from sklearn.model_selection import GridSearchCV\n",
    "import itertools\n",
    "\n",
    "grid = {\"hidden_layer_sizes\": [(3,), (5,), (7,), (6, 6), (7,7), (10, 7, 4), (7, 7, 7), (12, 12, 12), (12, 4, 12, 12), (10, 9, 8)],\n",
    "        \"activation\": [\"relu\"],\n",
    "        \"max_iter\": [1000],\n",
    "       }\n",
    "\n",
    "mlpercp = GridSearchCV(MLPClassifier(), grid, cv=5, verbose=v, n_jobs=8).fit(X_merge, y_merge)\n",
    "results[\"MLPClassifier\"] = mlpercp.best_score_.mean()\n",
    "print(\"MLPClassifier best score: {} for {}.\".format(mlpercp.best_score_.mean(), mlpercp.best_params_))"
   ]
  },
  {
   "cell_type": "raw",
   "metadata": {},
   "source": [
    "MLPClassifier best score: 0.7476635514018691 for {'activation': 'relu', 'hidden_layer_sizes': (10, 7, 4), 'max_iter': 1000}."
   ]
  },
  {
   "cell_type": "raw",
   "metadata": {
    "ExecuteTime": {
     "end_time": "2019-09-26T15:12:27.684759Z",
     "start_time": "2019-09-26T15:12:27.681674Z"
    }
   },
   "source": [
    "#### TPOTClassifier"
   ]
  },
  {
   "cell_type": "raw",
   "metadata": {
    "ExecuteTime": {
     "end_time": "2019-09-26T19:55:47.134415Z",
     "start_time": "2019-09-26T19:25:17.251207Z"
    }
   },
   "source": [
    "from tpot import TPOTClassifier\n",
    "\n",
    "tpot = TPOTClassifier(generations=5, population_size=40, random_state=42, verbosity=2, n_jobs=8, cv=5).fit(X_merge, y_merge)"
   ]
  },
  {
   "cell_type": "raw",
   "metadata": {},
   "source": [
    "Best pipeline: RandomForestClassifier(input_matrix, bootstrap=False, criterion=entropy, max_features=0.4, min_samples_leaf=12, min_samples_split=3, n_estimators=100)"
   ]
  },
  {
   "cell_type": "raw",
   "metadata": {
    "ExecuteTime": {
     "end_time": "2019-09-26T20:42:51.482692Z",
     "start_time": "2019-09-26T20:42:51.476193Z"
    }
   },
   "source": [
    "best_cv = 0\n",
    "best_classifier = None\n",
    "\n",
    "for key, value in tpot.evaluated_individuals_.items():\n",
    "    if value[\"internal_cv_score\"] > best_cv:\n",
    "        best_cv = value[\"internal_cv_score\"]\n",
    "        best_classifier = (key, value)\n",
    "\n",
    "# pipeline_optimizer.export('tpot_exported_pipeline.py')\n",
    "results[\"TPOTClassifier\"] = best_classifier[1][\"internal_cv_score\"]\n",
    "print(\"TPOTClassifier score: {}\".format(best_classifier[1][\"internal_cv_score\"]))"
   ]
  }
 ],
 "metadata": {
  "kernelspec": {
   "display_name": "Python 3",
   "language": "python",
   "name": "python3"
  },
  "language_info": {
   "codemirror_mode": {
    "name": "ipython",
    "version": 3
   },
   "file_extension": ".py",
   "mimetype": "text/x-python",
   "name": "python",
   "nbconvert_exporter": "python",
   "pygments_lexer": "ipython3",
   "version": "3.6.9"
  }
 },
 "nbformat": 4,
 "nbformat_minor": 2
}
